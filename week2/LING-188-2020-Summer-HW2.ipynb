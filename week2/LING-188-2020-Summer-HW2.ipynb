{
 "cells": [
  {
   "cell_type": "markdown",
   "metadata": {},
   "source": [
    "**Replace the blanks with your full name and collaborators (if any)**\n",
    "\n",
    "Student Name `________________`\n",
    "Collaborator(s) `________________` "
   ]
  },
  {
   "cell_type": "markdown",
   "metadata": {},
   "source": [
    "# Homework 2: Working with TIMIT\n",
    "This assignment is due on **Sunday, July 19th, by 5pm**. Remember to acknowledge above if you collaborated on this assignment with other students.\n",
    "\n",
    "This assignment has 20 points and is worth 7% of your final grade (i.e., it is one of five equally-weighted homework assignments totalling 35% of your grade)."
   ]
  },
  {
   "cell_type": "markdown",
   "metadata": {},
   "source": [
    "## Introduction\n",
    "[TIMIT](https://en.wikipedia.org/wiki/TIMIT) is a database of speech recorded during telephone conversations in different varieties of American English. This database is specifically designed for phonetics and speech recognition research. For more information, visit [their website](https://catalog.ldc.upenn.edu/LDC93S1) (Garofolo et al. 1993). In this homework assignment, you will use TIMIT data to visualize vowel formants from around the country."
   ]
  },
  {
   "cell_type": "markdown",
   "metadata": {},
   "source": [
    "## 0. Set up the notebook (1 pt)\n",
    "Run the cell below. (1 pt)"
   ]
  },
  {
   "cell_type": "code",
   "execution_count": null,
   "metadata": {},
   "outputs": [],
   "source": [
    "# run this cell; don't worry about what it does yet.\n",
    "from datascience import *\n",
    "import numpy as np\n",
    "import seaborn as sns\n",
    "import matplotlib.pyplot as plt\n",
    "sns.set_style('darkgrid')\n",
    "%matplotlib inline"
   ]
  },
  {
   "cell_type": "markdown",
   "metadata": {},
   "source": [
    "## 1. Read in data (3 pts)\n",
    "a. Read in the TIMIT database (from the file \"wk2-timit.csv\") as a `Table` and name this object `t`. (1 pt)"
   ]
  },
  {
   "cell_type": "code",
   "execution_count": null,
   "metadata": {},
   "outputs": [],
   "source": [
    "# write your code here\n",
    "t = Table.read_table('wk2-timit.csv')"
   ]
  },
  {
   "cell_type": "markdown",
   "metadata": {},
   "source": [
    "b. Print the columns in this table. (1 pt)"
   ]
  },
  {
   "cell_type": "code",
   "execution_count": null,
   "metadata": {},
   "outputs": [],
   "source": [
    "# write your code here"
   ]
  },
  {
   "cell_type": "markdown",
   "metadata": {},
   "source": [
    "c. In your own words, explain what F1 and F2 are. (1 pt)"
   ]
  },
  {
   "cell_type": "markdown",
   "metadata": {},
   "source": [
    "*Write your long answer here.*"
   ]
  },
  {
   "cell_type": "markdown",
   "metadata": {},
   "source": [
    "## 2. Group the data (3 pts)"
   ]
  },
  {
   "cell_type": "markdown",
   "metadata": {},
   "source": [
    "a. Create a table called `group` that groups the TIMIT data by speaker and region, and then create a table called `group2` that groups the first `group` table by region. (1 pt)"
   ]
  },
  {
   "cell_type": "code",
   "execution_count": null,
   "metadata": {},
   "outputs": [],
   "source": [
    "# write your code here"
   ]
  },
  {
   "cell_type": "markdown",
   "metadata": {},
   "source": [
    "b. For each of the 8 regions, determine the number of speakers in the TIMIT corpus. (1 pt)"
   ]
  },
  {
   "cell_type": "markdown",
   "metadata": {},
   "source": [
    "*In Region 1, there are `___` speakers. <br/>\n",
    "In Region 2, there are `___` speakers. <br/>\n",
    "etc.*"
   ]
  },
  {
   "cell_type": "markdown",
   "metadata": {},
   "source": [
    "c. Use `np.mean()` to determine the average number of speakers per region, rounded to the nearest whole number."
   ]
  },
  {
   "cell_type": "code",
   "execution_count": null,
   "metadata": {},
   "outputs": [],
   "source": [
    "# write your code here"
   ]
  },
  {
   "cell_type": "markdown",
   "metadata": {},
   "source": [
    "On average, each region in the TIMIT database has `___` speakers. (1 pt)"
   ]
  },
  {
   "cell_type": "markdown",
   "metadata": {},
   "source": [
    "## 3. Visualize the data (6 pts)"
   ]
  },
  {
   "cell_type": "markdown",
   "metadata": {},
   "source": [
    "a. Run the cell below to create a Table called `ipa`. Use `.join()` to join this table to `t`. Assign it to a new variable, `j`. (1 pt)"
   ]
  },
  {
   "cell_type": "code",
   "execution_count": null,
   "metadata": {},
   "outputs": [],
   "source": [
    "ipa = Table().with_columns(\n",
    "    'vowel', make_array('AA','AE','AH','AO','EH','ER','EY','IH','IY','OW','UH','UW'),\n",
    "    'vowel_IPA', make_array('a','æ','ʌ','ɔ','ɛ','ɚ','eɪ','ɪ','i','oʊ','ʊ','u'))"
   ]
  },
  {
   "cell_type": "code",
   "execution_count": null,
   "metadata": {},
   "outputs": [],
   "source": [
    "# write your code here"
   ]
  },
  {
   "cell_type": "markdown",
   "metadata": {},
   "source": [
    "b. Split your table `j` into two separate tables based off of the values in the `gender` column. (1 pt)"
   ]
  },
  {
   "cell_type": "code",
   "execution_count": null,
   "metadata": {},
   "outputs": [],
   "source": [
    "# write your code here"
   ]
  },
  {
   "cell_type": "markdown",
   "metadata": {},
   "source": [
    "c. Create a distribution plot for the F2 values of the male speakers. (1 pt)"
   ]
  },
  {
   "cell_type": "code",
   "execution_count": null,
   "metadata": {},
   "outputs": [],
   "source": [
    "# write your code here"
   ]
  },
  {
   "cell_type": "markdown",
   "metadata": {},
   "source": [
    "d. Create a distribution plot that includes F2 values of male and female speakers. Include the following:\n",
    "- labels for each data source (i.e., a legend)\n",
    "- x-axis label\n",
    "- y-axis label\n",
    "- plot title (2 pts)"
   ]
  },
  {
   "cell_type": "code",
   "execution_count": null,
   "metadata": {},
   "outputs": [],
   "source": [
    "# write your code here"
   ]
  },
  {
   "cell_type": "markdown",
   "metadata": {},
   "source": [
    "e. Which group, male or female, has generally higher F2 values?"
   ]
  },
  {
   "cell_type": "markdown",
   "metadata": {},
   "source": [
    "*Write your answer here.* (1 pt)"
   ]
  },
  {
   "cell_type": "markdown",
   "metadata": {},
   "source": [
    "## 4. Compare vowel plots (7 pts)"
   ]
  },
  {
   "cell_type": "markdown",
   "metadata": {},
   "source": [
    "a. Run the cell below. (1 pt)"
   ]
  },
  {
   "cell_type": "code",
   "execution_count": null,
   "metadata": {},
   "outputs": [],
   "source": [
    "def plot_blank_vowel_chart():\n",
    "    im = plt.imread('blankvowel.png')\n",
    "    plt.imshow(im, extent=(plt.xlim()[0], plt.xlim()[1], plt.ylim()[0], plt.ylim()[1]))\n",
    "\n",
    "def plot_vowel_space(avgs_df):\n",
    "    plt.figure(figsize=(10, 8))\n",
    "    plt.gca().invert_yaxis()\n",
    "    plt.gca().invert_xaxis()\n",
    "    \n",
    "    vowels = ['a','æ','ʌ','ɔ','ɛ','ɚ','eɪ','ɪ','i','oʊ','ʊ','u']\n",
    "    \n",
    "    for i in range(avgs_df.num_rows):\n",
    "        plt.scatter(avgs_df.column('F2')[i], avgs_df.column('F1')[i], marker=r\"$ {} $\".format(vowels[i]), s=1000)\n",
    "        \n",
    "    plt.ylabel('F1')\n",
    "    plt.xlabel('F2')"
   ]
  },
  {
   "cell_type": "markdown",
   "metadata": {},
   "source": [
    "b. Choose two of the TIMIT regions and create two tables for male and female speakers from that region. You should have four demographics (male and female from two regions), and four corresponding tables. (1 pt)"
   ]
  },
  {
   "cell_type": "code",
   "execution_count": null,
   "metadata": {},
   "outputs": [],
   "source": [
    "# write your code here"
   ]
  },
  {
   "cell_type": "markdown",
   "metadata": {},
   "source": [
    "c. Summarize the F1 and F2 values for each vowel in each table using `np.mean()`. Create 4 summary tables, one for each demographic. Each table should have one row per vowel and separate columns for mean values of F1 and F2. (1 pt)"
   ]
  },
  {
   "cell_type": "code",
   "execution_count": null,
   "metadata": {},
   "outputs": [],
   "source": [
    "# write your code here"
   ]
  },
  {
   "cell_type": "markdown",
   "metadata": {},
   "source": [
    "d. Plot the Vowel Space (F1 and F2) for all four demographics. Add descriptive titles and axis labels to each plot. (2 pts)"
   ]
  },
  {
   "cell_type": "code",
   "execution_count": null,
   "metadata": {},
   "outputs": [],
   "source": [
    "# write your code here"
   ]
  },
  {
   "cell_type": "markdown",
   "metadata": {},
   "source": [
    "e. Qualitatively describe any differences you see between the four plots. There are no wrong answers to this question; just observe any and all of the patterns you can find."
   ]
  },
  {
   "cell_type": "markdown",
   "metadata": {},
   "source": [
    "*Write your long answer here.* (2 pts)"
   ]
  },
  {
   "cell_type": "markdown",
   "metadata": {},
   "source": [
    "## 5. Submit\n",
    "That's it! Be sure to:\n",
    "\n",
    "- save your progress in this notebook\n",
    "- download it to your machine (`File --> Download As --> Notebook (.ipynb)`)\n",
    "- title the document as `HW2_LastName` (e.g. `HW2_Cheng.ipynb`)\n",
    "- turn it in by uploading it to 'Assignments' on bCourses."
   ]
  }
 ],
 "metadata": {
  "anaconda-cloud": {},
  "kernelspec": {
   "display_name": "Python 3",
   "language": "python",
   "name": "python3"
  },
  "language_info": {
   "codemirror_mode": {
    "name": "ipython",
    "version": 3
   },
   "file_extension": ".py",
   "mimetype": "text/x-python",
   "name": "python",
   "nbconvert_exporter": "python",
   "pygments_lexer": "ipython3",
   "version": "3.6.9"
  }
 },
 "nbformat": 4,
 "nbformat_minor": 2
}
