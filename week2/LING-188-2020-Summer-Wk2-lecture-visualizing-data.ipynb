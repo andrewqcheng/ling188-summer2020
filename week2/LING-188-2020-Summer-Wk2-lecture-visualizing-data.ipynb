{
 "cells": [
  {
   "cell_type": "markdown",
   "metadata": {},
   "source": [
    "# Visualizing Data\n",
    "We are now ready to begin looking at visualizations of our data. In this lecture, you will learn how to create scatterplots, distribution plots, bar charts, and line graphs."
   ]
  },
  {
   "cell_type": "code",
   "execution_count": null,
   "metadata": {},
   "outputs": [],
   "source": [
    "# run this cell; don't worry about what it does yet.\n",
    "from datascience import *\n",
    "import numpy as np\n",
    "import seaborn as sns\n",
    "import matplotlib.pyplot as plt\n",
    "sns.set_style('darkgrid')\n",
    "%matplotlib inline"
   ]
  },
  {
   "cell_type": "markdown",
   "metadata": {},
   "source": [
    "## Exploring TIMIT Data <a id='timit'></a>\n",
    "\n",
    "Once again, our corpus for this week is [TIMIT](https://en.wikipedia.org/wiki/TIMIT), a database of speech recorded during telephone conversations in eight different varieties of American English. This database is specifically designed for phonetics and speech recognition research. For more information, visit [their website](https://catalog.ldc.upenn.edu/LDC93S1) (Garofolo et al. 1993).\n",
    "\n",
    "First, we will upload the `.csv` file called `wk2-timit.csv`, which is located in the same folder as this notebook. Then, as we did in the last lecture, we will split the table into two smaller tables, one for male speakers and one for female speakers."
   ]
  },
  {
   "cell_type": "code",
   "execution_count": null,
   "metadata": {},
   "outputs": [],
   "source": [
    "timit = Table.read_table('wk2-timit.csv')\n",
    "ipa = Table().with_columns(\n",
    "'vowel', make_array('AA','AE','AH','AO','EH','ER','EY','IH','IY','OW','UH','UW'),\n",
    "'vowel_IPA', make_array('a','æ','ʌ','ɔ','ɛ','ɚ','eɪ','ɪ','i','oʊ','ʊ','u'))\n",
    "t = timit.join('vowel',ipa)\n",
    "t_male = t.where('gender','male')\n",
    "t_female = t.where('gender','female')"
   ]
  },
  {
   "cell_type": "code",
   "execution_count": null,
   "metadata": {},
   "outputs": [],
   "source": [
    "t_female.show(5)"
   ]
  },
  {
   "cell_type": "markdown",
   "metadata": {},
   "source": [
    "## Scatterplots\n",
    "For our visualizations, we are using functions from two libraries called `Seaborn` and `Matplotlib`. You can find out more about Seaborn [here](https://seaborn.pydata.org/index.html) and Matplotlib [here](https://matplotlib.org/). I will demonstrate the basic Python method to create each visualization, followed by the more complex way using Seaborn or Matplotlib. (When you ran the cell at the very beginning of this notebook, you loaded Seaborn, Matplotlib, and all of their relevant functions through the shortcuts `sns` and `plt`, respectively.)\n",
    "\n",
    "Scatterplots are a visualization technique for continuous data. To make a scatterplot from a Table object, you can use the method `.scatter()` or the function `plt.scatter()`.\n",
    "\n",
    "The method `.scatter()` is simpler, but less customizable. The first argument is the column of data that will go on the x-axis, and the second argument is the data for the y-axis. The axis labels will come from the column names. Try it below:"
   ]
  },
  {
   "cell_type": "code",
   "execution_count": null,
   "metadata": {},
   "outputs": [],
   "source": [
    "t_male.scatter('height','f0')"
   ]
  },
  {
   "cell_type": "markdown",
   "metadata": {},
   "source": [
    "The `plt.scatter()` function is more complex, but also more flexible. First, the basic version of the same plot as above:"
   ]
  },
  {
   "cell_type": "code",
   "execution_count": null,
   "metadata": {},
   "outputs": [],
   "source": [
    "plt.scatter(x='height',y='f0',data=t_male)"
   ]
  },
  {
   "cell_type": "markdown",
   "metadata": {},
   "source": [
    "Notice that when you use `plt.scatter()`, you have the option of defining the arguments `x` and `y`. This is not essential, but often it is helpful for you to remember what the arguments are; it is also helpful for other people reading your code!\n",
    "\n",
    "However, the main difference between the `Matplotlib` function `plt.scatter()` and the basic method `.scatter()` is that in `plt.scatter()`, you must include an argument that tells the function where to find the `data`.\n",
    "\n",
    "In addition, with `plt.scatter()`, you can change and add labels on successive lines in the cell:"
   ]
  },
  {
   "cell_type": "code",
   "execution_count": null,
   "metadata": {},
   "outputs": [],
   "source": [
    "plt.scatter(x='height',y='f0',data=t_male)\n",
    "plt.xlabel('Height (cm)') #label for the x-axis\n",
    "plt.ylabel('fundamental frequency (Hz)') # label for the y-axis\n",
    "plt.title('f0 and height for TIMIT speakers (male)'); # title for the plot"
   ]
  },
  {
   "cell_type": "markdown",
   "metadata": {},
   "source": [
    "Immediately you can see that in the data, there are many values of 0 for `f0`. These are likely to be values created by measurement error. (It would be unusual for an American English vowel to have a fundamental frequency, or pitch, of 0 Hertz.) How might you go about creating a subset of your tables such that the values of f0 that are equal to 0 are removed?"
   ]
  },
  {
   "cell_type": "markdown",
   "metadata": {},
   "source": [
    "## Distribution Plots\n",
    "\n",
    "Next, we will look at distribution plots (or histograms). We want to inspect the distributions of F1 and F2 in `t_male` and `t_female` to identify possible trends or relationships. Having our two split dataframes, `t_female` and `t_male`, simplifies the visualization process, and using `Seaborn`, we can overlay one plot on top of the other to allow for a visual comparison.\n",
    "\n",
    "Now, what are F1 and F2? The \"F\" stands for \"formant\", and the formants (first, second, third, etc.) are acoustic properties of vowels. The first formant (F1) and the second formant (F2) happen to correspond very closely to the phonological attributes of vowels that we explored last week: high, low, front, and back. To be specific, a higher value for F1 generally means that a vowel is low and not high, while a lower value for F1 means that a vowel is high and not low. A higher value for F2 generally means that a vowel is front and not back, while a lower value for F2 means that a vowel is back and not front. Vowels can also have relatively \"middle-range\" values for F1 and F2, making them neither high or low, or neither front nor back. We'll see in more detail what this looks like later. But let's look at just one formant at a time for now.\n",
    "\n",
    "Distribution plots can be made using the function `sns.distplot()`. The main argument of `sns.distplot()` is a one-dimensional array, which in this case is equal to one column in a `Table`. So, let's create arrays for the values in the column `F1` for female speakers and male speakers:"
   ]
  },
  {
   "cell_type": "code",
   "execution_count": null,
   "metadata": {},
   "outputs": [],
   "source": [
    "af = t_female.column('F1')\n",
    "am = t_male.column('F1')"
   ]
  },
  {
   "cell_type": "markdown",
   "metadata": {},
   "source": [
    "Which then become the sole argument of `sns.distplot()`."
   ]
  },
  {
   "cell_type": "code",
   "execution_count": null,
   "metadata": {},
   "outputs": [],
   "source": [
    "sns.distplot(af)"
   ]
  },
  {
   "cell_type": "markdown",
   "metadata": {},
   "source": [
    "We add the argument `kde_kws` to include a label. Run this cell below, but don't worry too much about the structure of this argument."
   ]
  },
  {
   "cell_type": "code",
   "execution_count": null,
   "metadata": {},
   "outputs": [],
   "source": [
    "sns.distplot(af, kde_kws={\"label\":\"female\"})"
   ]
  },
  {
   "cell_type": "markdown",
   "metadata": {},
   "source": [
    "Adding lines below the initial line of code but *within the same cell* allows you to \"overlay\" other plots and axis labels to your original plot."
   ]
  },
  {
   "cell_type": "code",
   "execution_count": null,
   "metadata": {},
   "outputs": [],
   "source": [
    "sns.distplot(af, kde_kws={\"label\": \"female\"})\n",
    "sns.distplot(am, kde_kws={\"label\": \"male\"})\n",
    "plt.title('F1 of TIMIT speakers (male and female)')\n",
    "plt.xlabel('Hz')\n",
    "plt.ylabel('Proportion per Hz');"
   ]
  },
  {
   "cell_type": "markdown",
   "metadata": {},
   "source": [
    "Describe the distributions of F1 for each group. Which group has, on average, higher values for F1?"
   ]
  },
  {
   "cell_type": "markdown",
   "metadata": {},
   "source": [
    "Not only do humans vary by gender in their F1 measurements, but each individual vowel also varies in its \"standard\" value for F1 (and F2). As discussed earlier, high vowels tend to have a lower F1, and low vowels tend to have a higher F1. (Isn't that confusing?) But we can illustrate this using distribution plots.\n",
    "\n",
    "First, create subsets of the data for specific vowels."
   ]
  },
  {
   "cell_type": "code",
   "execution_count": null,
   "metadata": {},
   "outputs": [],
   "source": [
    "iy = t_male.where('vowel','IY')\n",
    "ae = t_male.where('vowel','AE')\n",
    "aa = t_male.where('vowel','AA')"
   ]
  },
  {
   "cell_type": "markdown",
   "metadata": {},
   "source": [
    "Next, create arrays for the F1 data in each table."
   ]
  },
  {
   "cell_type": "code",
   "execution_count": null,
   "metadata": {},
   "outputs": [],
   "source": [
    "a_iy = iy.column('F1')\n",
    "a_ae = ae.column('F1')\n",
    "a_aa = aa.column('F1')"
   ]
  },
  {
   "cell_type": "markdown",
   "metadata": {},
   "source": [
    "Finally, create distribution plots for each array and overlay them, adding labels and a title."
   ]
  },
  {
   "cell_type": "code",
   "execution_count": null,
   "metadata": {},
   "outputs": [],
   "source": [
    "sns.distplot(a_iy, kde_kws={'label':'IY'})\n",
    "sns.distplot(a_ae, kde_kws={'label':'AE'})\n",
    "sns.distplot(a_aa, kde_kws={'label':'AA'})\n",
    "plt.title('F1 of IY, AE, and AA of TIMIT speakers (male)')\n",
    "plt.xlabel('Hz')\n",
    "plt.ylabel('Proportion per Hz');"
   ]
  },
  {
   "cell_type": "markdown",
   "metadata": {},
   "source": [
    "From this visualization, you can see how the IY vowel (as in \"fleece\") has a lower F1 than the other two vowels. Also, although AE (as in \"trap\") and AA (as in \"palm\") have quite a bit of overlap, it's easy to see that AA has a slightly higher average F1 value, which corresponds to it being a lower vowel. How might you calculate these averages?"
   ]
  },
  {
   "cell_type": "markdown",
   "metadata": {},
   "source": [
    "## Vowel Plots\n",
    "F1 and F2 are important characteristics of vowels, but it is admittedly difficult to understand them without a better visualization. The most common way to visualize vowels happens to be a type of scatterplot called a vowel plot. Using a few pre-made functions, we are now going to make a vowel plot using the TIMIT data!\n",
    "\n",
    "We are going to be recreating the following graphic from [All Things Linguistic](http://allthingslinguistic.com/post/67308552090/how-to-remember-the-ipa-vowel-chart) (which, by the way, is an excellent resource for bite-sized linguistics lessons and links to other linguistics-learning websites).\n",
    "\n",
    "![](notblank.png)"
   ]
  },
  {
   "cell_type": "markdown",
   "metadata": {},
   "source": [
    "So, first, recall that the input for a scatterplot using `sns.scatter()` is a value for the x-axis and a value for the y-axis. In a vowel plot, F2 is plotted on the x-axis, and F1 is plotted on the y-axis. Each formant is also reversed on its axis and fitted to a logarithmic scale. (Don't worry too much about why or how to do this.)\n",
    "\n",
    "What we need to do is create a table that has each vowel in one row, and one value of F1 and F2 for each vowel. How might we pick the F1/F2 value to use? We could use the maximum or minimum value in the column, but I think it also makes sense to use the mean. So, we're going to use the function `np.mean()` to create the data we need.\n",
    "\n",
    "We have to do this separately for each vowel. (Yes, it is possible to do this faster and/or more efficiently with other Python tools, but those tools will not be taught now. You already know everything you need to know in order to do this!)\n",
    "\n",
    "Step 1: Create an array that contains all of the F1 values of a single vowel. In this case, we will look at the vowel AA from the male TIMIT speakers using the method `.where()`, and then we will add another method, `.column()`, to select the column `F1`."
   ]
  },
  {
   "cell_type": "code",
   "execution_count": null,
   "metadata": {},
   "outputs": [],
   "source": [
    "t_male.where('vowel','AA').column('F1')"
   ]
  },
  {
   "cell_type": "markdown",
   "metadata": {},
   "source": [
    "Step 2: Use `np.mean()` to calculate the mean (average) of the values in the array."
   ]
  },
  {
   "cell_type": "code",
   "execution_count": null,
   "metadata": {},
   "outputs": [],
   "source": [
    "np.mean(t_male.where('vowel','AA').column('F1'))"
   ]
  },
  {
   "cell_type": "markdown",
   "metadata": {},
   "source": [
    "Step 3: Rinse, wash, repeat for all of the vowels in `t_male` (`np.unique(t_male.column('vowel'))` may help!)"
   ]
  },
  {
   "cell_type": "code",
   "execution_count": null,
   "metadata": {},
   "outputs": [],
   "source": [
    "AA = np.mean(t_male.where('vowel','AA').column('F1'))\n",
    "AE = np.mean(t_male.where('vowel','AE').column('F1'))\n",
    "AH = np.mean(t_male.where('vowel','AH').column('F1'))\n",
    "AO = np.mean(t_male.where('vowel','AO').column('F1'))\n",
    "EH = np.mean(t_male.where('vowel','EH').column('F1'))\n",
    "ER = np.mean(t_male.where('vowel','ER').column('F1'))\n",
    "EY = np.mean(t_male.where('vowel','EY').column('F1'))\n",
    "IH = np.mean(t_male.where('vowel','IH').column('F1'))\n",
    "IY = np.mean(t_male.where('vowel','IY').column('F1'))\n",
    "OW = np.mean(t_male.where('vowel','OW').column('F1'))\n",
    "UH = np.mean(t_male.where('vowel','UH').column('F1'))\n",
    "UW = np.mean(t_male.where('vowel','UW').column('F1'))"
   ]
  },
  {
   "cell_type": "markdown",
   "metadata": {},
   "source": [
    "Step 4: Put all of your values together in an array, and then use the function `np.log()` to transform the data into the logarithmic scale."
   ]
  },
  {
   "cell_type": "code",
   "execution_count": null,
   "metadata": {},
   "outputs": [],
   "source": [
    "mean_F1 = make_array(AA,AE,AH,AO,EH,ER,EY,IH,IY,OW,UH,UW)\n",
    "mean_F1_log = np.log(mean_F1)"
   ]
  },
  {
   "cell_type": "markdown",
   "metadata": {},
   "source": [
    "Step 5: Repeat for F2."
   ]
  },
  {
   "cell_type": "code",
   "execution_count": null,
   "metadata": {},
   "outputs": [],
   "source": [
    "AA2 = np.mean(timit.where('vowel','AA').column('F2'))\n",
    "AE2 = np.mean(timit.where('vowel','AE').column('F2'))\n",
    "AH2 = np.mean(timit.where('vowel','AH').column('F2'))\n",
    "AO2 = np.mean(timit.where('vowel','AO').column('F2'))\n",
    "EH2 = np.mean(timit.where('vowel','EH').column('F2'))\n",
    "ER2 = np.mean(timit.where('vowel','ER').column('F2'))\n",
    "EY2 = np.mean(timit.where('vowel','EY').column('F2'))\n",
    "IH2 = np.mean(timit.where('vowel','IH').column('F2'))\n",
    "IY2 = np.mean(timit.where('vowel','IY').column('F2'))\n",
    "OW2 = np.mean(timit.where('vowel','OW').column('F2'))\n",
    "UH2 = np.mean(timit.where('vowel','UH').column('F2'))\n",
    "UW2 = np.mean(timit.where('vowel','UW').column('F2'))\n",
    "mean_F2 = make_array(AA2,AE2,AH2,AO2,EH2,ER2,EY2,IH2,IY2,OW2,UH2,UW2)\n",
    "mean_F2_log = np.log(mean_F2)"
   ]
  },
  {
   "cell_type": "markdown",
   "metadata": {},
   "source": [
    "Step 6: Combine the two arrays into a new Table called `mean_formants`. You'll notice that after log transformation, the F1 and F2 values are no longer in Hertz."
   ]
  },
  {
   "cell_type": "code",
   "execution_count": null,
   "metadata": {},
   "outputs": [],
   "source": [
    "mean_formants = Table().with_columns('vowel',np.unique(timit.column('vowel')),\n",
    "                                     'F1',mean_F1_log,\n",
    "                                     'F2',mean_F2_log)\n",
    "mean_formants"
   ]
  },
  {
   "cell_type": "markdown",
   "metadata": {},
   "source": [
    "Step 7: Run the cell below. These are a nifty little pair of functions that will plot your vowels. You do not need to know how these functions work at this point in the course. But if you look closely at the code, do you notice a familiar function?"
   ]
  },
  {
   "cell_type": "code",
   "execution_count": null,
   "metadata": {},
   "outputs": [],
   "source": [
    "def plot_blank_vowel_chart():\n",
    "    im = plt.imread('blankvowel.png')\n",
    "    plt.imshow(im, extent=(plt.xlim()[0], plt.xlim()[1], plt.ylim()[0], plt.ylim()[1]))\n",
    "\n",
    "def plot_vowel_space(avgs_df):\n",
    "    plt.figure(figsize=(10, 8))\n",
    "    plt.gca().invert_yaxis()\n",
    "    plt.gca().invert_xaxis()\n",
    "    \n",
    "    vowels = ['a','æ','ʌ','ɔ','ɛ','ɚ','eɪ','ɪ','i','oʊ','ʊ','u']\n",
    "    \n",
    "    for i in range(avgs_df.num_rows):\n",
    "        plt.scatter(avgs_df.column('F2')[i], avgs_df.column('F1')[i], marker=r\"$ {} $\".format(vowels[i]), s=1000)\n",
    "        \n",
    "    plt.ylabel('F1')\n",
    "    plt.xlabel('F2')"
   ]
  },
  {
   "cell_type": "markdown",
   "metadata": {},
   "source": [
    "Step 8: Finally, run the function with its sole argument: your table `mean_formants`! Because the function's base function is, in fact, `plt.scatter()`, it is really just another `Matplotlib` plot that will take extra lines to amend the axis labels and title."
   ]
  },
  {
   "cell_type": "code",
   "execution_count": null,
   "metadata": {},
   "outputs": [],
   "source": [
    "plot_vowel_space(mean_formants)\n",
    "plt.xlabel('log(F2) (Hz)')\n",
    "plt.ylabel('log(F1) (Hz)')\n",
    "plt.title('Mean vowel formants for TIMIT speakers (male)');"
   ]
  },
  {
   "cell_type": "markdown",
   "metadata": {},
   "source": [
    "(Optional Step 9:) Finally, we are going to overlay a blank vowel space chart outline to see how close our data reflects the theoretical vowel chart."
   ]
  },
  {
   "cell_type": "code",
   "execution_count": null,
   "metadata": {},
   "outputs": [],
   "source": [
    "plot_vowel_space(mean_formants)\n",
    "plot_blank_vowel_chart()\n",
    "plt.xlabel('log(F2) (Hz)')\n",
    "plt.ylabel('log(F1) (Hz)')\n",
    "plt.title('Mean vowel formants for TIMIT speakers (male)');"
   ]
  },
  {
   "cell_type": "markdown",
   "metadata": {},
   "source": [
    "How well does it match the original?"
   ]
  },
  {
   "cell_type": "markdown",
   "metadata": {},
   "source": [
    "## Line graph\n",
    "Line graphs are another way to represent two numerical data types. This often makes the most sense when the data is a time series, or something that changes across time. Our non-linguistic example uses census data for the city of Berkeley."
   ]
  },
  {
   "cell_type": "code",
   "execution_count": null,
   "metadata": {},
   "outputs": [],
   "source": [
    "b = Table().with_columns('Year',make_array(1910,1920,1930,1940,1950,1960,1970,1980,1990,2000,2010),\n",
    "                         'Population',make_array(40434,56036,82109,85547,113805,111268,114091,103328,102724,102743,112580))\n",
    "b"
   ]
  },
  {
   "cell_type": "markdown",
   "metadata": {},
   "source": [
    "To make a line graph from a Table object, use the method `.plot()` or the `Matplotlib` equivalent function `plt.plot()`."
   ]
  },
  {
   "cell_type": "code",
   "execution_count": null,
   "metadata": {},
   "outputs": [],
   "source": [
    "b.plot('Year','Population')"
   ]
  },
  {
   "cell_type": "code",
   "execution_count": null,
   "metadata": {},
   "outputs": [],
   "source": [
    "# Or, using Matplotlib:\n",
    "plt.plot('Year','Population',data=b)\n",
    "plt.title('Population growth of Berkeley, CA')\n",
    "plt.xlabel('Year')\n",
    "plt.ylabel('Population')"
   ]
  },
  {
   "cell_type": "markdown",
   "metadata": {},
   "source": [
    "## Bar charts\n",
    "Finally, bar charts are useful for visualizing counts of data when one of the variables is discrete (e.g., a bunch of strings)."
   ]
  },
  {
   "cell_type": "code",
   "execution_count": null,
   "metadata": {},
   "outputs": [],
   "source": [
    "c = Table().with_columns('School',make_array(\"Harvard\",\"Cambridge\",\"UC Berkeley\",\"Chicago\",\"MIT\",\"Columbia\",\"Stanford\",\"CalTech\",\"Oxford\",\"Princeton\"),\n",
    "                         'Number of Nobel Laureates',make_array(160, 120, 107, 100, 97, 96, 83, 74, 72, 68))\n",
    "c.sort('School')"
   ]
  },
  {
   "cell_type": "markdown",
   "metadata": {},
   "source": [
    "To make a bar chart from a Table object, use the methods `.bar()` and `.barh()` or the `Matplotlib` equivalent functions `plt.bar()` and `plt.barh()`."
   ]
  },
  {
   "cell_type": "code",
   "execution_count": null,
   "metadata": {},
   "outputs": [],
   "source": [
    "c.bar('School', 'Number of Nobel Laureates')"
   ]
  },
  {
   "cell_type": "code",
   "execution_count": null,
   "metadata": {},
   "outputs": [],
   "source": [
    "c.barh('School', 'Number of Nobel Laureates') # The 'h' stands for 'horizontal'"
   ]
  },
  {
   "cell_type": "code",
   "execution_count": null,
   "metadata": {},
   "outputs": [],
   "source": [
    "# Or, using Matplotlib:\n",
    "plt.barh('School','Number of Nobel Laureates',data=c)\n",
    "plt.title('Which institution is the most pretentious?')\n",
    "plt.xlabel('Number of Nobel Laureates (1901-2019)')\n",
    "plt.ylabel('Institution')"
   ]
  }
 ],
 "metadata": {
  "kernelspec": {
   "display_name": "Python 3",
   "language": "python",
   "name": "python3"
  },
  "language_info": {
   "codemirror_mode": {
    "name": "ipython",
    "version": 3
   },
   "file_extension": ".py",
   "mimetype": "text/x-python",
   "name": "python",
   "nbconvert_exporter": "python",
   "pygments_lexer": "ipython3",
   "version": "3.6.9"
  }
 },
 "nbformat": 4,
 "nbformat_minor": 4
}
