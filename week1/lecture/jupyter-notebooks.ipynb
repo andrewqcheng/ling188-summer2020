{
 "cells": [
  {
   "cell_type": "markdown",
   "metadata": {},
   "source": [
    "# Jupyter notebooks and other ways of using Python"
   ]
  },
  {
   "cell_type": "markdown",
   "metadata": {},
   "source": [
    "This course is all about using Python to do data science in linguistics. What we care about in this workshop is learning/practising Python syntax so that we can express our ideas in code. There are a few different ways of using Python; we're going to use Jupyter notebooks. \n",
    "\n",
    "Jupyter notebooks are a relatively new way of using Python. I found them quite confusing when I first saw them and didn't immediately understand why on earth people would bother with them. To see what changed my mind, let's consider the different ways of interacting with Python and their strengths and weaknesses."
   ]
  },
  {
   "cell_type": "markdown",
   "metadata": {},
   "source": [
    "### 1. Interactive session in the terminal (OSX) / command prompt (Windows)\n",
    "\n",
    "The terminal/command prompt is an application that all modern computers come installed with. It allows you to interact with your computer using text, as opposed to clicking on buttons with your mouse. It often looks like a completely black or white box with a flashing cursor. Using the terminal/command prompt, you can move, copy, create, delete, edit and view files. You can also start programs. Notice that just before the flashing cursor there's a `$` on a Mac or a `>` on a Windows. This tells you that you are in the terminal (and not in Python).\n",
    "\n",
    "One of the programs you can start is the Python interpreter (assuming you have Python installed). You start the interpreter by typing `python` in the terminal. Notice that instead of a `$` or a `>` you now have `>>>`. This is an interactive session in the Python interpreter. It just sits there waiting for you to type in Python code. It will then print out the result of that code and sit there waiting for you again. Try it on your computer now.\n",
    "\n",
    "This is an OK way to use Python. It is quick to start (it takes less than a second on my computer), so I often use it as a calculator when I forget my times tables. But for scientific computing it has some shortcomings:\n",
    "\n",
    "- Plots appear in a separate window and don't stick around unless you save them.\n",
    "- You don't have a good record of the commands you've typed so far. If you discovered something really amazing in your data after two hours work, you have to scroll through all your commands and copy-paste the important ones to a file."
   ]
  },
  {
   "cell_type": "markdown",
   "metadata": {},
   "source": [
    "### 2. Scripts\n",
    "\n",
    "You can also type all your commands in a text file and give it a name that ends in \".py\". The text file is then called a (Python) script. If you are in the same directory as your script, you can simply type `python myscript.py` in the terminal, or whatever it is called. That will run every line of code in your script. If you use the `print` function in your script, it will print things to the terminal. If you had a line of code that wrote some results to a file, it would do that too. You could create a plot in your script and have another line to save that plot in a special folder. Writing a script and running in in Python is exactly the same as starting an interactive session and typing in the commands yourself. But much quicker because you don't have to type/copy-paste.\n",
    "\n",
    "Using scripts looks like this. You can see the name of the script and the output it produces. This is running on a Mac so the terminal prompt is `$`.\n",
    "\n",
    "<img src='https://learnpythonthehardway.org/book/_static/python/osx_terminal_ex1.png' />\n",
    "\n",
    "Try creating a text file called \"addition.py\" and type:\n",
    "\n",
    "`x = 10`\n",
    "\n",
    "`y = 20`\n",
    "\n",
    "`z = x + y`\n",
    "\n",
    "`print(z)`\n",
    "\n",
    "Save that file and run `python addition.py`. Make sure you are in the same directory as the file you created. If that doesn't work, feel free to email me.\n",
    "\n",
    "This is a good way to use Python if you already know exactly what you want to do and you know your code does what you want it to do. But, how often do you think people write perfect code that does exactly what they want on the first time? I never have. I would be impressed if someone has ever written more than 20 lines of Python code perfectly that does *exactly* what they wanted on the first time. I (and many others) am constantly forgetting arguments to functions, making incorrect assumptions about data types, etc. Collecting your final code in a script is a good way to present your analysis at the very end, but it's not an effective way of writing your code. It is lacking the interactive component of the interactive session, where you can try things out and debug them on the spot. (Although if you add the `-i` option when you run a script, as in `python -i myscript.py`, then it will run your script and start an interactive session straight away, which is nice.)\n",
    "\n",
    "Another shortcoming of scripts is that the only way you can annotate your code is using comments that start with `#`. That works, but it's not very user-friendly. No headings, no lists, no hyperlinks. Comments in scripts are not a nice way to tell a story with your analysis."
   ]
  },
  {
   "cell_type": "markdown",
   "metadata": {},
   "source": [
    "### 3. IDE\n",
    "\n",
    "IDE stands for Intergrated Development Environment. This is just a fancy name for a single program that combines both the Python interpreter and a text editor. RStudio is the official IDE for R. \"IDLE\" is the one that comes with Python, and it looks like this:\n",
    "\n",
    "<img src='http://comailab.genomecenter.ucdavis.edu/images/thumb/6/69/Idle1.png/800px-Idle1.png' />\n",
    "\n",
    "You type your code on the right, and run it on the left. It means you can experiment in the interpreter but still keep a nice record of what commands you typed by copying across to the file on the right.\n",
    "\n",
    "Anaconda is a free product produced by a company called Contiuum. When you download Anaconda, you get a bunch of stuff, including the latest version of Python (now 3.6) and their own IDE called Spyder. It looks like this:\n",
    "\n",
    "<img src='http://www.marsja.se/wp-content/uploads/2016/01/Spyder.png' />\n",
    "\n",
    "You have your file on the left, you type code interactively on the bottom right, and you can get a help windom on the top right. Notice you can have as many files open on the left as you want. You may like another free Python IDE, [Rodeo](https://www.yhat.com/products/rodeo) (I didn't).\n",
    "\n",
    "Having code and an interpreter open next to each other in the same program is useful. But IDEs still only use \".py\" files, so you still only have comments to annotate your code."
   ]
  },
  {
   "cell_type": "markdown",
   "metadata": {},
   "source": [
    "### 4. Jupyter notebooks\n",
    "\n",
    "Jupyter notebooks are designed to solve many of the problems that we've highlighted so far. In particular, they try to provide a more user friendly interface than running Python directly from the terminal, and they try to let you annotate your code more than `#` comments.\n",
    "\n",
    "For our purposes, \"Jupyter notebook\" refers to two related things: a file format (similar to .doc, .txt, .csv, etc.) and an application that reads that file format. Notebooks have the extension \".ipynb\", which is a historical artefact from the days when the notebooks where just for Python and called \"IPython notebooks\". They are just text files that follow a particular format, in the same way the HTML files are just text files that follow a special format. And just as web browsers like Chrome, Safari and Explorer are applications that render HTML files nicely, the Jupyter notebook application renders the \".ipynb\" files nicely. Because the web has become so important in the last decade, web broswers have become very good at displaying graphics and fonts. Rather than re-inventing the wheel, the Jupyter notebook runs in the browser so it can use the browser's ability to display graphics. So even though we view and edit Jupyter notebooks in the browser, they often have nothing to do with the internet.\n",
    "\n",
    "There are two ways to start the Jupyter notebook app. The first (and recommended way) is to open terminal/command prompt and type `jupyter notebook`. (This assumes you have already installed it. Jupyter notebook is not included when you just install Python, but it is included in Anaconda). The second way is to open the \"Anaconda Navigator\" and click on \"Jupyter notebook\". This may take a few seconds but eventually it will automatically open a browser tab (or a new browser window if your browser isn't already open). When it opens it will show all your files, just like a Finder window on a Mac or Explorer(?) on a Windows. You can move around exactly as you'd expect. When you get to a notebook, you can click on it and it will open in a new tab.\n",
    "\n",
    "A notebook is just a series of cells. If you click on any text of code in a notebook, it will highlight the entire cell for you. You can create a new cell by clicking the `+` sign in the top left. The scissors sign next to it will delete a cell. Cells can be one of four types (Code, Markdown, Raw NBConvert or Heading). I only understand and use the first two. Code cells let you type Python code. You can type as much Python code as you want. When you press \"Enter\" it will just go to a new line in that cell. If you want to run all the code in that cell, press Shift and Enter at the same time. Once it has finished running, it will print the result (if there is one) directly below the cell.\n",
    "\n",
    "Try running the cell below. Then create your own cell and print something else."
   ]
  },
  {
   "cell_type": "code",
   "execution_count": 1,
   "metadata": {},
   "outputs": [
    {
     "name": "stdout",
     "output_type": "stream",
     "text": [
      "30\n"
     ]
    }
   ],
   "source": [
    "x = 10\n",
    "y = 20\n",
    "z = x + y\n",
    "print(z)"
   ]
  },
  {
   "cell_type": "markdown",
   "metadata": {},
   "source": [
    "When you are typing in a cell, you will see its type on the top menu (on the same level as the `+` sign). If you want to run a cell of Python code, make sure its type is \"Cell\". \"Markdown\" is like an easier version of HTML or LaTeX. This cell right now is Markdown. Most Markdown cells are just text. But we can also use some special syntax for headers and lists. Headers all start with `#`. One `#` is the biggest header, six `#` is the smallest. Double click on the cell below to see what I mean."
   ]
  },
  {
   "cell_type": "markdown",
   "metadata": {},
   "source": [
    "## This is the second biggest header\n",
    "#### This is number four"
   ]
  },
  {
   "cell_type": "markdown",
   "metadata": {},
   "source": [
    "Lists are easy in Markdown too:"
   ]
  },
  {
   "cell_type": "markdown",
   "metadata": {},
   "source": [
    "Look at my list:\n",
    "\n",
    "\n",
    "- This is the first item in my list.\n",
    "- This is the second.\n",
    "- No more `\\begin{itemize}`, etc. required."
   ]
  },
  {
   "cell_type": "markdown",
   "metadata": {},
   "source": [
    "For this course, you'll only ever access notebooks from the links we provide on bCourses.\n",
    "\n",
    "If you started the notebook from the command line, you'll need to keep that terminal open the entire time. When you're done, save the notebook (top left), quit the browser tab(s) and press control-c twice in the terminal window.\n",
    "\n",
    "My favourite feature in Jupyter notebooks is being able to intertwine code and formatted text (i.e. text with headers, lists, etc). It really is just like `#` comments in a script, but much more user-friendly. I also like the fact that the code that generated some output (like printing a number) is directly above the output itself, and it stays there until I delete it. As we'll see later on, if your code produces a plot, it appears directly below the cell and stays there. These two features make Jupyter notebooks ideal for exploratory data analysis, showcasing a finished analysis (to your advisor or publishing alongside a journal article), and teaching.\n",
    "\n",
    "Most importantly, remember that Jupyter notebooks are just one of many ways to use Python. Everything substantial about this workshop and your research using Python is independent of whether you use notebooks, an IDE, or the interpreter directly from the command line.\n",
    "\n",
    "Last session we logged on to a remote server that was running the Jupyter notebook for us. The benefit of that was that I could install everything in advance and be 100% sure that everything would work for everyone.\n",
    "\n",
    "For more info on Jupyter Notebooks, see:\n",
    "\n",
    "- [Notebook documentation](http://jupyter-notebook.readthedocs.io/en/latest/index.html)\n",
    "- [Jupyter](http://jupyter.org/)\n",
    "- [If you have three hours to spare](https://www.youtube.com/watch?v=VQBZ2MqWBZI)"
   ]
  }
 ],
 "metadata": {
  "kernelspec": {
   "display_name": "Python 3",
   "language": "python",
   "name": "python3"
  },
  "language_info": {
   "codemirror_mode": {
    "name": "ipython",
    "version": 3
   },
   "file_extension": ".py",
   "mimetype": "text/x-python",
   "name": "python",
   "nbconvert_exporter": "python",
   "pygments_lexer": "ipython3",
   "version": "3.7.5"
  }
 },
 "nbformat": 4,
 "nbformat_minor": 2
}
