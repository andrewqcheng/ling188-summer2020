{
 "cells": [
  {
   "cell_type": "markdown",
   "metadata": {},
   "source": [
    "# Working with tables\n",
    "Now that you know about the basic functions of Python and common data types, let's take a look at arrays and tables, which are the most common ways to organize data."
   ]
  },
  {
   "cell_type": "code",
   "execution_count": null,
   "metadata": {},
   "outputs": [],
   "source": [
    "# This cell needs to be run first; don't worry about why just yet!\n",
    "# Click on the cell to highlight it, then press Shift+Enter or Control+Enter to run it.\n",
    "from datascience import *\n",
    "import numpy as np"
   ]
  },
  {
   "cell_type": "markdown",
   "metadata": {},
   "source": [
    "## Arrays\n",
    "An array contains a sequence of values. It is a fundamental data type in data science. They are created with the function `make_array`, which takes in a number of inputs. Arrays have similarities to lists, but we will work more with arrays than with lists in this course. Don't worry too much about lists."
   ]
  },
  {
   "cell_type": "code",
   "execution_count": null,
   "metadata": {},
   "outputs": [],
   "source": [
    "make_array(1, 2, 3, 4)"
   ]
  },
  {
   "cell_type": "markdown",
   "metadata": {},
   "source": [
    "Let's store the array we made in a variable called \"ar\":"
   ]
  },
  {
   "cell_type": "code",
   "execution_count": null,
   "metadata": {},
   "outputs": [],
   "source": [
    "ar = make_array(1, 2, 3, 4)\n",
    "ar"
   ]
  },
  {
   "cell_type": "markdown",
   "metadata": {},
   "source": [
    "And now let's make another one, stored in a different variable, \"br\":"
   ]
  },
  {
   "cell_type": "code",
   "execution_count": null,
   "metadata": {},
   "outputs": [],
   "source": [
    "br = make_array(4, 3, 2, 1)\n",
    "br"
   ]
  },
  {
   "cell_type": "markdown",
   "metadata": {},
   "source": [
    "Arrays of the same length can be added together or subtracting from each other:"
   ]
  },
  {
   "cell_type": "code",
   "execution_count": null,
   "metadata": {},
   "outputs": [],
   "source": [
    "ar + br"
   ]
  },
  {
   "cell_type": "code",
   "execution_count": null,
   "metadata": {},
   "outputs": [],
   "source": [
    "ar - br"
   ]
  },
  {
   "cell_type": "markdown",
   "metadata": {},
   "source": [
    "You can take the length of an array, as well as other objects, using the `len` function:"
   ]
  },
  {
   "cell_type": "code",
   "execution_count": null,
   "metadata": {},
   "outputs": [],
   "source": [
    "len(ar)"
   ]
  },
  {
   "cell_type": "markdown",
   "metadata": {},
   "source": [
    "If you want to get a particular value from an array, you use bracket notation."
   ]
  },
  {
   "cell_type": "code",
   "execution_count": null,
   "metadata": {},
   "outputs": [],
   "source": [
    "ar"
   ]
  },
  {
   "cell_type": "code",
   "execution_count": null,
   "metadata": {},
   "outputs": [],
   "source": [
    "# remember that '0' finds the first item in Python\n",
    "ar[0]"
   ]
  },
  {
   "cell_type": "code",
   "execution_count": null,
   "metadata": {},
   "outputs": [],
   "source": [
    "ar[3]"
   ]
  },
  {
   "cell_type": "markdown",
   "metadata": {},
   "source": [
    "Why does the line below throw an error?"
   ]
  },
  {
   "cell_type": "code",
   "execution_count": null,
   "metadata": {},
   "outputs": [],
   "source": [
    "ar[4]"
   ]
  },
  {
   "cell_type": "markdown",
   "metadata": {},
   "source": [
    "Arrays may also contain strings."
   ]
  },
  {
   "cell_type": "code",
   "execution_count": null,
   "metadata": {},
   "outputs": [],
   "source": [
    "cr = make_array('a', 'b', 'c', 'd')\n",
    "cr"
   ]
  },
  {
   "cell_type": "markdown",
   "metadata": {},
   "source": [
    "If you put different types into an array, then the array will contain the most generic type. That is, an array can only contain elements of the same type. In the line below, there are *strings* and *integers*; the integers will be coerced to become strings."
   ]
  },
  {
   "cell_type": "code",
   "execution_count": null,
   "metadata": {},
   "outputs": [],
   "source": [
    "dr = make_array('1', '2', 3, 4)\n",
    "dr"
   ]
  },
  {
   "cell_type": "markdown",
   "metadata": {},
   "source": [
    "Why does the line below throw an error?"
   ]
  },
  {
   "cell_type": "code",
   "execution_count": null,
   "metadata": {},
   "outputs": [],
   "source": [
    "dr + ar"
   ]
  },
  {
   "cell_type": "markdown",
   "metadata": {},
   "source": [
    "## Tables\n",
    "Tables are the fundamental way we will use to represent data in this course. Tables are exactly what you think they are: rows and columns and values in corresponding cells. The `Table` object is a type of data object that can be explored using *methods*.\n",
    "\n",
    "Recall from your reading that you call functions by putting the argument inside parentheses after the function. The arguments are one or more inputs:\n",
    "```\n",
    ">>> function(arguments)\n",
    ">>> abs(-5)    # take the absolute value of argument '-5'\n",
    ">>> max(4, 10) # find the maximum value of argument '4, 10'\n",
    "```\n",
    "Methods are virtually identical to functions, except that you call them by adding a period `.` *after the object*, followed by the usual `function(arguments)` format:\n",
    "```\n",
    ">>> name_of_table.method(arguments)\n",
    "```\n",
    "Or more generally:\n",
    "```\n",
    ">>> name_of_object.method(arguments)\n",
    "```"
   ]
  },
  {
   "cell_type": "markdown",
   "metadata": {},
   "source": [
    "## Creating a `Table` from scratch\n",
    "A new `Table` may be made from scratch using `Table()`. This is a function with no arguments -- it creates a blank `Table`."
   ]
  },
  {
   "cell_type": "code",
   "execution_count": null,
   "metadata": {},
   "outputs": [],
   "source": [
    "Table()"
   ]
  },
  {
   "cell_type": "markdown",
   "metadata": {},
   "source": [
    "We will then use the `.with_columns()` *method* to add data to this `Table`. The arguments for this method include column names and *arrays* that include the values in those columns. That is to say: `Table().with_columns(column1_name, column1_data, column2_name, column2_data, ...)`.\n",
    "\n",
    "Note that when using the `.with_columns()` method, you must have an even number of arguments, matching each column name with its corresponding array of data."
   ]
  },
  {
   "cell_type": "code",
   "execution_count": null,
   "metadata": {},
   "outputs": [],
   "source": [
    "Table().with_columns('column 1', ar, 'column 2', br)"
   ]
  },
  {
   "cell_type": "markdown",
   "metadata": {},
   "source": [
    "You can even create new arrays within the method, nesting the `make_array()` function inside the `.with_columns()` method."
   ]
  },
  {
   "cell_type": "code",
   "execution_count": null,
   "metadata": {},
   "outputs": [],
   "source": [
    "Table().with_columns('Name', make_array('Juan','Mai'), 'Age', make_array(24, 27))"
   ]
  },
  {
   "cell_type": "markdown",
   "metadata": {},
   "source": [
    "But why does the following line throw an error?"
   ]
  },
  {
   "cell_type": "code",
   "execution_count": null,
   "metadata": {},
   "outputs": [],
   "source": [
    "Table.with_columns('Name', make_array('Juan','Mai'), 'Age', make_array(24, 27))"
   ]
  },
  {
   "cell_type": "markdown",
   "metadata": {},
   "source": [
    "## Loading a `Table`\n",
    "Of course, a majority of the time, we will be loading tables from files that we've retrieved from an online corpus. Tables are loaded from a file using the `read_table(FILEPATH)` method, or one of its variations, depending on the file type.\n",
    "\n",
    "Let's use an example from PHOIBLE (Phonetics Information Base and Lexicon), a database of phonological inventories from thousands of languages. For more information, and to browse the data interactively, visit [their website](https://phoible.org/) (Moran et al. 2019).\n",
    "\n",
    "Part of the PHOIBLE corpus is available in the ''cloud'' (DataHub server) for this course. It exists as a `csv` file called `wk1-phoible.csv`. (That stands for comma-separated values. If you opened this up in a program such as Excel, you'd just see a table of rows and columns.) The file is located in the same folder as this notebook.\n",
    "\n",
    "Read `wk1-phoible.csv` into your notebook using the `read_table()` method. The argument of this method is the name of the file as a *string*."
   ]
  },
  {
   "cell_type": "code",
   "execution_count": null,
   "metadata": {},
   "outputs": [],
   "source": [
    "phoible = Table.read_table('wk1-phoible.csv')"
   ]
  },
  {
   "cell_type": "markdown",
   "metadata": {},
   "source": [
    "## Viewing the `Table`\n",
    "If you want to take a look at our newly-created object `phoible`, you can just type that into a cell. But beware..."
   ]
  },
  {
   "cell_type": "code",
   "execution_count": null,
   "metadata": {},
   "outputs": [],
   "source": [
    "phoible"
   ]
  },
  {
   "cell_type": "markdown",
   "metadata": {},
   "source": [
    "It's big! Over 105,000 rows! So most of them are cut out from the preview. And look at all those columns...\n",
    "\n",
    "Let's simplify things a little bit. Let's just show the first 5 rows of `phoible`, which conveniently can be done with the method `.show()`:"
   ]
  },
  {
   "cell_type": "code",
   "execution_count": null,
   "metadata": {},
   "outputs": [],
   "source": [
    "phoible.show(5)"
   ]
  },
  {
   "cell_type": "markdown",
   "metadata": {},
   "source": [
    "## Getting the size of a table\n",
    "We want to get a better idea of just how large this table is. Let's use `num_rows` and `num_columns`. (As a technical note, these are not methods, but *attributes*. Attributes are a bit different from methods; for one, they do not require parentheses.)"
   ]
  },
  {
   "cell_type": "code",
   "execution_count": null,
   "metadata": {},
   "outputs": [],
   "source": [
    "phoible.num_rows"
   ]
  },
  {
   "cell_type": "code",
   "execution_count": null,
   "metadata": {},
   "outputs": [],
   "source": [
    "phoible.num_columns"
   ]
  },
  {
   "cell_type": "markdown",
   "metadata": {},
   "source": [
    "## Accessing columns and column names\n",
    "Column names can be accessed using `labels`."
   ]
  },
  {
   "cell_type": "code",
   "execution_count": null,
   "metadata": {},
   "outputs": [],
   "source": [
    "phoible.labels"
   ]
  },
  {
   "cell_type": "markdown",
   "metadata": {},
   "source": [
    "And all the values in a column can be accessed by calling the .column() method on the column name as a string. This returns an array."
   ]
  },
  {
   "cell_type": "code",
   "execution_count": null,
   "metadata": {},
   "outputs": [],
   "source": [
    "phoible.column('LanguageName')"
   ]
  },
  {
   "cell_type": "markdown",
   "metadata": {},
   "source": [
    "By the way, \"Tableland Lamalama\" is most likely a reference to one of the [Paman languages](https://en.wikipedia.org/wiki/Lamu-Lamu_language) spoken by the indigenous people of northeastern Australia (Queensland). And Korean is the language that I (Andrew) study!"
   ]
  },
  {
   "cell_type": "markdown",
   "metadata": {},
   "source": [
    "Okay, let's access some of the elements of the array using bracket notation."
   ]
  },
  {
   "cell_type": "code",
   "execution_count": null,
   "metadata": {},
   "outputs": [],
   "source": [
    "phoible.column('LanguageName')[0]"
   ]
  },
  {
   "cell_type": "code",
   "execution_count": null,
   "metadata": {},
   "outputs": [],
   "source": [
    "phoible.column('Phoneme')[0]"
   ]
  },
  {
   "cell_type": "markdown",
   "metadata": {},
   "source": [
    "You may instead want to have the output be another table. To do that, use `select(column_or_columns)`. (You may select one or more columns.) This is one way to `subset` a table."
   ]
  },
  {
   "cell_type": "code",
   "execution_count": null,
   "metadata": {},
   "outputs": [],
   "source": [
    "phoible.select('LanguageName','Phoneme')"
   ]
  },
  {
   "cell_type": "markdown",
   "metadata": {},
   "source": [
    "So what are we looking at here? All of the phonemes of many languages, and their phonological attributes. How many languages are there? Definitely not 105,000. We can use the function `numpy.unique()` to count every unique instance of a value in a column.\n",
    "\n",
    "We are going to call `numpy.unique()` using a shortcut you've already created by running the first cell: `np.unique()`. The argument it takes is an *array*. So why doesn't the following line work?"
   ]
  },
  {
   "cell_type": "code",
   "execution_count": null,
   "metadata": {},
   "outputs": [],
   "source": [
    "np.unique(phoible)"
   ]
  },
  {
   "cell_type": "code",
   "execution_count": null,
   "metadata": {},
   "outputs": [],
   "source": [
    "np.unique(phoible.column('LanguageName'))"
   ]
  },
  {
   "cell_type": "markdown",
   "metadata": {},
   "source": [
    "And now we want to count the number of items in this array."
   ]
  },
  {
   "cell_type": "code",
   "execution_count": null,
   "metadata": {},
   "outputs": [],
   "source": [
    "len(np.unique(phoible.column('LanguageName')))"
   ]
  },
  {
   "cell_type": "markdown",
   "metadata": {},
   "source": [
    "For clarity's sake we might have assigned the array to another variable."
   ]
  },
  {
   "cell_type": "code",
   "execution_count": null,
   "metadata": {},
   "outputs": [],
   "source": [
    "u = np.unique(phoible.column('LanguageName'))\n",
    "len(u)"
   ]
  },
  {
   "cell_type": "markdown",
   "metadata": {},
   "source": [
    "Functions and methods can stack one after another in Python. This line below is somewhat unintelligible...\n",
    "```\n",
    "print(np.unique(phoible.column('LanguageName')).tolist())\n",
    "```\n",
    "But if we replace the complex part with a variable and then break it down...\n",
    "```\n",
    "print(u.tolist())\n",
    "```\n",
    "We can see how it's simply calling a method called `.tolist()` on our object `u` (which is an array), and then printing that list."
   ]
  },
  {
   "cell_type": "code",
   "execution_count": null,
   "metadata": {},
   "outputs": [],
   "source": [
    "print(u.tolist())"
   ]
  },
  {
   "cell_type": "markdown",
   "metadata": {},
   "source": [
    "Order of operations matters in Python! Be aware of where your parentheses start and end.\n",
    "```\n",
    "print(u).tolist()\n",
    "```\n",
    "... is very different. Try it."
   ]
  },
  {
   "cell_type": "code",
   "execution_count": null,
   "metadata": {},
   "outputs": [],
   "source": [
    "print(u).tolist()"
   ]
  },
  {
   "cell_type": "markdown",
   "metadata": {},
   "source": [
    "## Dropping columns\n",
    "If you ever feel like you have too many columns in a table, you may remove one or more of them using the method `drop(column_or_columns)`. The column you want to drop is the argument:"
   ]
  },
  {
   "cell_type": "code",
   "execution_count": null,
   "metadata": {},
   "outputs": [],
   "source": [
    "phoible.drop('LanguageName')"
   ]
  },
  {
   "cell_type": "markdown",
   "metadata": {},
   "source": [
    "Of course, this method doesn't permanently change the table. You have to create a new variable and assign your new table to it:"
   ]
  },
  {
   "cell_type": "code",
   "execution_count": null,
   "metadata": {},
   "outputs": [],
   "source": [
    "phoible_new = phoible.drop('LanguageName')\n",
    "phoible_new"
   ]
  },
  {
   "cell_type": "markdown",
   "metadata": {},
   "source": [
    "## Selecting rows that satisfy a condition\n",
    "But how can we look at specific rows? Let's use the method `where(column_name, value)` to select specific rows based on their value in a column. This method has two arguments: the name of the column you're thinking of as a string, followed by the value that you want. Think of this method as commanding Python to show you the part of the `Table` \"where\" `column_name` equals `value`."
   ]
  },
  {
   "cell_type": "code",
   "execution_count": null,
   "metadata": {},
   "outputs": [],
   "source": [
    "selection = phoible.where('LanguageName', 'Spanish')"
   ]
  },
  {
   "cell_type": "code",
   "execution_count": null,
   "metadata": {},
   "outputs": [],
   "source": [
    "selection"
   ]
  },
  {
   "cell_type": "markdown",
   "metadata": {},
   "source": [
    "The second argument should of course match the data type of the column you're searching; it's not always a string"
   ]
  },
  {
   "cell_type": "code",
   "execution_count": null,
   "metadata": {},
   "outputs": [],
   "source": [
    "selection2 = phoible.where('InventoryID', 75)"
   ]
  },
  {
   "cell_type": "code",
   "execution_count": null,
   "metadata": {},
   "outputs": [],
   "source": [
    "selection2"
   ]
  },
  {
   "cell_type": "markdown",
   "metadata": {},
   "source": [
    "Hm... I wonder how many phonemes are in the [Dakota language](https://en.wikipedia.org/wiki/Dakota_language)? How might I find the *length* of the \"Phoneme\" column?"
   ]
  },
  {
   "cell_type": "code",
   "execution_count": null,
   "metadata": {},
   "outputs": [],
   "source": [
    "len(np.unique(selection2.column('Phoneme')))"
   ]
  },
  {
   "cell_type": "code",
   "execution_count": null,
   "metadata": {},
   "outputs": [],
   "source": [
    "# Assuming that every phoneme gets its own row, we could also use the attribute .num_rows\n",
    "selection2.num_rows"
   ]
  },
  {
   "cell_type": "markdown",
   "metadata": {},
   "source": [
    "Let's do this the fancy way."
   ]
  },
  {
   "cell_type": "code",
   "execution_count": null,
   "metadata": {},
   "outputs": [],
   "source": [
    "x = str(len(selection2))\n",
    "print(\"There are \" + x + \" phonemes in the Dakota language.\")"
   ]
  },
  {
   "cell_type": "markdown",
   "metadata": {},
   "source": [
    "That's it for now! You will use PHOIBLE again for your homework assignment this week."
   ]
  }
 ],
 "metadata": {
  "kernelspec": {
   "display_name": "Python 3",
   "language": "python",
   "name": "python3"
  },
  "language_info": {
   "codemirror_mode": {
    "name": "ipython",
    "version": 3
   },
   "file_extension": ".py",
   "mimetype": "text/x-python",
   "name": "python",
   "nbconvert_exporter": "python",
   "pygments_lexer": "ipython3",
   "version": "3.6.9"
  }
 },
 "nbformat": 4,
 "nbformat_minor": 2
}
