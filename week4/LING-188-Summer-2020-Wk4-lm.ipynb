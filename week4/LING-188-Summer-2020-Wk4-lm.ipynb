{
 "cells": [
  {
   "cell_type": "markdown",
   "metadata": {},
   "source": [
    "# Linear models\n",
    "\n",
    "In this notebook, we're going to give a brief introduction to prediction using linear models, as well as some related concepts. If you enjoy this material, we highly recommend further data science and statistics classes!"
   ]
  },
  {
   "cell_type": "code",
   "execution_count": null,
   "metadata": {},
   "outputs": [],
   "source": [
    "%matplotlib inline\n",
    "from datascience import *\n",
    "import numpy as np\n",
    "import matplotlib.pyplot as plt\n",
    "import statsmodels.api as sm"
   ]
  },
  {
   "cell_type": "markdown",
   "metadata": {},
   "source": [
    "## Read in the data\n",
    "\n",
    "We'll be using the same data from Monday's lecture. As a reminder:\n",
    "\n",
    "_The data for this demo is a lexical decision dataset. It was elicited from 21 subjects for 79 English concrete nouns. RT stands for \"response time\" (in what I assume is a normalized scale, rather than seconds). Frequency indicates a calculated frequency for the noun within a given corpus. In this lexical decision task, subjects were shown a series of words (e.g., CAT, BAT, CART) and the occasional nonword (e.g., CAZ, BRIT, CHOG) and asked to simply identify whether the word was real or not. In addition to measuring accuracy, recording the response time can tell us a bit about how our brains process words, as faster (lower) response times result from faster, easier mental processing._\n",
    "\n",
    "Let's first read in the data as a Table."
   ]
  },
  {
   "cell_type": "code",
   "execution_count": null,
   "metadata": {},
   "outputs": [],
   "source": [
    "lex = Table.read_table('wk4-lexicaldecision.csv')\n",
    "lex.show(10)"
   ]
  },
  {
   "cell_type": "markdown",
   "metadata": {},
   "source": [
    "## Exploratory data analysis\n",
    "\n",
    "Once you learn how to fit models, it can be very tempting to do this as soon as you get your hands on some data. But we should always explore the data first. We need to understand the data and what it means before we can safely apply any modeling.\n",
    "\n",
    "What does \"Exploratory data analysis (EDA)\" look like? It's often an amorphous activity guided by human intuition and questions. I like to structure it as a series of questions I have about the data and then use EDA to answer the questions."
   ]
  },
  {
   "cell_type": "code",
   "execution_count": null,
   "metadata": {},
   "outputs": [],
   "source": [
    "# How big is the data?\n",
    "lex.num_rows"
   ]
  },
  {
   "cell_type": "code",
   "execution_count": null,
   "metadata": {},
   "outputs": [],
   "source": [
    "lex.num_columns"
   ]
  },
  {
   "cell_type": "code",
   "execution_count": null,
   "metadata": {},
   "outputs": [],
   "source": [
    "# What do the columns mean?\n",
    "lex.show(5)"
   ]
  },
  {
   "cell_type": "code",
   "execution_count": null,
   "metadata": {},
   "outputs": [],
   "source": [
    "# What are typical values for some important numerical columns?\n",
    "lex.select([\"RT\", \"Frequency\", \"Length\"]).stats()"
   ]
  },
  {
   "cell_type": "code",
   "execution_count": null,
   "metadata": {},
   "outputs": [],
   "source": [
    "# What's the distribution of values in the Sex column?\n",
    "lex.group(\"Sex\")"
   ]
  },
  {
   "cell_type": "code",
   "execution_count": null,
   "metadata": {},
   "outputs": [],
   "source": [
    "# What's the distribution of values in the NativeLanguage column?\n",
    "lex.group(\"NativeLanguage\")"
   ]
  },
  {
   "cell_type": "code",
   "execution_count": null,
   "metadata": {},
   "outputs": [],
   "source": [
    "# What's the distribution of values in the Class column?\n",
    "lex.group(\"Class\")"
   ]
  },
  {
   "cell_type": "markdown",
   "metadata": {},
   "source": [
    "A large part of EDA is making visualizations. Here's where you can be creative!"
   ]
  },
  {
   "cell_type": "code",
   "execution_count": null,
   "metadata": {},
   "outputs": [],
   "source": [
    "# What is the distribution of repsonse time?\n",
    "lex.hist([\"RT\"])"
   ]
  },
  {
   "cell_type": "code",
   "execution_count": null,
   "metadata": {},
   "outputs": [],
   "source": [
    "# Are the response times different across genders?\n",
    "lex.where('Sex','M').select(\"RT\").boxplot()"
   ]
  },
  {
   "cell_type": "code",
   "execution_count": null,
   "metadata": {},
   "outputs": [],
   "source": [
    "lex.where('Sex','F').select(\"RT\").boxplot()"
   ]
  },
  {
   "cell_type": "code",
   "execution_count": null,
   "metadata": {},
   "outputs": [],
   "source": [
    "# Let's plot them side-by-side\n",
    "time_male = lex.where('Sex','M').column('RT')\n",
    "time_female = lex.where('Sex','F').column('RT')\n",
    "plt.subplot(1,2,1)\n",
    "plt.boxplot(time_male)\n",
    "plt.title(\"Male\")\n",
    "plt.subplot(1,2,2)\n",
    "plt.boxplot(time_female)\n",
    "plt.title(\"Female\");"
   ]
  },
  {
   "cell_type": "code",
   "execution_count": null,
   "metadata": {},
   "outputs": [],
   "source": [
    "# How are word length and frequency related?\n",
    "lex.select([\"Length\", \"Frequency\"]).scatter(\"Length\")"
   ]
  },
  {
   "cell_type": "markdown",
   "metadata": {},
   "source": [
    "## Linear models\n",
    "\n",
    "Recall that the Pearson $r$ correlation cofficient is a statistic (i.e. a way to calculate a number) that tells us about the association between two variables.\n",
    "\n",
    "<img src=\"correlations.png\" />\n",
    "\n",
    "If we know there is an association between two variables, we can use one to predict the other. Linear models help us to do this."
   ]
  },
  {
   "cell_type": "code",
   "execution_count": null,
   "metadata": {},
   "outputs": [],
   "source": [
    "# Don't worry about understanding what this is, we'll cover the core ideas next week when we talk about functions\n",
    "def linear_model(X, y):\n",
    "    X = sm.add_constant(X.values)\n",
    "    model = sm.OLS(y, X).fit()\n",
    "    print(model.summary())"
   ]
  },
  {
   "cell_type": "code",
   "execution_count": null,
   "metadata": {},
   "outputs": [],
   "source": [
    "# Fit a linear model to predict Frequency from Length\n",
    "X = lex.select([\"Length\"])\n",
    "y = lex.column(\"Frequency\")\n",
    "linear_model(X, y)"
   ]
  },
  {
   "cell_type": "markdown",
   "metadata": {},
   "source": [
    "The linear model demonstrated a significant effect of Length on Frequency, $p<0.000$."
   ]
  },
  {
   "cell_type": "code",
   "execution_count": null,
   "metadata": {},
   "outputs": [],
   "source": [
    "# which is equivalent to plotting this line here\n",
    "lex.select([\"Length\", \"Frequency\"]).scatter(\"Length\", fit_line=True)"
   ]
  }
 ],
 "metadata": {
  "kernelspec": {
   "display_name": "Python 3",
   "language": "python",
   "name": "python3"
  },
  "language_info": {
   "codemirror_mode": {
    "name": "ipython",
    "version": 3
   },
   "file_extension": ".py",
   "mimetype": "text/x-python",
   "name": "python",
   "nbconvert_exporter": "python",
   "pygments_lexer": "ipython3",
   "version": "3.7.5"
  }
 },
 "nbformat": 4,
 "nbformat_minor": 4
}
