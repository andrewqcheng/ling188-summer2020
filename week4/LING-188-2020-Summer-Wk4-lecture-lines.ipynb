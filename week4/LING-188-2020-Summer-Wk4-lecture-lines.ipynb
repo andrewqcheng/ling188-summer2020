{
 "cells": [
  {
   "cell_type": "markdown",
   "metadata": {},
   "source": [
    "# Statistics, Part I\n",
    "\n",
    "This week, we are going to learn some basic tools for statistical testing that will be useful for making predictions based on your data. In statistics, it is important to determine whether the trends we see in data are statistically significant, or possibly just due to chance. In today's lecture, we will learn about how to fit a regression line to continuous data to help us identify trends."
   ]
  },
  {
   "cell_type": "code",
   "execution_count": null,
   "metadata": {},
   "outputs": [],
   "source": [
    "# Run this cell first to import libraries and modules\n",
    "from datascience import *\n",
    "import matplotlib.pyplot as plt\n",
    "%matplotlib inline\n",
    "import numpy as np\n",
    "from scipy.stats.stats import pearsonr, spearmanr\n",
    "from sklearn.metrics import mean_squared_error"
   ]
  },
  {
   "cell_type": "markdown",
   "metadata": {},
   "source": [
    "## Fitting a regression line\n",
    "Let's say we had the following data. We can plot it using `plt.scatter`:"
   ]
  },
  {
   "cell_type": "code",
   "execution_count": null,
   "metadata": {},
   "outputs": [],
   "source": [
    "x1 = [1, 2, 3, 4, 5, 6, 7, 8, 9, 10]\n",
    "y1 = [2, 5, 8, 7, 7, 9, 12, 13, 15, 14]\n",
    "\n",
    "plt.scatter(x1, y1, color='blue')\n",
    "plt.xlabel('x values')\n",
    "_ = plt.ylabel('y values') # the _ = code removes the output text"
   ]
  },
  {
   "cell_type": "markdown",
   "metadata": {},
   "source": [
    "Now let's try to add a line of best fit. By \"best\" here we mean the line that best accounts for the relationship between x and y. I randomly came up with the values in `guess`:"
   ]
  },
  {
   "cell_type": "code",
   "execution_count": null,
   "metadata": {},
   "outputs": [],
   "source": [
    "guess = [6, 7, 8, 9, 10, 11, 12, 13, 14, 15]\n",
    "plt.scatter(x1, y1, color='blue')\n",
    "plt.plot(x1, guess, color='black')\n",
    "plt.xlabel('x values')\n",
    "_ = plt.ylabel('y values') # the _ = code removes the output text"
   ]
  },
  {
   "cell_type": "markdown",
   "metadata": {},
   "source": [
    "Not a very good guess. This line doesn't \"fit\" very well. What if we could automatically calculate the formula for the line of best fit? The function `np.polyfit` can help us do just that.\n",
    "\n",
    "`np.polyfit` has three required arguments:\n",
    "\n",
    "- an array of x-values\n",
    "- an array of y-values\n",
    "- the degree of the fitting polynomial (`deg`)\n",
    "\n",
    "It returns a `numpy` array with:\n",
    "\n",
    "- the `deg` polynomial coefficients\n",
    "- the intercept\n",
    "\n",
    "In this example, we will use `deg=1`, because we simply want a straight line. That is, we want a one-degree polynomial:\n",
    "\n",
    "$$\\hat{y} = slope * x + intercept$$\n",
    "\n",
    "`numpy` returns the polynomial coefficient(s), the last of which is the intercept: "
   ]
  },
  {
   "cell_type": "code",
   "execution_count": null,
   "metadata": {},
   "outputs": [],
   "source": [
    "output = np.polyfit(x1, y1, deg=1)\n",
    "print(output)"
   ]
  },
  {
   "cell_type": "markdown",
   "metadata": {},
   "source": [
    "More transparently, we can write the following:"
   ]
  },
  {
   "cell_type": "code",
   "execution_count": null,
   "metadata": {},
   "outputs": [],
   "source": [
    "slope, intercept = np.polyfit(x1, y1, deg=1)\n",
    "print(slope, intercept)"
   ]
  },
  {
   "cell_type": "markdown",
   "metadata": {},
   "source": [
    "We can compute the predicted values for the fitted line with the following command: `np.multiply(slope, x_values) + intercept`"
   ]
  },
  {
   "cell_type": "code",
   "execution_count": null,
   "metadata": {},
   "outputs": [],
   "source": [
    "np.multiply(slope, x1)"
   ]
  },
  {
   "cell_type": "code",
   "execution_count": null,
   "metadata": {},
   "outputs": [],
   "source": [
    "np.multiply(slope, x1) + intercept"
   ]
  },
  {
   "cell_type": "markdown",
   "metadata": {},
   "source": [
    "This makes it easy to plot the line of best fit:"
   ]
  },
  {
   "cell_type": "code",
   "execution_count": null,
   "metadata": {},
   "outputs": [],
   "source": [
    "# plot the points\n",
    "plt.scatter(x1, y1, color='blue')\n",
    "# compute the line of best fit\n",
    "fit1 = intercept + np.multiply(slope, x1)\n",
    "# plot the fitted line\n",
    "plt.plot(x1, fit1, color='black')\n",
    "# plot the old guess line\n",
    "plt.plot(x1, guess, color='red')\n",
    "# add the axis labels\n",
    "plt.xlabel('x values')\n",
    "_ = plt.ylabel('y values') # the _ = code removes the output text"
   ]
  },
  {
   "cell_type": "markdown",
   "metadata": {},
   "source": [
    "What if we had data like the following?"
   ]
  },
  {
   "cell_type": "code",
   "execution_count": null,
   "metadata": {},
   "outputs": [],
   "source": [
    "x2 = [-5, -4, -3, -2, -1, 0, 1, 2, 3, 4, 5]\n",
    "y2 = [-125, -64, -10, -8, -1, 0, 1, 8, 10, 64, 125]\n",
    "plt.scatter(x2, y2, color='green')\n",
    "plt.xlabel('x values')\n",
    "_ = plt.ylabel('y values') # the _ = code removes the output text"
   ]
  },
  {
   "cell_type": "markdown",
   "metadata": {},
   "source": [
    "A straight line doesn't appear to be a good fit:"
   ]
  },
  {
   "cell_type": "code",
   "execution_count": null,
   "metadata": {},
   "outputs": [],
   "source": [
    "# plot the points\n",
    "plt.scatter(x2, y2, color='green')\n",
    "# compute the line of best fit\n",
    "slope, intercept = np.polyfit(x2, y2, deg=1)\n",
    "fit2 = intercept + np.multiply(slope, x2)\n",
    "# plot the fitted line\n",
    "plt.plot(x2, fit2, '-', color='black')\n",
    "plt.xlabel('x values')\n",
    "_ = plt.ylabel('y values')"
   ]
  },
  {
   "cell_type": "markdown",
   "metadata": {},
   "source": [
    "We can get a better fit by increasing `deg`. If we use `deg=3` then we get an array with four values:"
   ]
  },
  {
   "cell_type": "code",
   "execution_count": null,
   "metadata": {},
   "outputs": [],
   "source": [
    "out = np.polyfit(x2, y2, deg=3)\n",
    "print(out)"
   ]
  },
  {
   "cell_type": "markdown",
   "metadata": {},
   "source": [
    "More formally, an array `z` is returned with the values `[z3, z2, z1, z0]`, as described below:\n",
    "\n",
    "$$\\hat{y} = z_0x^0 + z_1x^1 + z_2x^2 + z_3x^3$$\n",
    "\n",
    "We can then compute the new fitted line and add it to our plot. Note that `np.polyfit` returns the coefficients \"in reverse\":"
   ]
  },
  {
   "cell_type": "code",
   "execution_count": null,
   "metadata": {},
   "outputs": [],
   "source": [
    "# get a new fitted line\n",
    "z3, z2, z1, z0 = np.polyfit(x2, y2, deg=3)\n",
    "# store the result\n",
    "fit3 = z0 + np.multiply(z1, x2) + np.multiply(z2, np.power(x2, 2)) + np.multiply(z3, np.power(x2, 3))"
   ]
  },
  {
   "cell_type": "markdown",
   "metadata": {},
   "source": [
    "The new fitted line is clearly much better than the straight line fit:"
   ]
  },
  {
   "cell_type": "code",
   "execution_count": null,
   "metadata": {},
   "outputs": [],
   "source": [
    "# plot the points\n",
    "plt.scatter(x2, y2, color='green')\n",
    "# plot the old fitted line\n",
    "plt.plot(x2, fit2, '-', color='red')\n",
    "# plot the new fitted line\n",
    "plt.plot(x2, fit3, '-', color='black')\n",
    "plt.xlabel('x values')\n",
    "_ = plt.ylabel('y values')"
   ]
  },
  {
   "cell_type": "markdown",
   "metadata": {},
   "source": [
    "In data science, we use best fit lines like these to make accurate predictions about real-world phenomena based on the data we have. Let's try doing this with real data.\n",
    "\n",
    "## Psycholinguistics and lexical decision\n",
    "\n",
    "The data for this demo is a lexical decision dataset. It was elicited from 21 subjects for 79 English concrete nouns. RT stands for \"response time\" (in what I assume is a normalized scale, rather than seconds). Frequency indicates a calculated frequency for the noun within a given corpus. In this lexical decision task, subjects were shown a series of words (e.g., CAT, BAT, CART) and the occasional nonword (e.g., CAZ, BRIT, CHOG) and asked to simply identify whether the word was real or not. In addition to measuring accuracy, recording the response time can tell us a bit about how our brains process words, as faster (lower) response times result from faster, easier mental processing."
   ]
  },
  {
   "cell_type": "code",
   "execution_count": null,
   "metadata": {},
   "outputs": [],
   "source": [
    "lex = Table.read_table('wk4-lexicaldecision.csv')\n",
    "lex.show(5)"
   ]
  },
  {
   "cell_type": "code",
   "execution_count": null,
   "metadata": {},
   "outputs": [],
   "source": [
    "set(lex.column('Word'))"
   ]
  },
  {
   "cell_type": "code",
   "execution_count": null,
   "metadata": {},
   "outputs": [],
   "source": [
    "lex.where('Word','owl')"
   ]
  },
  {
   "cell_type": "markdown",
   "metadata": {},
   "source": [
    "### Tangents: random useful functions and methods\n",
    "\n",
    "A random useful `numpy` function for numeric arrays is `np.count_nonzero(x==y)`."
   ]
  },
  {
   "cell_type": "code",
   "execution_count": null,
   "metadata": {},
   "outputs": [],
   "source": [
    "wordlength = lex.column('Length')\n",
    "np.count_nonzero(wordlength==3)"
   ]
  },
  {
   "cell_type": "markdown",
   "metadata": {},
   "source": [
    "Don't forget the built-in `numpy` functions that give us basic statistical summaries."
   ]
  },
  {
   "cell_type": "code",
   "execution_count": null,
   "metadata": {},
   "outputs": [],
   "source": [
    "r = np.mean(lex.column('RT'))\n",
    "print(\"The average response time for respondents was\",r.round(2))"
   ]
  },
  {
   "cell_type": "markdown",
   "metadata": {},
   "source": [
    "Finally, I'll demonstrate how to take a sample of a Table, which might be necessary in the event that you have a Table that is many thousands of rows long. Not so necessary for this dataset, but maybe in your homework..."
   ]
  },
  {
   "cell_type": "code",
   "execution_count": null,
   "metadata": {},
   "outputs": [],
   "source": [
    "lex_s = lex.sample(100,with_replacement=False)\n",
    "lex_s"
   ]
  },
  {
   "cell_type": "markdown",
   "metadata": {},
   "source": [
    "### Back to the Lines of Best Fit...\n",
    "\n",
    "Let's analyze whether response time (RT) is related in some way to word frequency. We can visualize each of these columns separately first and look at the distribution of values in a histogram."
   ]
  },
  {
   "cell_type": "code",
   "execution_count": null,
   "metadata": {},
   "outputs": [],
   "source": [
    "lex.hist('RT')"
   ]
  },
  {
   "cell_type": "code",
   "execution_count": null,
   "metadata": {},
   "outputs": [],
   "source": [
    "lex.hist('Frequency')"
   ]
  },
  {
   "cell_type": "markdown",
   "metadata": {},
   "source": [
    "Then, we plot our scatter plot."
   ]
  },
  {
   "cell_type": "code",
   "execution_count": null,
   "metadata": {},
   "outputs": [],
   "source": [
    "plt.scatter(data=lex,x=\"Frequency\",y=\"RT\")\n",
    "plt.xlabel('Frequency of word')\n",
    "_ = plt.ylabel('Response Time (standardized-sec)')"
   ]
  },
  {
   "cell_type": "markdown",
   "metadata": {},
   "source": [
    "Let's plot a line of best fit over this data. Do you think the slope of the line will be positive or negative?"
   ]
  },
  {
   "cell_type": "code",
   "execution_count": null,
   "metadata": {},
   "outputs": [],
   "source": [
    "xvals = lex.column('Frequency')\n",
    "yvals = lex.column('RT')\n",
    "# equivalent to getting our regression line, which involves a slope and an intercept\n",
    "slope, intercept = np.polyfit(xvals, yvals, 1)\n",
    "print(slope, intercept)"
   ]
  },
  {
   "cell_type": "code",
   "execution_count": null,
   "metadata": {},
   "outputs": [],
   "source": [
    "# y_predicted = slope * x + intercept\n",
    "lbf = np.multiply(slope, xvals) + intercept\n",
    "lbf"
   ]
  },
  {
   "cell_type": "code",
   "execution_count": null,
   "metadata": {},
   "outputs": [],
   "source": [
    "plt.scatter(data=lex,x=\"Frequency\",y=\"RT\")\n",
    "plt.plot(xvals,lbf, color='red')\n",
    "plt.title('Correlation between word frequency and response time')\n",
    "plt.xlabel('Frequency of word')\n",
    "_ = plt.ylabel('Response Time (standardized-sec)')"
   ]
  },
  {
   "cell_type": "markdown",
   "metadata": {},
   "source": [
    "What we are identifying here is called a *correlation*: a measure of the strength of the relationship between two continuous variables: e.g., as *x* increases, *y* decreases. Correlation is a common measure of association. Other measures like this include regression, odds ratio, and chi-square tests. In Wednesday's lecture, we'll talk about testing correlation for statistical significance."
   ]
  }
 ],
 "metadata": {
  "kernelspec": {
   "display_name": "Python 3",
   "language": "python",
   "name": "python3"
  },
  "language_info": {
   "codemirror_mode": {
    "name": "ipython",
    "version": 3
   },
   "file_extension": ".py",
   "mimetype": "text/x-python",
   "name": "python",
   "nbconvert_exporter": "python",
   "pygments_lexer": "ipython3",
   "version": "3.6.9"
  }
 },
 "nbformat": 4,
 "nbformat_minor": 4
}
