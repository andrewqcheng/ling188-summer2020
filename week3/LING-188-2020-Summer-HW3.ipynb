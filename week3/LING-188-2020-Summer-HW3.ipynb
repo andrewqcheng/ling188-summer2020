{
 "cells": [
  {
   "cell_type": "markdown",
   "metadata": {},
   "source": [
    "**Replace the blanks with your full name and collaborators (if any)**\n",
    "\n",
    "Student Name `________________`\n",
    "Collaborator(s) `________________` "
   ]
  },
  {
   "cell_type": "markdown",
   "metadata": {},
   "source": [
    "# Homework 3: Working with the Indo-European lexicostatistics database\n",
    "This assignment is due **Sunday, July 26th, by 5PM**. Remember to acknowledge above if you collaborated on this assignment with other students.\n",
    "\n",
    "This assignment has 20 points and is worth 7% of your final grade (i.e., it is one of five equally-weighted homework assignments totalling 35% of your grade)."
   ]
  },
  {
   "cell_type": "markdown",
   "metadata": {},
   "source": [
    "## Introduction\n",
    "As in this week's lectures, the data we are using is from [Dyen, Kruskal & Black (1992)](https://www.jstor.org/stable/1006517?seq=6#metadata_info_tab_contents). They collected a list of 200 cross-linguistically common words from over 80 Indo-European languages and dialects. The list of terms was originally compiled by [Swadesh (1952)](https://en.wikipedia.org/wiki/Swadesh_list) and is often called a \"Swadesh List\"."
   ]
  },
  {
   "cell_type": "markdown",
   "metadata": {},
   "source": [
    "## 0. Setting up the notebook (4 pts)\n",
    "Run the 5 cells below. (1 pt)"
   ]
  },
  {
   "cell_type": "code",
   "execution_count": null,
   "metadata": {},
   "outputs": [],
   "source": [
    "# run this cell; don't worry about what it does yet.\n",
    "from datascience import *\n",
    "import numpy as np\n",
    "import seaborn as sns\n",
    "import matplotlib.pyplot as plt\n",
    "sns.set_style('darkgrid')\n",
    "%matplotlib inline\n",
    "import string"
   ]
  },
  {
   "cell_type": "code",
   "execution_count": null,
   "metadata": {},
   "outputs": [],
   "source": [
    "def edit_distance(w1, w2):\n",
    "    '''Computes the Levenshtein distance between two words.'''\n",
    "    size_x = len(w1) + 1\n",
    "    size_y = len(w2) + 1\n",
    "    matrix = np.zeros ((size_x, size_y))\n",
    "    for x in range(size_x):\n",
    "        matrix [x, 0] = x\n",
    "    for y in range(size_y):\n",
    "        matrix [0, y] = y\n",
    "\n",
    "    for x in range(1, size_x):\n",
    "        for y in range(1, size_y):\n",
    "            if w1[x-1] == w2[y-1]:\n",
    "                matrix [x,y] = min(\n",
    "                    matrix[x-1, y] + 1,\n",
    "                    matrix[x-1, y-1],\n",
    "                    matrix[x, y-1] + 1\n",
    "                )\n",
    "            else:\n",
    "                matrix [x,y] = min(\n",
    "                    matrix[x-1,y] + 1,\n",
    "                    matrix[x-1,y-1] + 1,\n",
    "                    matrix[x,y-1] + 1\n",
    "                )\n",
    "    # print (matrix) (for debugging purposes)\n",
    "    return int(matrix[size_x - 1, size_y - 1])"
   ]
  },
  {
   "cell_type": "code",
   "execution_count": null,
   "metadata": {},
   "outputs": [],
   "source": [
    "def remove_nan(s):\n",
    "    '''[Replace this with a description of what this function does.]'''\n",
    "    return s.replace('nan','')"
   ]
  },
  {
   "cell_type": "code",
   "execution_count": null,
   "metadata": {},
   "outputs": [],
   "source": [
    "def comma_split(s):\n",
    "    '''[Replace this with a description of what this function does.]'''\n",
    "    return s.split(',')"
   ]
  },
  {
   "cell_type": "code",
   "execution_count": null,
   "metadata": {},
   "outputs": [],
   "source": [
    "def shorten(s):\n",
    "    '''[Replace this with a description of what this function does.]'''\n",
    "    return s.replace(\" \",\"\").split(\",\")[0]"
   ]
  },
  {
   "cell_type": "markdown",
   "metadata": {},
   "source": [
    "In the three cells above, three simple custom functions are defined. In the space between the `'''` marks, write a brief description of what each custom function does if you give it the argument `s`, a string. (3 pts)"
   ]
  },
  {
   "cell_type": "markdown",
   "metadata": {},
   "source": [
    "## 1. Read in data (4 pts)\n",
    "a. Read in the Indo-European lexicostatistics database (from the file \"wk3-ie.csv\") as a `Table` and name this object `t`. (1 pt)"
   ]
  },
  {
   "cell_type": "code",
   "execution_count": null,
   "metadata": {},
   "outputs": [],
   "source": [
    "# write your code here"
   ]
  },
  {
   "cell_type": "markdown",
   "metadata": {},
   "source": [
    "b. How many languages are in the Indo-European lexicostatistics database? (For the purposes of this question, each unique value in the column `Language` counts as a language."
   ]
  },
  {
   "cell_type": "code",
   "execution_count": null,
   "metadata": {},
   "outputs": [],
   "source": [
    "# write your code here"
   ]
  },
  {
   "cell_type": "markdown",
   "metadata": {},
   "source": [
    "There are `___` languages in the Indo-European lexicostatistics database. (1 pt)"
   ]
  },
  {
   "cell_type": "markdown",
   "metadata": {},
   "source": [
    "c. Replace all instances of the string \"nan\" in the `Term` column with an empty string `\"\"`. Remember that you can use one of the custom functions for this task. You may create a new column in `t` for the replaced strings, or you may replace the original column; it is up to you. (1 pt)"
   ]
  },
  {
   "cell_type": "code",
   "execution_count": null,
   "metadata": {},
   "outputs": [],
   "source": [
    "# write your code here"
   ]
  },
  {
   "cell_type": "markdown",
   "metadata": {},
   "source": [
    "d. Demonstrate using a `print()` statement that there are no strings with the value \"nan\" in the new column. (1 pt)"
   ]
  },
  {
   "cell_type": "code",
   "execution_count": null,
   "metadata": {},
   "outputs": [],
   "source": [
    "# write your code here\n",
    "# print()"
   ]
  },
  {
   "cell_type": "markdown",
   "metadata": {},
   "source": [
    "## 2. Create a dictionary (2 pts)\n",
    "a. Using a subset of `t` that contains only the English words, create a `dictionary` called `d` which contains the values of the column `Feature` as keys and the values of the column `Term`. (1 pt)"
   ]
  },
  {
   "cell_type": "code",
   "execution_count": null,
   "metadata": {},
   "outputs": [],
   "source": [
    "# write your code here"
   ]
  },
  {
   "cell_type": "markdown",
   "metadata": {},
   "source": [
    "b. What are the English terms for features 30, 40, and 50? Find out by accessing the values of `d`."
   ]
  },
  {
   "cell_type": "code",
   "execution_count": null,
   "metadata": {},
   "outputs": [],
   "source": [
    "# write your code here"
   ]
  },
  {
   "cell_type": "markdown",
   "metadata": {},
   "source": [
    "Feature 30 is the English word `___`. <br/>\n",
    "Feature 40 is the English word `___`. <br/>\n",
    "Feature 50 is the English word `___`. (1 pt)"
   ]
  },
  {
   "cell_type": "markdown",
   "metadata": {},
   "source": [
    "## 2. Compute the edit distance between Danish and English words (5 pts)\n",
    "Danish and English are in the same language sub-family, Germanic. As you might expect, many words in Danish and English look very similar to each other.\n",
    "\n",
    "a. Create subsets of `t` for \"English ST\" and \"Danish\". Assign them to the variables `e` and `d`, respectively. (1 pt)"
   ]
  },
  {
   "cell_type": "code",
   "execution_count": null,
   "metadata": {},
   "outputs": [],
   "source": [
    "# write your code here"
   ]
  },
  {
   "cell_type": "markdown",
   "metadata": {},
   "source": [
    "b. Ensure that no values in the `Terms` column for either `e` or `d` have multiple terms, and that whitespace is erased. To do this, you will have to use one of the custom functions defined above. (1 pt)"
   ]
  },
  {
   "cell_type": "code",
   "execution_count": null,
   "metadata": {},
   "outputs": [],
   "source": [
    "# write your code here"
   ]
  },
  {
   "cell_type": "markdown",
   "metadata": {},
   "source": [
    "c. Use the `edit_distance()` function and a `for` loop to create an array. This array will contain the edit distance between English and Danish of all 200 features. (1 pt)"
   ]
  },
  {
   "cell_type": "code",
   "execution_count": null,
   "metadata": {},
   "outputs": [],
   "source": [
    "# write your code here"
   ]
  },
  {
   "cell_type": "markdown",
   "metadata": {},
   "source": [
    "d. Which feature(s) have the smallest edit distance? What words do they represent in English? Access the values (words) using your dictionary `d`. *Be careful about how you access the keys and values here: remember that Python numbering begins at 0, while the features in `t` begin at 1.*"
   ]
  },
  {
   "cell_type": "code",
   "execution_count": null,
   "metadata": {},
   "outputs": [],
   "source": [
    "# write your code here"
   ]
  },
  {
   "cell_type": "markdown",
   "metadata": {},
   "source": [
    "*Write your long answer here.* (1 pt)"
   ]
  },
  {
   "cell_type": "markdown",
   "metadata": {},
   "source": [
    "e. Which feature(s) have the largest edit distance? What words do they represent in English? Access the values (words) using your dictionary `d`."
   ]
  },
  {
   "cell_type": "code",
   "execution_count": null,
   "metadata": {},
   "outputs": [],
   "source": [
    "# write your code here"
   ]
  },
  {
   "cell_type": "markdown",
   "metadata": {},
   "source": [
    "*Write your long answer here.* (1 pt)"
   ]
  },
  {
   "cell_type": "markdown",
   "metadata": {},
   "source": [
    "## 3. Compute the language distance between Indo-European languages (5 pts)\n",
    "Recall from lecture that `language distance` will be calculated is the sum of the edit distances for all 200 features compared between two languages.\n",
    "\n",
    "a. Compute the language distance between \"English ST\" and every other language in `t` (including itself). You will need to create an empty array, loop through all 87 languages in `t`, create another empty array, loop through all 200 features, and then populate both arrays using `np.append()`. (1 pt)"
   ]
  },
  {
   "cell_type": "code",
   "execution_count": null,
   "metadata": {},
   "outputs": [],
   "source": [
    "# write your code here"
   ]
  },
  {
   "cell_type": "markdown",
   "metadata": {},
   "source": [
    "b. Choose at least 10 more languages in addition to \"English ST\" and compute language distances between them and every other language in `t`. *Optional: if you wish, you may use a loop or a custom function and `.apply()` to compute language distances for every language compared to every other language.* Append all of your arrays to a `Table` called `m`. Show all of the rows of `m`. (1 pt)"
   ]
  },
  {
   "cell_type": "code",
   "execution_count": null,
   "metadata": {},
   "outputs": [],
   "source": [
    "# write your code here"
   ]
  },
  {
   "cell_type": "markdown",
   "metadata": {},
   "source": [
    "c. Create a visualization of your choice to illustrate some aspect of your language distance which you find to be interesting. Be sure to label your visualization with appropriate labels for the axes and a title. (2 pts)"
   ]
  },
  {
   "cell_type": "code",
   "execution_count": null,
   "metadata": {},
   "outputs": [],
   "source": [
    "# write your code here"
   ]
  },
  {
   "cell_type": "markdown",
   "metadata": {},
   "source": [
    "d. Consider the data used in this analysis: words from the Swadesh List transcribed as strings, used to compare the similarities between languages in a family. From a data science perspective, what is one advantage and one disadvantage of this data type? From a linguistic perspective, what is one advantage and one disadvantage of this data type? (This is an open-ended question with no one correct answer; to guide your thinking, consider the different ways languages can be similar or different, and the relationship between orthography (how a word is written), transcription (how a word is written in a specific alphabet), transcription, and/or underlying linguistic structure.)"
   ]
  },
  {
   "cell_type": "markdown",
   "metadata": {},
   "source": [
    "*Write your long answer here.* (1 pt)"
   ]
  },
  {
   "cell_type": "markdown",
   "metadata": {},
   "source": [
    "That's it! Be sure to:\n",
    "\n",
    "- save your progress in this notebook\n",
    "- download it to your machine (`File --> Download As --> Notebook (.ipynb)`)\n",
    "- title the document as `HW3_LastName` (e.g. `HW3_Cheng`)\n",
    "- turn it in by uploading it to 'Assignments' on bCourses."
   ]
  }
 ],
 "metadata": {
  "kernelspec": {
   "display_name": "Python 3",
   "language": "python",
   "name": "python3"
  },
  "language_info": {
   "codemirror_mode": {
    "name": "ipython",
    "version": 3
   },
   "file_extension": ".py",
   "mimetype": "text/x-python",
   "name": "python",
   "nbconvert_exporter": "python",
   "pygments_lexer": "ipython3",
   "version": "3.6.9"
  }
 },
 "nbformat": 4,
 "nbformat_minor": 2
}
