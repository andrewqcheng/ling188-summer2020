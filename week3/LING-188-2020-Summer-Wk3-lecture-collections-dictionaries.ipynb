{
 "cells": [
  {
   "cell_type": "markdown",
   "metadata": {},
   "source": [
    "# Collections and dictionaries\n",
    "\n",
    "In this notebook, we're going to cover various collections of data, including dictionaries. These are important topics in Python and data-driven linguistics. Fundamentally, what we're learning about today are ways to store multiple related data values.\n",
    "\n",
    "\n",
    "- array: ordered, items may be changed, but the size is fixed. the same value may appear multiple times. convenient for performing numerical operations.\n",
    "- list: ordered, items may be changed, size may be changed. the same value may appear multiple times. less convenient than an array for performing numerical operations.\n",
    "- tuple: ordered, and unchangeable. the same value may appear multiple times.\n",
    "- set: unordered, impossible to index (i.e. you cannot use bracket notation). contains only unique values.\n",
    "- dictionary: key-value pairs.\n",
    "\n",
    "All of these data types come up often in Python, and the goal of this lecture is to distinguish them and show common uses. We'll also cover list comprehensions, which you can think of as shorthand for a for loop."
   ]
  },
  {
   "cell_type": "code",
   "execution_count": null,
   "metadata": {},
   "outputs": [],
   "source": [
    "from datascience import *\n",
    "import numpy as np"
   ]
  },
  {
   "cell_type": "markdown",
   "metadata": {},
   "source": [
    "## Arrays\n",
    "\n",
    "Arrays can be easily created using the datascience function `make_array`:"
   ]
  },
  {
   "cell_type": "code",
   "execution_count": null,
   "metadata": {},
   "outputs": [],
   "source": [
    "a = make_array(1, 2, 3)\n",
    "a"
   ]
  },
  {
   "cell_type": "code",
   "execution_count": null,
   "metadata": {},
   "outputs": [],
   "source": [
    "type(a)"
   ]
  },
  {
   "cell_type": "markdown",
   "metadata": {},
   "source": [
    "Recall that `Table` columns are actually arrays, and can be retrieved using the `.column(column_name)` method:"
   ]
  },
  {
   "cell_type": "code",
   "execution_count": null,
   "metadata": {},
   "outputs": [],
   "source": [
    "t = Table().with_columns('Name', make_array('Tom', 'Maria', 'Shrenek'),\n",
    "                        'Age', make_array(22, 31, 25))\n",
    "t"
   ]
  },
  {
   "cell_type": "code",
   "execution_count": null,
   "metadata": {},
   "outputs": [],
   "source": [
    "t.column('Age')"
   ]
  },
  {
   "cell_type": "markdown",
   "metadata": {},
   "source": [
    "Operations using arrays are performed in an element-wise fashion. For instance, adding two arrays together adds each of their matching elements:"
   ]
  },
  {
   "cell_type": "code",
   "execution_count": null,
   "metadata": {},
   "outputs": [],
   "source": [
    "a = make_array(1, 2, 3)\n",
    "b = make_array(2, 3, 4)\n",
    "\n",
    "a + b"
   ]
  },
  {
   "cell_type": "code",
   "execution_count": null,
   "metadata": {},
   "outputs": [],
   "source": [
    "a * b"
   ]
  },
  {
   "cell_type": "markdown",
   "metadata": {},
   "source": [
    "Values can be changed using bracket notation:"
   ]
  },
  {
   "cell_type": "code",
   "execution_count": null,
   "metadata": {},
   "outputs": [],
   "source": [
    "a = make_array(1, 2, 3)\n",
    "a[2] = 17\n",
    "a"
   ]
  },
  {
   "cell_type": "markdown",
   "metadata": {},
   "source": [
    "Unique to arrays, you can change multiple values at once using a boolean array:"
   ]
  },
  {
   "cell_type": "code",
   "execution_count": null,
   "metadata": {},
   "outputs": [],
   "source": [
    "a = make_array(1, 2, 3, 1, 2, 2)\n",
    "print(a == 2) # the boolean array used for indeing\n",
    "# changing the value\n",
    "a[a == 2] = 13\n",
    "a"
   ]
  },
  {
   "cell_type": "markdown",
   "metadata": {},
   "source": [
    "It is not possible to directly add to an array. However, you can make a new array with the added values using `np.append(array, values)`."
   ]
  },
  {
   "cell_type": "code",
   "execution_count": null,
   "metadata": {},
   "outputs": [],
   "source": [
    "a = make_array(1, 2, 3)\n",
    "b = make_array(2, 3, 4)\n",
    "\n",
    "np.append(a, b)"
   ]
  },
  {
   "cell_type": "markdown",
   "metadata": {},
   "source": [
    "Note that neither a nor b are changed with `np.append`, meaning that you should store the result of np.append as a variable."
   ]
  },
  {
   "cell_type": "code",
   "execution_count": null,
   "metadata": {},
   "outputs": [],
   "source": [
    "print(a)\n",
    "print(b)"
   ]
  },
  {
   "cell_type": "code",
   "execution_count": null,
   "metadata": {},
   "outputs": [],
   "source": [
    "np.append(a, 6)"
   ]
  },
  {
   "cell_type": "markdown",
   "metadata": {},
   "source": [
    "## List\n",
    "A list is a data structure composed of ordered values. A list is defined by a pair of square brackets:"
   ]
  },
  {
   "cell_type": "code",
   "execution_count": null,
   "metadata": {},
   "outputs": [],
   "source": [
    "x = [1, 2, 3]\n",
    "x"
   ]
  },
  {
   "cell_type": "markdown",
   "metadata": {},
   "source": [
    "Because the list is a built-in data type, it is the output of many Python functions. For instance, the `s.split(sep)` method returns a list (not an array):"
   ]
  },
  {
   "cell_type": "code",
   "execution_count": null,
   "metadata": {},
   "outputs": [],
   "source": [
    "s = 'cat,dog,fish'\n",
    "x = s.split(',')\n",
    "print(x)\n",
    "type(x)"
   ]
  },
  {
   "cell_type": "markdown",
   "metadata": {},
   "source": [
    "Converting between an array and a list is easy. To convert a list to an array, use `np.array(x)`. (This is the canonical way to make an array without `make_array`.)"
   ]
  },
  {
   "cell_type": "code",
   "execution_count": null,
   "metadata": {},
   "outputs": [],
   "source": [
    "x = [1, 2, 3]\n",
    "np.array(x)"
   ]
  },
  {
   "cell_type": "markdown",
   "metadata": {},
   "source": [
    "To convert an array to a list, use the `list()` function. \n",
    "\n",
    "*Note: similar functions exist for other data types: `int()`, `float()`, `str()`, ... This is technically referred to as **casting**.* "
   ]
  },
  {
   "cell_type": "code",
   "execution_count": null,
   "metadata": {},
   "outputs": [],
   "source": [
    "a = make_array(1, 2, 3)\n",
    "x = list(a)\n",
    "print(x)\n",
    "type(x)"
   ]
  },
  {
   "cell_type": "markdown",
   "metadata": {},
   "source": [
    "You can use the `+` and `*` operators on lists, but unlike `numpy` arrays, these alter the *shape* of the data structure, not its values. Compare the following two cells with the equivalent operations using a `numpy` array:"
   ]
  },
  {
   "cell_type": "code",
   "execution_count": null,
   "metadata": {},
   "outputs": [],
   "source": [
    "x = [1, 2, 3]\n",
    "y = [4, 5, 6]\n",
    "x + y"
   ]
  },
  {
   "cell_type": "code",
   "execution_count": null,
   "metadata": {},
   "outputs": [],
   "source": [
    "x = [1, 2, 3]\n",
    "x * 5"
   ]
  },
  {
   "cell_type": "markdown",
   "metadata": {},
   "source": [
    "However, just like with a `numpy` array, you can use *slicing* to access pieces of a `list`:"
   ]
  },
  {
   "cell_type": "code",
   "execution_count": null,
   "metadata": {},
   "outputs": [],
   "source": [
    "a = make_array(1, 2, 3, 4, 5)\n",
    "x = [1, 2, 3, 4, 5]\n",
    "print(a[2:5])\n",
    "print(x[2:5])"
   ]
  },
  {
   "cell_type": "markdown",
   "metadata": {},
   "source": [
    "Only individual values may be changed at a time with lists:"
   ]
  },
  {
   "cell_type": "code",
   "execution_count": null,
   "metadata": {},
   "outputs": [],
   "source": [
    "x = [1, 2, 3, 4, 5]\n",
    "x[2] = 7\n",
    "print(x)"
   ]
  },
  {
   "cell_type": "markdown",
   "metadata": {},
   "source": [
    "You can directly add to a list using the method `list.append(value)`:"
   ]
  },
  {
   "cell_type": "code",
   "execution_count": null,
   "metadata": {},
   "outputs": [],
   "source": [
    "x = [1, 2, 3]\n",
    "x.append(4)\n",
    "print(x)"
   ]
  },
  {
   "cell_type": "markdown",
   "metadata": {},
   "source": [
    "Note that the value of `x` is changed with `.append(value)`. More technically `.append(value)` is in *in-place* operation, meaning that it doesn't return a new object. You can see this if you try to store the result of `.append(value)`. It returns the `None` object, which is a special data type that Python uses when a function or method does not return anything."
   ]
  },
  {
   "cell_type": "code",
   "execution_count": null,
   "metadata": {},
   "outputs": [],
   "source": [
    "x = [1, 2, 3]\n",
    "y = x.append(4)\n",
    "print(y)"
   ]
  },
  {
   "cell_type": "markdown",
   "metadata": {},
   "source": [
    "However, `.append(value)` still did its job: the value of `x` has been changed."
   ]
  },
  {
   "cell_type": "code",
   "execution_count": null,
   "metadata": {},
   "outputs": [],
   "source": [
    "print(x)"
   ]
  },
  {
   "cell_type": "markdown",
   "metadata": {},
   "source": [
    "Appending a list to another list adds the second list as an element in the list. This probably isn't what you want to do."
   ]
  },
  {
   "cell_type": "code",
   "execution_count": null,
   "metadata": {},
   "outputs": [],
   "source": [
    "x = [1, 2, 3]\n",
    "y = [4, 5]\n",
    "\n",
    "x.append(y)\n",
    "x"
   ]
  },
  {
   "cell_type": "markdown",
   "metadata": {},
   "source": [
    "You can append the values of one list to another using the method `x.extend(y)`:"
   ]
  },
  {
   "cell_type": "code",
   "execution_count": null,
   "metadata": {},
   "outputs": [],
   "source": [
    "x = [1, 2, 3]\n",
    "y = [4, 5]\n",
    "\n",
    "x.extend(y)\n",
    "x"
   ]
  },
  {
   "cell_type": "markdown",
   "metadata": {},
   "source": [
    "## Copying arrays and lists\n",
    "One extremely important thing to remember about arrays and lists is that variables simply point to them, meaning that altering the list will change the data for all of the variables pointing to them. This is probably easier to show in action:"
   ]
  },
  {
   "cell_type": "code",
   "execution_count": null,
   "metadata": {},
   "outputs": [],
   "source": [
    "a = make_array(1, 2, 3)\n",
    "b = a # just another pointer to the array\n",
    "\n",
    "a[2] = 4\n",
    "print('a:', a)\n",
    "print('b:', b)"
   ]
  },
  {
   "cell_type": "markdown",
   "metadata": {},
   "source": [
    "Note that even though `a` was used to alter the array, `b` was changed too. This can be avoided by using `.copy()`:"
   ]
  },
  {
   "cell_type": "code",
   "execution_count": null,
   "metadata": {},
   "outputs": [],
   "source": [
    "a = make_array(1, 2, 3)\n",
    "b = a.copy() # creates a new array\n",
    "\n",
    "a[2] = 4\n",
    "print('a:', a)\n",
    "print('b:', b)"
   ]
  },
  {
   "cell_type": "markdown",
   "metadata": {},
   "source": [
    "Lists work the same way, including the `.copy()` method. A shorthand way to copy the values of a list into a new objects is to use `list[:]`:"
   ]
  },
  {
   "cell_type": "code",
   "execution_count": null,
   "metadata": {},
   "outputs": [],
   "source": [
    "a = [1, 2, 3]\n",
    "b = a # just another pointer to the list\n",
    "c = a.copy() # creates a new list\n",
    "d = a[:] # short-hand way to create a new list; this doesn't work with arrays\n",
    "\n",
    "a[2] = 20\n",
    "print('a:', a)\n",
    "print('b:', b)\n",
    "print('c:', c)\n",
    "print('d:', d)"
   ]
  },
  {
   "cell_type": "markdown",
   "metadata": {},
   "source": [
    "## Tuple\n",
    "A *tuples* is a data structure composed of ordered values. Unlike a list they cannot be changed. They are created with parentheses:"
   ]
  },
  {
   "cell_type": "code",
   "execution_count": null,
   "metadata": {},
   "outputs": [],
   "source": [
    "tup = (1, 2, 3)\n",
    "tup"
   ]
  },
  {
   "cell_type": "markdown",
   "metadata": {},
   "source": [
    "Since tuples canot be changed, they are not particularly useful data structures. However, the inputs to functions are treated as tuples, so error messages may occasionally reference them."
   ]
  },
  {
   "cell_type": "markdown",
   "metadata": {},
   "source": [
    "## Set\n",
    "A *set* is a data structure composed of unordered unique values. Sets can be created using curly brackets, though I cannot think of a reason to do this directly. Note that duplicate values are ignored."
   ]
  },
  {
   "cell_type": "code",
   "execution_count": null,
   "metadata": {},
   "outputs": [],
   "source": [
    "s = {1, 2, 3, 1, 2, 3}\n",
    "print(s)\n",
    "type(s)"
   ]
  },
  {
   "cell_type": "markdown",
   "metadata": {},
   "source": [
    "More commonly, the `set(collection)` function is an easy way to find unique values in an array or a tuple (alongside the other technique we learned, using `np.unique(collection)`:"
   ]
  },
  {
   "cell_type": "code",
   "execution_count": null,
   "metadata": {},
   "outputs": [],
   "source": [
    "a = [1, 2, 1, 2, 3]\n",
    "set(a)"
   ]
  },
  {
   "cell_type": "code",
   "execution_count": null,
   "metadata": {},
   "outputs": [],
   "source": [
    "set(a)[0]"
   ]
  },
  {
   "cell_type": "code",
   "execution_count": null,
   "metadata": {},
   "outputs": [],
   "source": [
    "list(set(a))[0]"
   ]
  },
  {
   "cell_type": "markdown",
   "metadata": {},
   "source": [
    "Some useful methods include `set.intersection(other)`, `set.difference(other)` and `set.union(other)`. `other` does not have to be a set and can be any collection object:"
   ]
  },
  {
   "cell_type": "code",
   "execution_count": null,
   "metadata": {},
   "outputs": [],
   "source": [
    "a = set([1, 2, 3])\n",
    "b = [2, 3, 4]\n",
    "\n",
    "print(a.intersection(b))\n",
    "print(a.difference(b))\n",
    "print(a.union(b))"
   ]
  },
  {
   "cell_type": "markdown",
   "metadata": {},
   "source": [
    "##  Check if Item Exists\n",
    "The keyword `in` came up in our discussion of `for` loops/iteration:"
   ]
  },
  {
   "cell_type": "code",
   "execution_count": null,
   "metadata": {},
   "outputs": [],
   "source": [
    "for name in make_array('Tom', 'Maria', 'Shrenek'):\n",
    "    print(name)"
   ]
  },
  {
   "cell_type": "markdown",
   "metadata": {},
   "source": [
    "The `in` keyword can also be used to check if a value is in any collection object. It returns a boolean indicating whether the value was in the collection."
   ]
  },
  {
   "cell_type": "code",
   "execution_count": null,
   "metadata": {},
   "outputs": [],
   "source": [
    "a = make_array('Tom', 'Maria', 'Shrenek')\n",
    "print('Tom' in a)\n",
    "print('Keith' in a)"
   ]
  },
  {
   "cell_type": "markdown",
   "metadata": {},
   "source": [
    "**This is extremely useful.** For instance, this can be paired with the control statement `if` to guide the flow of a program:"
   ]
  },
  {
   "cell_type": "code",
   "execution_count": null,
   "metadata": {},
   "outputs": [],
   "source": [
    "def shout_new(names, new):\n",
    "    '''Prints in uppercase the names of unseen names.'''\n",
    "    # loop through the new names\n",
    "    for n in new:\n",
    "        if n not in names:\n",
    "            n_upper = n.upper()\n",
    "            print('NEW NAME: {}'.format(n_upper))"
   ]
  },
  {
   "cell_type": "code",
   "execution_count": null,
   "metadata": {},
   "outputs": [],
   "source": [
    "names = make_array('Tom', 'Maria', 'Shrenek')\n",
    "people = make_array('Sally', 'Tom', 'Leroy')\n",
    "\n",
    "shout_new(names, people)"
   ]
  },
  {
   "cell_type": "markdown",
   "metadata": {},
   "source": [
    "## List comprehensions\n",
    "*List comprehensions* can be used to write loops in a single line. The syntax essentially involves running a loop \"within\" a list, as follows: \n",
    "\n",
    "### `[<some operation on i> for i in <some list>]`"
   ]
  },
  {
   "cell_type": "code",
   "execution_count": null,
   "metadata": {},
   "outputs": [],
   "source": [
    "original_list = [1, 2, 3, 4, 5, 6, 7, 8, 9, 10]\n",
    "identical_list = [i for i in original_list]\n",
    "identical_list"
   ]
  },
  {
   "cell_type": "code",
   "execution_count": null,
   "metadata": {},
   "outputs": [],
   "source": [
    "same_thing = []\n",
    "for i in original_list:\n",
    "    same_thing.append(i)\n",
    "same_thing"
   ]
  },
  {
   "cell_type": "markdown",
   "metadata": {},
   "source": [
    "A list comprehension does not alter the original list:"
   ]
  },
  {
   "cell_type": "code",
   "execution_count": null,
   "metadata": {},
   "outputs": [],
   "source": [
    "list_incremented_by_one = [i+1 for i in original_list]\n",
    "list_incremented_by_one"
   ]
  },
  {
   "cell_type": "code",
   "execution_count": null,
   "metadata": {},
   "outputs": [],
   "source": [
    "original_list"
   ]
  },
  {
   "cell_type": "markdown",
   "metadata": {},
   "source": [
    "To be explicit about the compactness of list comprehension, note that the following two cells perform identical operations:"
   ]
  },
  {
   "cell_type": "code",
   "execution_count": null,
   "metadata": {},
   "outputs": [],
   "source": [
    "new_list = []\n",
    "for i in original_list:\n",
    "    new_list.append(i**2)\n",
    "new_list"
   ]
  },
  {
   "cell_type": "code",
   "execution_count": null,
   "metadata": {},
   "outputs": [],
   "source": [
    "[i**2 for i in original_list]"
   ]
  },
  {
   "cell_type": "markdown",
   "metadata": {},
   "source": [
    "As an aside, list comprehensions can be done with `numpy` arrays as well, though the result will be a list, not a `numpy` array. As with all lists, the result can be turned into a `numpy` array with `np.array(list)`."
   ]
  },
  {
   "cell_type": "code",
   "execution_count": null,
   "metadata": {},
   "outputs": [],
   "source": [
    "a = make_array(4, 5, 6)\n",
    "[i**2 for i in a]"
   ]
  },
  {
   "cell_type": "code",
   "execution_count": null,
   "metadata": {},
   "outputs": [],
   "source": [
    "np.array([i**2 for i in a])"
   ]
  },
  {
   "cell_type": "markdown",
   "metadata": {},
   "source": [
    "`make_array(list)` from the `datascience` package operates a bit differently because it turns each argument into an element, so the equivalent functionality is `make_array(list)[0]`."
   ]
  },
  {
   "cell_type": "code",
   "execution_count": null,
   "metadata": {},
   "outputs": [],
   "source": [
    "tmp = make_array([i**2 for i in a])\n",
    "tmp"
   ]
  },
  {
   "cell_type": "code",
   "execution_count": null,
   "metadata": {},
   "outputs": [],
   "source": [
    "tmp[0]"
   ]
  },
  {
   "cell_type": "markdown",
   "metadata": {},
   "source": [
    "## Dictionaries"
   ]
  },
  {
   "cell_type": "markdown",
   "metadata": {},
   "source": [
    "*Dictionaries* are data structures composed of *key-value* pairs. Dictionaries can be used to map keys to values:\n",
    "<img src=\"https://raw.githubusercontent.com/learn-co-curriculum/cssi-4.10-python-dictionaries/master/images/dictionary.png\">"
   ]
  },
  {
   "cell_type": "code",
   "execution_count": null,
   "metadata": {},
   "outputs": [],
   "source": [
    "l = [\"Eggs\", \"Milk\", \"Cheese\", \"Yogurt\", \"Butter\", \"More Cheese\"]"
   ]
  },
  {
   "cell_type": "code",
   "execution_count": null,
   "metadata": {},
   "outputs": [],
   "source": [
    "l[4]"
   ]
  },
  {
   "cell_type": "markdown",
   "metadata": {},
   "source": [
    "Dictionaries are defined using curly brackets:\n",
    "`{key1: value1, key2: value2, key3: value3, ...}`:"
   ]
  },
  {
   "cell_type": "code",
   "execution_count": null,
   "metadata": {},
   "outputs": [],
   "source": [
    "d = {\"Eggs\" : 2.59, \"Milk\": 3.19, \"Cheese\": 4.80, \"Yogurt\": 1.35, \"Butter\": 2.59, \"More Cheese\": 6.19}\n",
    "d"
   ]
  },
  {
   "cell_type": "code",
   "execution_count": null,
   "metadata": {},
   "outputs": [],
   "source": [
    "d['Butter']"
   ]
  },
  {
   "cell_type": "markdown",
   "metadata": {},
   "source": [
    "You can build a dictionary incrementally as well. Instantiate an empty dictionary with `<name of dictionary> = {}`, and add values with `<name of dictionary>[<name of a key>] = <new value>`. The following dictionary maps the names of fruits to their colors."
   ]
  },
  {
   "cell_type": "code",
   "execution_count": null,
   "metadata": {},
   "outputs": [],
   "source": [
    "fruits = {} # initialize an empty dictionary\n",
    "fruits['apple'] = \"red\"\n",
    "fruits['pear'] = \"green\"\n",
    "fruits['banana'] = \"yellow\"\n",
    "fruits"
   ]
  },
  {
   "cell_type": "code",
   "execution_count": null,
   "metadata": {},
   "outputs": [],
   "source": [
    "fruits['banana']"
   ]
  },
  {
   "cell_type": "markdown",
   "metadata": {},
   "source": [
    "### `<name of dictionary>[<name of a key>]`\n",
    "Use square brackets to access the values of a dictionary. For instance, say, I wanted to know how much my pet dinosaur weighed:"
   ]
  },
  {
   "cell_type": "code",
   "execution_count": null,
   "metadata": {},
   "outputs": [],
   "source": [
    "pets = {\"dog\" : 5, \"cat\": 2, \"parrot\": 0.5, \"dinosaur\": 100}\n",
    "pets"
   ]
  },
  {
   "cell_type": "code",
   "execution_count": null,
   "metadata": {},
   "outputs": [],
   "source": [
    "weight = pets['dinosaur'] # How much does my dinosaur weigh?\n",
    "print(\"The weight of my dinosaur weights\", weight, \"kg.\")"
   ]
  },
  {
   "cell_type": "markdown",
   "metadata": {},
   "source": [
    "### `<name of dictionary>.keys()`\n",
    "The function `keys` can be used to get all of a dictionary's keys at once. "
   ]
  },
  {
   "cell_type": "code",
   "execution_count": null,
   "metadata": {},
   "outputs": [],
   "source": [
    "pets.keys()"
   ]
  },
  {
   "cell_type": "markdown",
   "metadata": {},
   "source": [
    "The output of `dict.keys()`, `dict.values()` and `dict.items()` are special Python objects. Unfortunately, you cannot index them (with bracket notation):"
   ]
  },
  {
   "cell_type": "code",
   "execution_count": null,
   "metadata": {},
   "outputs": [],
   "source": [
    "pets.keys()[0]"
   ]
  },
  {
   "cell_type": "markdown",
   "metadata": {},
   "source": [
    "However, these objects can easily be turned into lists with the `list()` function."
   ]
  },
  {
   "cell_type": "code",
   "execution_count": null,
   "metadata": {},
   "outputs": [],
   "source": [
    "list(pets.keys())"
   ]
  },
  {
   "cell_type": "code",
   "execution_count": null,
   "metadata": {},
   "outputs": [],
   "source": [
    "list(pets.keys())[0]"
   ]
  },
  {
   "cell_type": "markdown",
   "metadata": {},
   "source": [
    "Don't try to directly turn the output into a numpy array. It won't work:"
   ]
  },
  {
   "cell_type": "code",
   "execution_count": null,
   "metadata": {},
   "outputs": [],
   "source": [
    "np.array(pets.keys())"
   ]
  },
  {
   "cell_type": "markdown",
   "metadata": {},
   "source": [
    "### `<name of dictionary>.values()`\n",
    "Similarly, the function `values` can be used to get all of a dictionary's values at once. "
   ]
  },
  {
   "cell_type": "code",
   "execution_count": null,
   "metadata": {},
   "outputs": [],
   "source": [
    "pets.values()"
   ]
  },
  {
   "cell_type": "markdown",
   "metadata": {},
   "source": [
    "### `<name of dictionary>.items()`\n",
    "The function `items` returns all of the dictionary's keys and values at once. Each element in the result is a *tuple* of the form `(key, value)`."
   ]
  },
  {
   "cell_type": "code",
   "execution_count": null,
   "metadata": {},
   "outputs": [],
   "source": [
    "pets"
   ]
  },
  {
   "cell_type": "code",
   "execution_count": null,
   "metadata": {},
   "outputs": [],
   "source": [
    "pets.items()"
   ]
  },
  {
   "cell_type": "code",
   "execution_count": null,
   "metadata": {},
   "outputs": [],
   "source": [
    "list(pets.items())[3]"
   ]
  },
  {
   "cell_type": "markdown",
   "metadata": {},
   "source": [
    "One easy way to access the values of a dictionary is by iterating over it using one of the access methods (`.keys()`, `.values()` or `.items()`. For instance, if I wanted to access all the weights of my animals at once, I could do the following:"
   ]
  },
  {
   "cell_type": "code",
   "execution_count": null,
   "metadata": {},
   "outputs": [],
   "source": [
    "for key in pets.keys():\n",
    "    weight = pets[key]\n",
    "    print(\"My\", key, \"weighs\", weight, \"kg.\")"
   ]
  },
  {
   "cell_type": "code",
   "execution_count": null,
   "metadata": {},
   "outputs": [],
   "source": [
    "for key, value in pets.items():\n",
    "    print(\"My\", key, \"weighs\", value, \"kg.\")"
   ]
  },
  {
   "cell_type": "markdown",
   "metadata": {},
   "source": [
    "## Dictionary comprehensions"
   ]
  },
  {
   "cell_type": "markdown",
   "metadata": {},
   "source": [
    "*Dictionary comprehensions* are like list comprehensions but for dictionaries. The key difference is the use of curly brackets."
   ]
  },
  {
   "cell_type": "markdown",
   "metadata": {},
   "source": [
    "For instance, consider the dictionary `pets` from earlier. You could reverse the dictionary in a single line using a dictionary comprehension:"
   ]
  },
  {
   "cell_type": "code",
   "execution_count": null,
   "metadata": {},
   "outputs": [],
   "source": [
    "pets"
   ]
  },
  {
   "cell_type": "code",
   "execution_count": null,
   "metadata": {},
   "outputs": [],
   "source": [
    "{pets[i] : i for i in pets}"
   ]
  },
  {
   "cell_type": "markdown",
   "metadata": {},
   "source": [
    "Remember that curly brackets are also used to create a `set` object, so it is important to make sure that you include the `:` with key/value pairs. "
   ]
  },
  {
   "cell_type": "code",
   "execution_count": null,
   "metadata": {},
   "outputs": [],
   "source": [
    "{pets[i] for i in pets}"
   ]
  },
  {
   "cell_type": "code",
   "execution_count": null,
   "metadata": {},
   "outputs": [],
   "source": [
    "type({pets[i] for i in pets})"
   ]
  },
  {
   "cell_type": "markdown",
   "metadata": {},
   "source": [
    "## Nested dictionaries"
   ]
  },
  {
   "cell_type": "markdown",
   "metadata": {},
   "source": [
    "A dictionary can have many levels. For example, let's pretend that I teach language courses. I could use a dictionary to store information on all of the classes that I teach. The class data could itself be organized as a dictionary, so that it contained each student's name connected to their grades:"
   ]
  },
  {
   "cell_type": "code",
   "execution_count": null,
   "metadata": {},
   "outputs": [],
   "source": [
    "teach = {\"Greek\": {\"Katie\":[100, 85],\n",
    "                   \"Bob\":[70, 95],\n",
    "                   \"Div\":[50, 65]},\n",
    "        \"Spanish\": {\"Vasilis\":[10, 20],\n",
    "                    \"Elva\":[100, 100]},\n",
    "        \"French\":{'Laura':[165, 200, 187],\n",
    "                  'Lars':[134, 182, 200],\n",
    "                  'Tony':[200, 200, 200]}\n",
    "        }\n",
    "teach"
   ]
  },
  {
   "cell_type": "markdown",
   "metadata": {},
   "source": [
    "The value linked to the key \"Spanish\" is another dictionary:"
   ]
  },
  {
   "cell_type": "code",
   "execution_count": null,
   "metadata": {},
   "outputs": [],
   "source": [
    "spanish_class = teach['Spanish']\n",
    "spanish_class"
   ]
  },
  {
   "cell_type": "code",
   "execution_count": null,
   "metadata": {},
   "outputs": [],
   "source": [
    "spanish_class['Vasilis']"
   ]
  },
  {
   "cell_type": "markdown",
   "metadata": {},
   "source": [
    "Keys can be integers as well. Other data types may work as well, but more likely the keys are strings. Note that this illustrates that the keys of a dictionary do not have to be the same data type: here `spanish_class` has a mixture of string and integer keys."
   ]
  },
  {
   "cell_type": "code",
   "execution_count": null,
   "metadata": {},
   "outputs": [],
   "source": [
    "spanish_class[50] = [50, 50]"
   ]
  },
  {
   "cell_type": "code",
   "execution_count": null,
   "metadata": {},
   "outputs": [],
   "source": [
    "spanish_class"
   ]
  }
 ],
 "metadata": {
  "kernelspec": {
   "display_name": "Python 3",
   "language": "python",
   "name": "python3"
  },
  "language_info": {
   "codemirror_mode": {
    "name": "ipython",
    "version": 3
   },
   "file_extension": ".py",
   "mimetype": "text/x-python",
   "name": "python",
   "nbconvert_exporter": "python",
   "pygments_lexer": "ipython3",
   "version": "3.7.5"
  }
 },
 "nbformat": 4,
 "nbformat_minor": 2
}
