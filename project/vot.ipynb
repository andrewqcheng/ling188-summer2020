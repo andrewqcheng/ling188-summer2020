{
 "cells": [
  {
   "cell_type": "markdown",
   "metadata": {},
   "source": [
    "# VOT\n",
    "\n",
    "Voice Onset Time (VOT) is the phonetic phenomenon of the time between the lips opening and the vocal folds vibrating in certain speech sounds. We can also measure the time the lips are closed during certain speech sounds. You can read more about it [here](https://en.wikipedia.org/wiki/Voice_onset_time). This dataset comes from some UC Berkeley students. The language columns represents the speakers native language. The height column represents their height in centimeters. The columns with \"vot\" in their name represent the time in milliseconds of the VOT for certain speech sounds. For example, the \"pvot\" column represents the VOT for pronouncing a /p/ for each speaker. Similarly, the columns with \"clo\" in their name represent the time in milliseconds of the closure of the lips."
   ]
  },
  {
   "cell_type": "code",
   "execution_count": 1,
   "metadata": {},
   "outputs": [],
   "source": [
    "from datascience import *"
   ]
  },
  {
   "cell_type": "code",
   "execution_count": 2,
   "metadata": {},
   "outputs": [],
   "source": [
    "table = Table.read_table(\"datasets/vot.csv\")"
   ]
  },
  {
   "cell_type": "code",
   "execution_count": 3,
   "metadata": {},
   "outputs": [
    {
     "data": {
      "text/html": [
       "<table border=\"1\" class=\"dataframe\">\n",
       "    <thead>\n",
       "        <tr>\n",
       "            <th>language</th> <th>gender</th> <th>height</th> <th>pvot</th> <th>tvot</th> <th>kvot</th> <th>bvot</th> <th>dvot</th> <th>gvot</th> <th>pclo</th> <th>tclo</th> <th>kclo</th> <th>bclo</th> <th>dclo</th> <th>gclo</th> <th>class</th>\n",
       "        </tr>\n",
       "    </thead>\n",
       "    <tbody>\n",
       "        <tr>\n",
       "            <td>Mandarin</td> <td>Female</td> <td>160   </td> <td>96  </td> <td>105 </td> <td>87  </td> <td>26  </td> <td>36  </td> <td>33  </td> <td>125 </td> <td>111 </td> <td>124 </td> <td>161 </td> <td>94  </td> <td>110 </td> <td>Fall 2017</td>\n",
       "        </tr>\n",
       "        <tr>\n",
       "            <td>English </td> <td>Female</td> <td>151   </td> <td>116 </td> <td>118 </td> <td>126 </td> <td>47  </td> <td>42  </td> <td>45  </td> <td>53  </td> <td>57  </td> <td>52  </td> <td>50  </td> <td>59  </td> <td>67  </td> <td>Fall 2017</td>\n",
       "        </tr>\n",
       "        <tr>\n",
       "            <td>Tagalog </td> <td>Male  </td> <td>152.4 </td> <td>58  </td> <td>103 </td> <td>124 </td> <td>-40 </td> <td>-75 </td> <td>-35 </td> <td>113 </td> <td>92  </td> <td>94  </td> <td>88  </td> <td>75  </td> <td>61  </td> <td>Fall 2017</td>\n",
       "        </tr>\n",
       "        <tr>\n",
       "            <td>English </td> <td>Female</td> <td>154.94</td> <td>100 </td> <td>94  </td> <td>90  </td> <td>21  </td> <td>35  </td> <td>37  </td> <td>110 </td> <td>88  </td> <td>72  </td> <td>126 </td> <td>83  </td> <td>84  </td> <td>Fall 2017</td>\n",
       "        </tr>\n",
       "        <tr>\n",
       "            <td>English </td> <td>Female</td> <td>154.94</td> <td>115 </td> <td>128 </td> <td>123 </td> <td>-16 </td> <td>66  </td> <td>37  </td> <td>48  </td> <td>46  </td> <td>74  </td> <td>65  </td> <td>34  </td> <td>62  </td> <td>Fall 2017</td>\n",
       "        </tr>\n",
       "        <tr>\n",
       "            <td>English </td> <td>Female</td> <td>154.94</td> <td>130 </td> <td>124 </td> <td>119 </td> <td>11  </td> <td>9   </td> <td>24  </td> <td>82  </td> <td>53  </td> <td>72  </td> <td>122 </td> <td>76  </td> <td>35  </td> <td>Fall 2017</td>\n",
       "        </tr>\n",
       "        <tr>\n",
       "            <td>English </td> <td>Female</td> <td>155   </td> <td>59  </td> <td>90  </td> <td>100 </td> <td>34  </td> <td>28  </td> <td>40  </td> <td>100 </td> <td>126 </td> <td>99  </td> <td>156 </td> <td>127 </td> <td>101 </td> <td>Fall 2017</td>\n",
       "        </tr>\n",
       "        <tr>\n",
       "            <td>English </td> <td>Female</td> <td>155   </td> <td>118 </td> <td>122 </td> <td>138 </td> <td>-8  </td> <td>-31 </td> <td>-32 </td> <td>263 </td> <td>237 </td> <td>199 </td> <td>133 </td> <td>136 </td> <td>152 </td> <td>Fall 2017</td>\n",
       "        </tr>\n",
       "        <tr>\n",
       "            <td>English </td> <td>Female</td> <td>156.2 </td> <td>106 </td> <td>110 </td> <td>136 </td> <td>-12 </td> <td>19  </td> <td>-31 </td> <td>61  </td> <td>60  </td> <td>42  </td> <td>107 </td> <td>68  </td> <td>56  </td> <td>Fall 2017</td>\n",
       "        </tr>\n",
       "        <tr>\n",
       "            <td>English </td> <td>Female</td> <td>157   </td> <td>43  </td> <td>61  </td> <td>72  </td> <td>-107</td> <td>29  </td> <td>29  </td> <td>109 </td> <td>92  </td> <td>100 </td> <td>126 </td> <td>111 </td> <td>70  </td> <td>Fall 2017</td>\n",
       "        </tr>\n",
       "    </tbody>\n",
       "</table>\n",
       "<p>... (88 rows omitted)</p>"
      ],
      "text/plain": [
       "language | gender | height | pvot | tvot | kvot | bvot | dvot | gvot | pclo | tclo | kclo | bclo | dclo | gclo | class\n",
       "Mandarin | Female | 160    | 96   | 105  | 87   | 26   | 36   | 33   | 125  | 111  | 124  | 161  | 94   | 110  | Fall 2017\n",
       "English  | Female | 151    | 116  | 118  | 126  | 47   | 42   | 45   | 53   | 57   | 52   | 50   | 59   | 67   | Fall 2017\n",
       "Tagalog  | Male   | 152.4  | 58   | 103  | 124  | -40  | -75  | -35  | 113  | 92   | 94   | 88   | 75   | 61   | Fall 2017\n",
       "English  | Female | 154.94 | 100  | 94   | 90   | 21   | 35   | 37   | 110  | 88   | 72   | 126  | 83   | 84   | Fall 2017\n",
       "English  | Female | 154.94 | 115  | 128  | 123  | -16  | 66   | 37   | 48   | 46   | 74   | 65   | 34   | 62   | Fall 2017\n",
       "English  | Female | 154.94 | 130  | 124  | 119  | 11   | 9    | 24   | 82   | 53   | 72   | 122  | 76   | 35   | Fall 2017\n",
       "English  | Female | 155    | 59   | 90   | 100  | 34   | 28   | 40   | 100  | 126  | 99   | 156  | 127  | 101  | Fall 2017\n",
       "English  | Female | 155    | 118  | 122  | 138  | -8   | -31  | -32  | 263  | 237  | 199  | 133  | 136  | 152  | Fall 2017\n",
       "English  | Female | 156.2  | 106  | 110  | 136  | -12  | 19   | -31  | 61   | 60   | 42   | 107  | 68   | 56   | Fall 2017\n",
       "English  | Female | 157    | 43   | 61   | 72   | -107 | 29   | 29   | 109  | 92   | 100  | 126  | 111  | 70   | Fall 2017\n",
       "... (88 rows omitted)"
      ]
     },
     "execution_count": 3,
     "metadata": {},
     "output_type": "execute_result"
    }
   ],
   "source": [
    "table"
   ]
  }
 ],
 "metadata": {
  "kernelspec": {
   "display_name": "Python 3",
   "language": "python",
   "name": "python3"
  },
  "language_info": {
   "codemirror_mode": {
    "name": "ipython",
    "version": 3
   },
   "file_extension": ".py",
   "mimetype": "text/x-python",
   "name": "python",
   "nbconvert_exporter": "python",
   "pygments_lexer": "ipython3",
   "version": "3.7.5"
  }
 },
 "nbformat": 4,
 "nbformat_minor": 2
}
