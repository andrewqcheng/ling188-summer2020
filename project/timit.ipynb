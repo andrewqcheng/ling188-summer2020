{
 "cells": [
  {
   "cell_type": "markdown",
   "metadata": {},
   "source": [
    "# TIMIT\n",
    "\n",
    "This is the TIMIT dataset we used in week 2.\n",
    "\n",
    "[TIMIT](https://en.wikipedia.org/wiki/TIMIT) is a database of speech recorded during telephone conversations in different varieties of American English. This database is specifically designed for phonetics and speech recognition research. For more information, visit [their website](https://catalog.ldc.upenn.edu/LDC93S1) (Garofolo et al. 1993)."
   ]
  },
  {
   "cell_type": "code",
   "execution_count": 1,
   "metadata": {},
   "outputs": [],
   "source": [
    "from datascience import *"
   ]
  },
  {
   "cell_type": "code",
   "execution_count": 3,
   "metadata": {},
   "outputs": [],
   "source": [
    "data = Table.read_table(\"datasets/timit.csv\")"
   ]
  },
  {
   "cell_type": "code",
   "execution_count": 4,
   "metadata": {},
   "outputs": [
    {
     "data": {
      "text/html": [
       "<table border=\"1\" class=\"dataframe\">\n",
       "    <thead>\n",
       "        <tr>\n",
       "            <th>speaker</th> <th>gender</th> <th>region</th> <th>height</th> <th>word</th> <th>vowel</th> <th>duration</th> <th>F1</th> <th>F2</th> <th>F3</th> <th>f0</th>\n",
       "        </tr>\n",
       "    </thead>\n",
       "    <tbody>\n",
       "        <tr>\n",
       "            <td>cjf0   </td> <td>female</td> <td>1     </td> <td>162.56</td> <td>SHE   </td> <td>IY   </td> <td>0.08    </td> <td>486.2</td> <td>2467.9</td> <td>3185.1</td> <td>244.9</td>\n",
       "        </tr>\n",
       "        <tr>\n",
       "            <td>cjf0   </td> <td>female</td> <td>1     </td> <td>162.56</td> <td>HAD   </td> <td>AE   </td> <td>0.1     </td> <td>595.1</td> <td>2067  </td> <td>2976.7</td> <td>241.6</td>\n",
       "        </tr>\n",
       "        <tr>\n",
       "            <td>cjf0   </td> <td>female</td> <td>1     </td> <td>162.56</td> <td>YOUR  </td> <td>UH   </td> <td>0.04    </td> <td>468.7</td> <td>1956.1</td> <td>3061.4</td> <td>201.9</td>\n",
       "        </tr>\n",
       "        <tr>\n",
       "            <td>cjf0   </td> <td>female</td> <td>1     </td> <td>162.56</td> <td>DARK  </td> <td>AA   </td> <td>0.1     </td> <td>740.4</td> <td>1674.1</td> <td>2767.3</td> <td>221.5</td>\n",
       "        </tr>\n",
       "        <tr>\n",
       "            <td>cjf0   </td> <td>female</td> <td>1     </td> <td>162.56</td> <td>SUIT  </td> <td>UW   </td> <td>0.17    </td> <td>464  </td> <td>1698  </td> <td>2904.9</td> <td>232.6</td>\n",
       "        </tr>\n",
       "        <tr>\n",
       "            <td>cjf0   </td> <td>female</td> <td>1     </td> <td>162.56</td> <td>GREASY</td> <td>IY   </td> <td>0.04    </td> <td>431.5</td> <td>2186.3</td> <td>2858.7</td> <td>207.8</td>\n",
       "        </tr>\n",
       "        <tr>\n",
       "            <td>cjf0   </td> <td>female</td> <td>1     </td> <td>162.56</td> <td>WASH  </td> <td>AA   </td> <td>0.11    </td> <td>687.4</td> <td>1309.6</td> <td>2681.4</td> <td>191.7</td>\n",
       "        </tr>\n",
       "        <tr>\n",
       "            <td>cjf0   </td> <td>female</td> <td>1     </td> <td>162.56</td> <td>WATER </td> <td>AO   </td> <td>0.09    </td> <td>568  </td> <td>1105.9</td> <td>2852.3</td> <td>182.3</td>\n",
       "        </tr>\n",
       "        <tr>\n",
       "            <td>cjf0   </td> <td>female</td> <td>1     </td> <td>162.56</td> <td>ALL   </td> <td>AO   </td> <td>0.07    </td> <td>622.7</td> <td>1170  </td> <td>2721.4</td> <td>176.4</td>\n",
       "        </tr>\n",
       "        <tr>\n",
       "            <td>cjf0   </td> <td>female</td> <td>1     </td> <td>162.56</td> <td>YEAR  </td> <td>IH   </td> <td>0.03    </td> <td>513.5</td> <td>1955  </td> <td>2451.2</td> <td>165  </td>\n",
       "        </tr>\n",
       "    </tbody>\n",
       "</table>\n",
       "<p>... (29943 rows omitted)</p>"
      ],
      "text/plain": [
       "speaker | gender | region | height | word   | vowel | duration | F1    | F2     | F3     | f0\n",
       "cjf0    | female | 1      | 162.56 | SHE    | IY    | 0.08     | 486.2 | 2467.9 | 3185.1 | 244.9\n",
       "cjf0    | female | 1      | 162.56 | HAD    | AE    | 0.1      | 595.1 | 2067   | 2976.7 | 241.6\n",
       "cjf0    | female | 1      | 162.56 | YOUR   | UH    | 0.04     | 468.7 | 1956.1 | 3061.4 | 201.9\n",
       "cjf0    | female | 1      | 162.56 | DARK   | AA    | 0.1      | 740.4 | 1674.1 | 2767.3 | 221.5\n",
       "cjf0    | female | 1      | 162.56 | SUIT   | UW    | 0.17     | 464   | 1698   | 2904.9 | 232.6\n",
       "cjf0    | female | 1      | 162.56 | GREASY | IY    | 0.04     | 431.5 | 2186.3 | 2858.7 | 207.8\n",
       "cjf0    | female | 1      | 162.56 | WASH   | AA    | 0.11     | 687.4 | 1309.6 | 2681.4 | 191.7\n",
       "cjf0    | female | 1      | 162.56 | WATER  | AO    | 0.09     | 568   | 1105.9 | 2852.3 | 182.3\n",
       "cjf0    | female | 1      | 162.56 | ALL    | AO    | 0.07     | 622.7 | 1170   | 2721.4 | 176.4\n",
       "cjf0    | female | 1      | 162.56 | YEAR   | IH    | 0.03     | 513.5 | 1955   | 2451.2 | 165\n",
       "... (29943 rows omitted)"
      ]
     },
     "execution_count": 4,
     "metadata": {},
     "output_type": "execute_result"
    }
   ],
   "source": [
    "data"
   ]
  }
 ],
 "metadata": {
  "kernelspec": {
   "display_name": "Python 3",
   "language": "python",
   "name": "python3"
  },
  "language_info": {
   "codemirror_mode": {
    "name": "ipython",
    "version": 3
   },
   "file_extension": ".py",
   "mimetype": "text/x-python",
   "name": "python",
   "nbconvert_exporter": "python",
   "pygments_lexer": "ipython3",
   "version": "3.7.5"
  }
 },
 "nbformat": 4,
 "nbformat_minor": 2
}
