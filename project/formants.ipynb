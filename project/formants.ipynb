{
 "cells": [
  {
   "cell_type": "markdown",
   "metadata": {},
   "source": [
    "# Formants\n",
    "\n",
    "This is formant data on vowels from UC Berkeley students taking a linguistics class."
   ]
  },
  {
   "cell_type": "code",
   "execution_count": 1,
   "metadata": {},
   "outputs": [],
   "source": [
    "from datascience import *"
   ]
  },
  {
   "cell_type": "code",
   "execution_count": 2,
   "metadata": {},
   "outputs": [],
   "source": [
    "table = Table.read_table(\"datasets/formants.csv\")"
   ]
  },
  {
   "cell_type": "code",
   "execution_count": 3,
   "metadata": {},
   "outputs": [
    {
     "data": {
      "text/html": [
       "<table border=\"1\" class=\"dataframe\">\n",
       "    <thead>\n",
       "        <tr>\n",
       "            <th>ID</th> <th>Language</th> <th>Gender</th> <th>Height</th> <th>vowel</th> <th>F1</th> <th>F2</th> <th>F3</th>\n",
       "        </tr>\n",
       "    </thead>\n",
       "    <tbody>\n",
       "        <tr>\n",
       "            <td>1   </td> <td>English </td> <td>Female</td> <td>168   </td> <td>AA   </td> <td>948 </td> <td>1099</td> <td>2939</td>\n",
       "        </tr>\n",
       "        <tr>\n",
       "            <td>1   </td> <td>English </td> <td>Female</td> <td>168   </td> <td>AE   </td> <td>931 </td> <td>1922</td> <td>2897</td>\n",
       "        </tr>\n",
       "        <tr>\n",
       "            <td>1   </td> <td>English </td> <td>Female</td> <td>168   </td> <td>AH   </td> <td>733 </td> <td>1348</td> <td>2523</td>\n",
       "        </tr>\n",
       "        <tr>\n",
       "            <td>1   </td> <td>English </td> <td>Female</td> <td>168   </td> <td>EH   </td> <td>693 </td> <td>2004</td> <td>2873</td>\n",
       "        </tr>\n",
       "        <tr>\n",
       "            <td>1   </td> <td>English </td> <td>Female</td> <td>168   </td> <td>ER   </td> <td>608 </td> <td>1784</td> <td>1885</td>\n",
       "        </tr>\n",
       "        <tr>\n",
       "            <td>1   </td> <td>English </td> <td>Female</td> <td>168   </td> <td>EY   </td> <td>566 </td> <td>2323</td> <td>2991</td>\n",
       "        </tr>\n",
       "        <tr>\n",
       "            <td>1   </td> <td>English </td> <td>Female</td> <td>168   </td> <td>IH   </td> <td>515 </td> <td>2250</td> <td>3012</td>\n",
       "        </tr>\n",
       "        <tr>\n",
       "            <td>1   </td> <td>English </td> <td>Female</td> <td>168   </td> <td>IY   </td> <td>353 </td> <td>2879</td> <td>3385</td>\n",
       "        </tr>\n",
       "        <tr>\n",
       "            <td>1   </td> <td>English </td> <td>Female</td> <td>168   </td> <td>OW   </td> <td>566 </td> <td>1134</td> <td>2848</td>\n",
       "        </tr>\n",
       "        <tr>\n",
       "            <td>1   </td> <td>English </td> <td>Female</td> <td>168   </td> <td>UH   </td> <td>531 </td> <td>1529</td> <td>3051</td>\n",
       "        </tr>\n",
       "    </tbody>\n",
       "</table>\n",
       "<p>... (969 rows omitted)</p>"
      ],
      "text/plain": [
       "ID   | Language | Gender | Height | vowel | F1   | F2   | F3\n",
       "1    | English  | Female | 168    | AA    | 948  | 1099 | 2939\n",
       "1    | English  | Female | 168    | AE    | 931  | 1922 | 2897\n",
       "1    | English  | Female | 168    | AH    | 733  | 1348 | 2523\n",
       "1    | English  | Female | 168    | EH    | 693  | 2004 | 2873\n",
       "1    | English  | Female | 168    | ER    | 608  | 1784 | 1885\n",
       "1    | English  | Female | 168    | EY    | 566  | 2323 | 2991\n",
       "1    | English  | Female | 168    | IH    | 515  | 2250 | 3012\n",
       "1    | English  | Female | 168    | IY    | 353  | 2879 | 3385\n",
       "1    | English  | Female | 168    | OW    | 566  | 1134 | 2848\n",
       "1    | English  | Female | 168    | UH    | 531  | 1529 | 3051\n",
       "... (969 rows omitted)"
      ]
     },
     "execution_count": 3,
     "metadata": {},
     "output_type": "execute_result"
    }
   ],
   "source": [
    "table"
   ]
  }
 ],
 "metadata": {
  "kernelspec": {
   "display_name": "Python 3",
   "language": "python",
   "name": "python3"
  },
  "language_info": {
   "codemirror_mode": {
    "name": "ipython",
    "version": 3
   },
   "file_extension": ".py",
   "mimetype": "text/x-python",
   "name": "python",
   "nbconvert_exporter": "python",
   "pygments_lexer": "ipython3",
   "version": "3.7.5"
  }
 },
 "nbformat": 4,
 "nbformat_minor": 2
}
