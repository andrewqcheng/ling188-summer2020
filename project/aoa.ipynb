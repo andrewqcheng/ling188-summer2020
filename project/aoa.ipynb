{
 "cells": [
  {
   "cell_type": "markdown",
   "metadata": {},
   "source": [
    "# Age of Acquisition database\n",
    "\n",
    "Kuperman et al. (2012) collected ratings of \"Age of Acquisition\" for 30,121 English words (nouns, verbs, and adjectives). Subjects were asked to consider at what age they had acquired a certain word, and these ages are represented as means (\"Rating.Mean\") and standard deviations (Rating.SD). This information is widely used in child language development/language acquisition research.\n",
    "\n",
    "You can read more about it [here](http://crr.ugent.be/archives/806) and [here](http://crr.ugent.be/papers/Kuperman%20et%20al%20AoA%20ratings.pdf)."
   ]
  },
  {
   "cell_type": "code",
   "execution_count": null,
   "metadata": {},
   "outputs": [],
   "source": [
    "from datascience import *"
   ]
  },
  {
   "cell_type": "code",
   "execution_count": null,
   "metadata": {},
   "outputs": [],
   "source": [
    "d = Table.read_table(\"datasets/aoa.csv\")\n",
    "d.show(10)"
   ]
  }
 ],
 "metadata": {
  "kernelspec": {
   "display_name": "Python 3",
   "language": "python",
   "name": "python3"
  },
  "language_info": {
   "codemirror_mode": {
    "name": "ipython",
    "version": 3
   },
   "file_extension": ".py",
   "mimetype": "text/x-python",
   "name": "python",
   "nbconvert_exporter": "python",
   "pygments_lexer": "ipython3",
   "version": "3.6.9"
  }
 },
 "nbformat": 4,
 "nbformat_minor": 4
}
