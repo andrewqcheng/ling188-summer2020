{
 "cells": [
  {
   "cell_type": "markdown",
   "metadata": {},
   "source": [
    "# The Buckeye Corpus\n",
    "\n",
    "[The Buckeye Corpus](https://buckeyecorpus.osu.edu/) was created at the Ohio State University. A buckeye is the seed of a large tree that resembles the eye of a large male deer. From its website:\n",
    "\n",
    "*The Buckeye Corpus of conversational speech contains high-quality recordings from 40 speakers in Columbus OH conversing freely with an interviewer. The speech has been orthographically transcribed and phonetically labeled. The audio and text files, together with time-aligned phonetic labels, are stored in a format for use with speech analysis software (Xwaves and Wavesurfer). Software for searching the transcription files is currently being written. The corpus is FREE for noncommercial uses.*\n",
    "\n",
    "Three sample datasets from the Buckeye Corpus are provided in this notebook.\n",
    "\n",
    "Dataset `a` consists of only three columns: a word from the corpus, its frequency in the entire corpus, and the number of variant pronunciations recorded in the corpus. For example, the word \"pretty\" has several common variant pronunciations (think, pretty with a hard \"t\", pretty with a soft \"t\", \"purdy\", etc.).\n",
    "\n",
    "Dataset `b` analyzes the duration of the consonants /p/, /t/, and /k/ within the corpus. It contains 13 columns: a word, the file it came from, when the word began and ended (and its total duration), its citation pronunciation according to a standard pronunciation dictionary, its actual pronunciation by the speaker, S1 (a consonant whose duration was measured from the set /p, t, k/), and S2 (the sound that followed it). In order to parse the pronunciation columns, you may want to learn the basics of [ARPABET](https://en.wikipedia.org/wiki/ARPABET) notation.\n",
    "\n",
    "Dataset `c` will require some clever string manipulation in order to clean up. It has only one column, but seven actual columns of information are represented: the subject and file number (sNNXX), the time (in seconds) of the word, a column of random information (mostly numbers) that can be discarded, and four semicolon-separated (\";\") columns of information about each word spoken in the file: a word, its citation pronunciation, its actual pronunciation by the speaker, and the phonetic distance between the citation and actual pronunciations.\n",
    "\n",
    "For your project, you may use any of these datasets or a combination of them to conduct an acoustic-phonetic analysis of English."
   ]
  },
  {
   "cell_type": "code",
   "execution_count": null,
   "metadata": {},
   "outputs": [],
   "source": [
    "from datascience import *"
   ]
  },
  {
   "cell_type": "code",
   "execution_count": null,
   "metadata": {},
   "outputs": [],
   "source": [
    "a = Table.read_table(\"edict_tot_nvar.csv\")\n",
    "a.show(5)"
   ]
  },
  {
   "cell_type": "code",
   "execution_count": null,
   "metadata": {},
   "outputs": [],
   "source": [
    "b = Table.read_table(\"BuckeyePTKWords.csv\")\n",
    "b.show(5)"
   ]
  },
  {
   "cell_type": "code",
   "execution_count": null,
   "metadata": {},
   "outputs": [],
   "source": [
    "c = Table.read_table(\"all_words.csv\")\n",
    "c.show(10)"
   ]
  }
 ],
 "metadata": {
  "kernelspec": {
   "display_name": "Python 3",
   "language": "python",
   "name": "python3"
  },
  "language_info": {
   "codemirror_mode": {
    "name": "ipython",
    "version": 3
   },
   "file_extension": ".py",
   "mimetype": "text/x-python",
   "name": "python",
   "nbconvert_exporter": "python",
   "pygments_lexer": "ipython3",
   "version": "3.6.9"
  }
 },
 "nbformat": 4,
 "nbformat_minor": 4
}
