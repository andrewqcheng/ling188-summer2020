{
 "cells": [
  {
   "cell_type": "markdown",
   "metadata": {},
   "source": [
    "# Affective Word Norms\n",
    "\n",
    "Warriner et al. (2013) got hundreds of people to rate 13,915 English words for their \"affective norms of valence, arousal, and dominance\". For example, when you see the word \"earthquake\", how would you rate it in terms of \"dominance\"? How about the word \"martial\"? How about \"pudding\"? The ratings for the 13k English words, as well as 4,300 words in Dutch, are included here.\n",
    "\n",
    "You can read more about it [here](http://crr.ugent.be/archives/1003) and [here](http://crr.ugent.be/papers/Warriner_et_al_affective_ratings.pdf).\n",
    "\n",
    "In the table `english` below, the data is in \"wide\" format, which means that each column label has multiple values grouped together. For example, \"V.Mean.Sum\" indicates a rating of valence, the mean of the values, and the data from the \"sum\" of respondents. (\".M\" would indicate from male respondents, and \".F\" from female respondents.)\n",
    "- V: valence (on a scale from most negative meaning to most positive meaning)\n",
    "- A: arousal (on a scale from most boring to most arousing)\n",
    "- D: dominance (on a scale from least dominant to most dominant)\n",
    "- Mean: mean of ratings\n",
    "- SD: standard deviation of ratings\n",
    "- Rat: number of subjects who rated this word\n",
    "- Sum: data from all subjects\n",
    "- M: data from male subjects\n",
    "- F: data from female subjects\n",
    "- Y: data from young subjects\n",
    "- O: data from old subjects\n",
    "- L: data from subjects with a low level of education\n",
    "- H: data from subjects with a high level of education\n",
    "\n",
    "In the table `dutch` below, the same data is reported for Dutch words. However, this table is not simply the equivalent of the English table. If you wish to perform a cross-linguistic comparison, you will have to manipulate the Dutch table a little bit. Namely, instead of being a \"wide\" format, this table has a hierarchical structure, wherein the column labels only mark the equivalent of \"Sum\", \"M\", and \"F\", and the first \"row\" of the table is, in fact, the real column labels. The Dutch data also includes information about the average Age of Acquisition for the Dutch words in addition to valence, arousal, and dominance ratings."
   ]
  },
  {
   "cell_type": "code",
   "execution_count": null,
   "metadata": {},
   "outputs": [],
   "source": [
    "from datascience import *"
   ]
  },
  {
   "cell_type": "code",
   "execution_count": null,
   "metadata": {},
   "outputs": [],
   "source": [
    "english = Table.read_table(\"datasets/affective_english.csv\")\n",
    "dutch = Table.read_table(\"datasets/affective_dutch.csv\")"
   ]
  },
  {
   "cell_type": "code",
   "execution_count": null,
   "metadata": {},
   "outputs": [],
   "source": [
    "english"
   ]
  },
  {
   "cell_type": "code",
   "execution_count": null,
   "metadata": {},
   "outputs": [],
   "source": [
    "dutch"
   ]
  }
 ],
 "metadata": {
  "kernelspec": {
   "display_name": "Python 3",
   "language": "python",
   "name": "python3"
  },
  "language_info": {
   "codemirror_mode": {
    "name": "ipython",
    "version": 3
   },
   "file_extension": ".py",
   "mimetype": "text/x-python",
   "name": "python",
   "nbconvert_exporter": "python",
   "pygments_lexer": "ipython3",
   "version": "3.6.9"
  }
 },
 "nbformat": 4,
 "nbformat_minor": 4
}
