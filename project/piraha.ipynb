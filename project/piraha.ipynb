{
 "cells": [
  {
   "cell_type": "markdown",
   "metadata": {},
   "source": [
    "# Piraha\n",
    "\n",
    "[Pirahã](https://en.wikipedia.org/wiki/Pirah%C3%A3_language) is (in)famous in the field of linguistics for many reasons. One of the most prominent claims made about the language is a lack of an important syntactic phenomenon,  recursion. [Futrell et al. (2016)](https://journals.plos.org/plosone/article?id=10.1371/journal.pone.0145289) analyze a corpus of Pirahã and we're using their data here."
   ]
  },
  {
   "cell_type": "code",
   "execution_count": 1,
   "metadata": {},
   "outputs": [],
   "source": [
    "from datascience import *"
   ]
  },
  {
   "cell_type": "code",
   "execution_count": 17,
   "metadata": {},
   "outputs": [
    {
     "data": {
      "text/html": [
       "<table border=\"1\" class=\"dataframe\">\n",
       "    <thead>\n",
       "        <tr>\n",
       "            <th>story_num</th> <th>speaker</th> <th>fname</th> <th>utt_num</th> <th>utt_translation</th> <th>sent_num</th> <th>sent_translation</th>\n",
       "        </tr>\n",
       "    </thead>\n",
       "    <tbody>\n",
       "        <tr>\n",
       "            <td>1        </td> <td>Aogioso</td> <td>01_KATO'S BABY FALLS NEAR THE FIRE.pdf</td> <td>1      </td> <td>Early in the day I spoke. BaIgipOhoasi spoke (carried so ...</td> <td>1       </td> <td>[Early in the] day I spoke.                         </td>\n",
       "        </tr>\n",
       "        <tr>\n",
       "            <td>1        </td> <td>Aogioso</td> <td>01_KATO'S BABY FALLS NEAR THE FIRE.pdf</td> <td>1      </td> <td>Early in the day I spoke. BaIgipOhoasi spoke (carried so ...</td> <td>2       </td> <td>BaIgipOhoasi [speaker's sister] spoke.              </td>\n",
       "        </tr>\n",
       "        <tr>\n",
       "            <td>1        </td> <td>Aogioso</td> <td>01_KATO'S BABY FALLS NEAR THE FIRE.pdf</td> <td>1      </td> <td>Early in the day I spoke. BaIgipOhoasi spoke (carried so ...</td> <td>3       </td> <td>\"Is Kato sleepy?\"  [Lit: \"Kato-- her eyes flutter?\"]</td>\n",
       "        </tr>\n",
       "        <tr>\n",
       "            <td>1        </td> <td>Aogioso</td> <td>01_KATO'S BABY FALLS NEAR THE FIRE.pdf</td> <td>2      </td> <td>He (TixohOI) fell by the fire.                              </td> <td>1       </td> <td>He [TixohOI, KatO's baby] almost fell in the fire.  </td>\n",
       "        </tr>\n",
       "        <tr>\n",
       "            <td>1        </td> <td>Aogioso</td> <td>01_KATO'S BABY FALLS NEAR THE FIRE.pdf</td> <td>3      </td> <td>I spoke (carried sound). TixohOI is crying on the ground    </td> <td>1       </td> <td>I spoke!                                            </td>\n",
       "        </tr>\n",
       "        <tr>\n",
       "            <td>1        </td> <td>Aogioso</td> <td>01_KATO'S BABY FALLS NEAR THE FIRE.pdf</td> <td>3      </td> <td>I spoke (carried sound). TixohOI is crying on the ground    </td> <td>2       </td> <td>\"He [TixohOI] is on the ground.\"                    </td>\n",
       "        </tr>\n",
       "        <tr>\n",
       "            <td>1        </td> <td>Aogioso</td> <td>01_KATO'S BABY FALLS NEAR THE FIRE.pdf</td> <td>3      </td> <td>I spoke (carried sound). TixohOI is crying on the ground    </td> <td>3       </td> <td>\"TixohOI is crying.\"                                </td>\n",
       "        </tr>\n",
       "        <tr>\n",
       "            <td>1        </td> <td>Aogioso</td> <td>01_KATO'S BABY FALLS NEAR THE FIRE.pdf</td> <td>4      </td> <td>He fell by the fire right now.                              </td> <td>1       </td> <td>[He] certainly fell by the fire just now.           </td>\n",
       "        </tr>\n",
       "        <tr>\n",
       "            <td>1        </td> <td>Aogioso</td> <td>01_KATO'S BABY FALLS NEAR THE FIRE.pdf</td> <td>5      </td> <td>I spoke to Opisi. 'Did TixohOI burn himself just now?'      </td> <td>1       </td> <td>I thus spoke [to] Xopisi [speaker's husband]!       </td>\n",
       "        </tr>\n",
       "        <tr>\n",
       "            <td>1        </td> <td>Aogioso</td> <td>01_KATO'S BABY FALLS NEAR THE FIRE.pdf</td> <td>5      </td> <td>I spoke to Opisi. 'Did TixohOI burn himself just now?'      </td> <td>2       </td> <td>\"Did TixohOI fall down [and burn himself] just now?\"</td>\n",
       "        </tr>\n",
       "    </tbody>\n",
       "</table>\n",
       "<p>... (1179 rows omitted)</p>"
      ],
      "text/plain": [
       "story_num | speaker | fname                                  | utt_num | utt_translation                                              | sent_num | sent_translation\n",
       "1         | Aogioso | 01_KATO'S BABY FALLS NEAR THE FIRE.pdf | 1       | Early in the day I spoke. BaIgipOhoasi spoke (carried so ... | 1        | [Early in the] day I spoke.\n",
       "1         | Aogioso | 01_KATO'S BABY FALLS NEAR THE FIRE.pdf | 1       | Early in the day I spoke. BaIgipOhoasi spoke (carried so ... | 2        | BaIgipOhoasi [speaker's sister] spoke.\n",
       "1         | Aogioso | 01_KATO'S BABY FALLS NEAR THE FIRE.pdf | 1       | Early in the day I spoke. BaIgipOhoasi spoke (carried so ... | 3        | \"Is Kato sleepy?\"  [Lit: \"Kato-- her eyes flutter?\"]\n",
       "1         | Aogioso | 01_KATO'S BABY FALLS NEAR THE FIRE.pdf | 2       | He (TixohOI) fell by the fire.                               | 1        | He [TixohOI, KatO's baby] almost fell in the fire.\n",
       "1         | Aogioso | 01_KATO'S BABY FALLS NEAR THE FIRE.pdf | 3       | I spoke (carried sound). TixohOI is crying on the ground     | 1        | I spoke!\n",
       "1         | Aogioso | 01_KATO'S BABY FALLS NEAR THE FIRE.pdf | 3       | I spoke (carried sound). TixohOI is crying on the ground     | 2        | \"He [TixohOI] is on the ground.\"\n",
       "1         | Aogioso | 01_KATO'S BABY FALLS NEAR THE FIRE.pdf | 3       | I spoke (carried sound). TixohOI is crying on the ground     | 3        | \"TixohOI is crying.\"\n",
       "1         | Aogioso | 01_KATO'S BABY FALLS NEAR THE FIRE.pdf | 4       | He fell by the fire right now.                               | 1        | [He] certainly fell by the fire just now.\n",
       "1         | Aogioso | 01_KATO'S BABY FALLS NEAR THE FIRE.pdf | 5       | I spoke to Opisi. 'Did TixohOI burn himself just now?'       | 1        | I thus spoke [to] Xopisi [speaker's husband]!\n",
       "1         | Aogioso | 01_KATO'S BABY FALLS NEAR THE FIRE.pdf | 5       | I spoke to Opisi. 'Did TixohOI burn himself just now?'       | 2        | \"Did TixohOI fall down [and burn himself] just now?\"\n",
       "... (1179 rows omitted)"
      ]
     },
     "execution_count": 17,
     "metadata": {},
     "output_type": "execute_result"
    }
   ],
   "source": [
    "table = Table.read_table(\"datasets/piraha.csv\")\n",
    "table = table.drop(\"words\")\n",
    "table"
   ]
  }
 ],
 "metadata": {
  "kernelspec": {
   "display_name": "Python 3",
   "language": "python",
   "name": "python3"
  },
  "language_info": {
   "codemirror_mode": {
    "name": "ipython",
    "version": 3
   },
   "file_extension": ".py",
   "mimetype": "text/x-python",
   "name": "python",
   "nbconvert_exporter": "python",
   "pygments_lexer": "ipython3",
   "version": "3.7.5"
  }
 },
 "nbformat": 4,
 "nbformat_minor": 2
}
