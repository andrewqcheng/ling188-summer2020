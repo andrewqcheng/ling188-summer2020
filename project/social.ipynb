{
 "cells": [
  {
   "cell_type": "markdown",
   "metadata": {},
   "source": [
    "# Reddit\n",
    "\n",
    "This is a corpus of comments from the social media site [Reddit](https://www.reddit.com/). Please be aware that these comments have not been filtered in any way, and they come from a variety of subforums within Reddit. Therefore, there is a (high) risk that the data contained in this corpus include harmful or triggering language, language that goes against the university's Principles of Community, or simply language that is more \"adult\" in nature. You must print out the cell below before you begin work on this corpus."
   ]
  },
  {
   "cell_type": "code",
   "execution_count": null,
   "metadata": {},
   "outputs": [],
   "source": [
    "name = \"Write your name here.\"\n",
    "agreement = \"I, {}, agree to responsibly view and use this corpus.\"\n",
    "agreement.format(name)"
   ]
  },
  {
   "cell_type": "code",
   "execution_count": null,
   "metadata": {},
   "outputs": [],
   "source": [
    "# Read in the social media corpus as a list of strings\n",
    "with open(\"datasets/social.txt\") as file:\n",
    "    data = file.read()\n",
    "data = data.split(\"\\n\")"
   ]
  },
  {
   "cell_type": "code",
   "execution_count": null,
   "metadata": {},
   "outputs": [],
   "source": [
    "type(data)"
   ]
  },
  {
   "cell_type": "code",
   "execution_count": null,
   "metadata": {},
   "outputs": [],
   "source": [
    "len(data)"
   ]
  }
 ],
 "metadata": {
  "kernelspec": {
   "display_name": "Python 3",
   "language": "python",
   "name": "python3"
  },
  "language_info": {
   "codemirror_mode": {
    "name": "ipython",
    "version": 3
   },
   "file_extension": ".py",
   "mimetype": "text/x-python",
   "name": "python",
   "nbconvert_exporter": "python",
   "pygments_lexer": "ipython3",
   "version": "3.6.9"
  }
 },
 "nbformat": 4,
 "nbformat_minor": 2
}
