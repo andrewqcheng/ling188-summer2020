{
 "cells": [
  {
   "cell_type": "markdown",
   "metadata": {},
   "source": [
    "# PHOIBLE\n",
    "\n",
    "This is the PHOIBLE dataset we used in week 1.\n",
    "\n",
    "PHOIBLE (Phonetics Information Base and Lexicon) is a database of phonological inventories from thousands of languages. For more information, and to browse the data interactively, visit [their website](https://phoible.org/) (Moran et al. 2019). "
   ]
  },
  {
   "cell_type": "code",
   "execution_count": 1,
   "metadata": {},
   "outputs": [],
   "source": [
    "from datascience import *"
   ]
  },
  {
   "cell_type": "code",
   "execution_count": 2,
   "metadata": {},
   "outputs": [],
   "source": [
    "data = Table.read_table(\"datasets/phoible.csv\")"
   ]
  },
  {
   "cell_type": "code",
   "execution_count": 3,
   "metadata": {},
   "outputs": [
    {
     "data": {
      "text/html": [
       "<table border=\"1\" class=\"dataframe\">\n",
       "    <thead>\n",
       "        <tr>\n",
       "            <th>InventoryID</th> <th>Glottocode</th> <th>ISO6393</th> <th>LanguageName</th> <th>GlyphID</th> <th>Phoneme</th> <th>SegmentClass</th> <th>Source</th> <th>stress</th> <th>syllabic</th> <th>short</th> <th>long</th> <th>consonantal</th> <th>sonorant</th> <th>continuant</th> <th>delayedRelease</th> <th>approximant</th> <th>tap</th> <th>trill</th> <th>nasal</th> <th>lateral</th> <th>labial</th> <th>round</th> <th>labiodental</th> <th>coronal</th> <th>anterior</th> <th>distributed</th> <th>strident</th> <th>dorsal</th> <th>high</th> <th>low</th> <th>front</th> <th>back</th> <th>tense</th> <th>retractedTongueRoot</th> <th>advancedTongueRoot</th> <th>periodicGlottalSource</th> <th>epilaryngealSource</th> <th>spreadGlottis</th> <th>constrictedGlottis</th> <th>fortis</th> <th>raisedLarynxEjective</th> <th>loweredLarynxImplosive</th> <th>click</th>\n",
       "        </tr>\n",
       "    </thead>\n",
       "    <tbody>\n",
       "        <tr>\n",
       "            <td>1          </td> <td>kore1280  </td> <td>kor    </td> <td>Korean      </td> <td>0061     </td> <td>a      </td> <td>vowel       </td> <td>spa   </td> <td>-     </td> <td>+       </td> <td>-    </td> <td>-   </td> <td>-          </td> <td>+       </td> <td>+         </td> <td>0             </td> <td>+          </td> <td>-   </td> <td>-    </td> <td>-    </td> <td>-      </td> <td>-     </td> <td>0    </td> <td>0          </td> <td>-      </td> <td>0       </td> <td>0          </td> <td>0       </td> <td>+     </td> <td>-   </td> <td>+   </td> <td>-    </td> <td>-   </td> <td>0    </td> <td>-                  </td> <td>-                 </td> <td>+                    </td> <td>-                 </td> <td>-            </td> <td>-                 </td> <td>0     </td> <td>-                   </td> <td>-                     </td> <td>0    </td>\n",
       "        </tr>\n",
       "        <tr>\n",
       "            <td>1          </td> <td>kore1280  </td> <td>kor    </td> <td>Korean      </td> <td>0061+02D0</td> <td>aː     </td> <td>vowel       </td> <td>spa   </td> <td>-     </td> <td>+       </td> <td>-    </td> <td>+   </td> <td>-          </td> <td>+       </td> <td>+         </td> <td>0             </td> <td>+          </td> <td>-   </td> <td>-    </td> <td>-    </td> <td>-      </td> <td>-     </td> <td>0    </td> <td>0          </td> <td>-      </td> <td>0       </td> <td>0          </td> <td>0       </td> <td>+     </td> <td>-   </td> <td>+   </td> <td>-    </td> <td>-   </td> <td>0    </td> <td>-                  </td> <td>-                 </td> <td>+                    </td> <td>-                 </td> <td>-            </td> <td>-                 </td> <td>0     </td> <td>-                   </td> <td>-                     </td> <td>0    </td>\n",
       "        </tr>\n",
       "        <tr>\n",
       "            <td>1          </td> <td>kore1280  </td> <td>kor    </td> <td>Korean      </td> <td>00E6     </td> <td>æ      </td> <td>vowel       </td> <td>spa   </td> <td>-     </td> <td>+       </td> <td>-    </td> <td>-   </td> <td>-          </td> <td>+       </td> <td>+         </td> <td>0             </td> <td>+          </td> <td>-   </td> <td>-    </td> <td>-    </td> <td>-      </td> <td>-     </td> <td>0    </td> <td>0          </td> <td>-      </td> <td>0       </td> <td>0          </td> <td>0       </td> <td>+     </td> <td>-   </td> <td>+   </td> <td>+    </td> <td>-   </td> <td>0    </td> <td>-                  </td> <td>-                 </td> <td>+                    </td> <td>-                 </td> <td>-            </td> <td>-                 </td> <td>0     </td> <td>-                   </td> <td>-                     </td> <td>0    </td>\n",
       "        </tr>\n",
       "        <tr>\n",
       "            <td>1          </td> <td>kore1280  </td> <td>kor    </td> <td>Korean      </td> <td>00E6+02D0</td> <td>æː     </td> <td>vowel       </td> <td>spa   </td> <td>-     </td> <td>+       </td> <td>-    </td> <td>+   </td> <td>-          </td> <td>+       </td> <td>+         </td> <td>0             </td> <td>+          </td> <td>-   </td> <td>-    </td> <td>-    </td> <td>-      </td> <td>-     </td> <td>0    </td> <td>0          </td> <td>-      </td> <td>0       </td> <td>0          </td> <td>0       </td> <td>+     </td> <td>-   </td> <td>+   </td> <td>+    </td> <td>-   </td> <td>0    </td> <td>-                  </td> <td>-                 </td> <td>+                    </td> <td>-                 </td> <td>-            </td> <td>-                 </td> <td>0     </td> <td>-                   </td> <td>-                     </td> <td>0    </td>\n",
       "        </tr>\n",
       "        <tr>\n",
       "            <td>1          </td> <td>kore1280  </td> <td>kor    </td> <td>Korean      </td> <td>0065     </td> <td>e      </td> <td>vowel       </td> <td>spa   </td> <td>-     </td> <td>+       </td> <td>-    </td> <td>-   </td> <td>-          </td> <td>+       </td> <td>+         </td> <td>0             </td> <td>+          </td> <td>-   </td> <td>-    </td> <td>-    </td> <td>-      </td> <td>-     </td> <td>0    </td> <td>0          </td> <td>-      </td> <td>0       </td> <td>0          </td> <td>0       </td> <td>+     </td> <td>-   </td> <td>-   </td> <td>+    </td> <td>-   </td> <td>+    </td> <td>-                  </td> <td>-                 </td> <td>+                    </td> <td>-                 </td> <td>-            </td> <td>-                 </td> <td>0     </td> <td>-                   </td> <td>-                     </td> <td>0    </td>\n",
       "        </tr>\n",
       "        <tr>\n",
       "            <td>1          </td> <td>kore1280  </td> <td>kor    </td> <td>Korean      </td> <td>0065+02D0</td> <td>eː     </td> <td>vowel       </td> <td>spa   </td> <td>-     </td> <td>+       </td> <td>-    </td> <td>+   </td> <td>-          </td> <td>+       </td> <td>+         </td> <td>0             </td> <td>+          </td> <td>-   </td> <td>-    </td> <td>-    </td> <td>-      </td> <td>-     </td> <td>0    </td> <td>0          </td> <td>-      </td> <td>0       </td> <td>0          </td> <td>0       </td> <td>+     </td> <td>-   </td> <td>-   </td> <td>+    </td> <td>-   </td> <td>+    </td> <td>-                  </td> <td>-                 </td> <td>+                    </td> <td>-                 </td> <td>-            </td> <td>-                 </td> <td>0     </td> <td>-                   </td> <td>-                     </td> <td>0    </td>\n",
       "        </tr>\n",
       "        <tr>\n",
       "            <td>1          </td> <td>kore1280  </td> <td>kor    </td> <td>Korean      </td> <td>0264     </td> <td>ɤ      </td> <td>vowel       </td> <td>spa   </td> <td>-     </td> <td>+       </td> <td>-    </td> <td>-   </td> <td>-          </td> <td>+       </td> <td>+         </td> <td>0             </td> <td>+          </td> <td>-   </td> <td>-    </td> <td>-    </td> <td>-      </td> <td>-     </td> <td>0    </td> <td>0          </td> <td>-      </td> <td>0       </td> <td>0          </td> <td>0       </td> <td>+     </td> <td>-   </td> <td>-   </td> <td>-    </td> <td>+   </td> <td>+    </td> <td>-                  </td> <td>-                 </td> <td>+                    </td> <td>-                 </td> <td>-            </td> <td>-                 </td> <td>0     </td> <td>-                   </td> <td>-                     </td> <td>0    </td>\n",
       "        </tr>\n",
       "        <tr>\n",
       "            <td>1          </td> <td>kore1280  </td> <td>kor    </td> <td>Korean      </td> <td>0264+02D0</td> <td>ɤː     </td> <td>vowel       </td> <td>spa   </td> <td>-     </td> <td>+       </td> <td>-    </td> <td>+   </td> <td>-          </td> <td>+       </td> <td>+         </td> <td>0             </td> <td>+          </td> <td>-   </td> <td>-    </td> <td>-    </td> <td>-      </td> <td>-     </td> <td>0    </td> <td>0          </td> <td>-      </td> <td>0       </td> <td>0          </td> <td>0       </td> <td>+     </td> <td>-   </td> <td>-   </td> <td>-    </td> <td>+   </td> <td>+    </td> <td>-                  </td> <td>-                 </td> <td>+                    </td> <td>-                 </td> <td>-            </td> <td>-                 </td> <td>0     </td> <td>-                   </td> <td>-                     </td> <td>0    </td>\n",
       "        </tr>\n",
       "        <tr>\n",
       "            <td>1          </td> <td>kore1280  </td> <td>kor    </td> <td>Korean      </td> <td>0068     </td> <td>h      </td> <td>consonant   </td> <td>spa   </td> <td>-     </td> <td>-       </td> <td>-    </td> <td>-   </td> <td>-          </td> <td>-       </td> <td>+         </td> <td>+             </td> <td>-          </td> <td>-   </td> <td>-    </td> <td>-    </td> <td>-      </td> <td>-     </td> <td>0    </td> <td>0          </td> <td>-      </td> <td>0       </td> <td>0          </td> <td>0       </td> <td>-     </td> <td>0   </td> <td>0   </td> <td>0    </td> <td>0   </td> <td>0    </td> <td>0                  </td> <td>0                 </td> <td>-                    </td> <td>-                 </td> <td>+            </td> <td>-                 </td> <td>-     </td> <td>-                   </td> <td>-                     </td> <td>-    </td>\n",
       "        </tr>\n",
       "        <tr>\n",
       "            <td>1          </td> <td>kore1280  </td> <td>kor    </td> <td>Korean      </td> <td>0069     </td> <td>i      </td> <td>vowel       </td> <td>spa   </td> <td>-     </td> <td>+       </td> <td>-    </td> <td>-   </td> <td>-          </td> <td>+       </td> <td>+         </td> <td>0             </td> <td>+          </td> <td>-   </td> <td>-    </td> <td>-    </td> <td>-      </td> <td>-     </td> <td>0    </td> <td>0          </td> <td>-      </td> <td>0       </td> <td>0          </td> <td>0       </td> <td>+     </td> <td>+   </td> <td>-   </td> <td>+    </td> <td>-   </td> <td>+    </td> <td>-                  </td> <td>-                 </td> <td>+                    </td> <td>-                 </td> <td>-            </td> <td>-                 </td> <td>0     </td> <td>-                   </td> <td>-                     </td> <td>0    </td>\n",
       "        </tr>\n",
       "    </tbody>\n",
       "</table>\n",
       "<p>... (105457 rows omitted)</p>"
      ],
      "text/plain": [
       "InventoryID | Glottocode | ISO6393 | LanguageName | GlyphID   | Phoneme | SegmentClass | Source | stress | syllabic | short | long | consonantal | sonorant | continuant | delayedRelease | approximant | tap  | trill | nasal | lateral | labial | round | labiodental | coronal | anterior | distributed | strident | dorsal | high | low  | front | back | tense | retractedTongueRoot | advancedTongueRoot | periodicGlottalSource | epilaryngealSource | spreadGlottis | constrictedGlottis | fortis | raisedLarynxEjective | loweredLarynxImplosive | click\n",
       "1           | kore1280   | kor     | Korean       | 0061      | a       | vowel        | spa    | -      | +        | -     | -    | -           | +        | +          | 0              | +           | -    | -     | -     | -       | -      | 0     | 0           | -       | 0        | 0           | 0        | +      | -    | +    | -     | -    | 0     | -                   | -                  | +                     | -                  | -             | -                  | 0      | -                    | -                      | 0\n",
       "1           | kore1280   | kor     | Korean       | 0061+02D0 | aː      | vowel        | spa    | -      | +        | -     | +    | -           | +        | +          | 0              | +           | -    | -     | -     | -       | -      | 0     | 0           | -       | 0        | 0           | 0        | +      | -    | +    | -     | -    | 0     | -                   | -                  | +                     | -                  | -             | -                  | 0      | -                    | -                      | 0\n",
       "1           | kore1280   | kor     | Korean       | 00E6      | æ       | vowel        | spa    | -      | +        | -     | -    | -           | +        | +          | 0              | +           | -    | -     | -     | -       | -      | 0     | 0           | -       | 0        | 0           | 0        | +      | -    | +    | +     | -    | 0     | -                   | -                  | +                     | -                  | -             | -                  | 0      | -                    | -                      | 0\n",
       "1           | kore1280   | kor     | Korean       | 00E6+02D0 | æː      | vowel        | spa    | -      | +        | -     | +    | -           | +        | +          | 0              | +           | -    | -     | -     | -       | -      | 0     | 0           | -       | 0        | 0           | 0        | +      | -    | +    | +     | -    | 0     | -                   | -                  | +                     | -                  | -             | -                  | 0      | -                    | -                      | 0\n",
       "1           | kore1280   | kor     | Korean       | 0065      | e       | vowel        | spa    | -      | +        | -     | -    | -           | +        | +          | 0              | +           | -    | -     | -     | -       | -      | 0     | 0           | -       | 0        | 0           | 0        | +      | -    | -    | +     | -    | +     | -                   | -                  | +                     | -                  | -             | -                  | 0      | -                    | -                      | 0\n",
       "1           | kore1280   | kor     | Korean       | 0065+02D0 | eː      | vowel        | spa    | -      | +        | -     | +    | -           | +        | +          | 0              | +           | -    | -     | -     | -       | -      | 0     | 0           | -       | 0        | 0           | 0        | +      | -    | -    | +     | -    | +     | -                   | -                  | +                     | -                  | -             | -                  | 0      | -                    | -                      | 0\n",
       "1           | kore1280   | kor     | Korean       | 0264      | ɤ       | vowel        | spa    | -      | +        | -     | -    | -           | +        | +          | 0              | +           | -    | -     | -     | -       | -      | 0     | 0           | -       | 0        | 0           | 0        | +      | -    | -    | -     | +    | +     | -                   | -                  | +                     | -                  | -             | -                  | 0      | -                    | -                      | 0\n",
       "1           | kore1280   | kor     | Korean       | 0264+02D0 | ɤː      | vowel        | spa    | -      | +        | -     | +    | -           | +        | +          | 0              | +           | -    | -     | -     | -       | -      | 0     | 0           | -       | 0        | 0           | 0        | +      | -    | -    | -     | +    | +     | -                   | -                  | +                     | -                  | -             | -                  | 0      | -                    | -                      | 0\n",
       "1           | kore1280   | kor     | Korean       | 0068      | h       | consonant    | spa    | -      | -        | -     | -    | -           | -        | +          | +              | -           | -    | -     | -     | -       | -      | 0     | 0           | -       | 0        | 0           | 0        | -      | 0    | 0    | 0     | 0    | 0     | 0                   | 0                  | -                     | -                  | +             | -                  | -      | -                    | -                      | -\n",
       "1           | kore1280   | kor     | Korean       | 0069      | i       | vowel        | spa    | -      | +        | -     | -    | -           | +        | +          | 0              | +           | -    | -     | -     | -       | -      | 0     | 0           | -       | 0        | 0           | 0        | +      | +    | -    | +     | -    | +     | -                   | -                  | +                     | -                  | -             | -                  | 0      | -                    | -                      | 0\n",
       "... (105457 rows omitted)"
      ]
     },
     "execution_count": 3,
     "metadata": {},
     "output_type": "execute_result"
    }
   ],
   "source": [
    "data"
   ]
  }
 ],
 "metadata": {
  "kernelspec": {
   "display_name": "Python 3",
   "language": "python",
   "name": "python3"
  },
  "language_info": {
   "codemirror_mode": {
    "name": "ipython",
    "version": 3
   },
   "file_extension": ".py",
   "mimetype": "text/x-python",
   "name": "python",
   "nbconvert_exporter": "python",
   "pygments_lexer": "ipython3",
   "version": "3.7.5"
  }
 },
 "nbformat": 4,
 "nbformat_minor": 2
}
