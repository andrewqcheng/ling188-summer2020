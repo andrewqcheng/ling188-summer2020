{
 "cells": [
  {
   "cell_type": "markdown",
   "metadata": {},
   "source": [
    "# MorphoLEX\n",
    "\n",
    "The MorphoLEX English database presents all the morphological variables for over 13,000 English words. This database was compiled by [Sánchez-Gutiérrez et al. (2018)](https://link.springer.com/epdf/10.3758/s13428-017-0981-8).\n",
    "\n",
    "Words are made up of roots (ROOT), prefixes (PREF), and suffixes (SUFF). In this database, variables for every word's ROOT, PREF, and SUFF are followed by a number (e.g., PREF2) that indicates where the morpheme is in the word.\n",
    "\n",
    "The columns in this table include:\n",
    "- ELP_ItemID: Item ID from the complete database (of which this is a subset)\n",
    "- Word\n",
    "- POS: part of speech\n",
    "- Nmorph: number of morphemes\n",
    "- PRS_signature: Prefix-Root-Suffix signature (e.g., PREF1, PREF2, ROOT1)\n",
    "- MorphoLexSegm: morphological segmentation of the word, with the canonical allomorphs of each morpheme\n",
    "- X_PFMF, where X is either PREF, ROOT, or SUFF: percentage of more frequent words in the morphological family\n",
    "- X_FamSize: Family Size\n",
    "- X_Freq_HAL: Cumulative morpheme frequency\n",
    "- X_P: approximation of the morpeheme being in a hapax (word that occurs only once in a corpus)\n",
    "- X_P*: approximation of a hapax containing the morpheme\n",
    "- X_length: length in number of letters of the morpheme\n",
    "\n",
    "More information can be found about the data [here](https://github.com/hugomailhot/MorphoLex-en/blob/master/MorphoLEX_en-Data_Dictionary.pdf)"
   ]
  },
  {
   "cell_type": "code",
   "execution_count": null,
   "metadata": {},
   "outputs": [],
   "source": [
    "from datascience import *"
   ]
  },
  {
   "cell_type": "code",
   "execution_count": null,
   "metadata": {},
   "outputs": [],
   "source": [
    "x = Table.read_table(\"datasets/morpholex.csv\")\n",
    "x.show(10)"
   ]
  }
 ],
 "metadata": {
  "kernelspec": {
   "display_name": "Python 3",
   "language": "python",
   "name": "python3"
  },
  "language_info": {
   "codemirror_mode": {
    "name": "ipython",
    "version": 3
   },
   "file_extension": ".py",
   "mimetype": "text/x-python",
   "name": "python",
   "nbconvert_exporter": "python",
   "pygments_lexer": "ipython3",
   "version": "3.6.9"
  }
 },
 "nbformat": 4,
 "nbformat_minor": 4
}
