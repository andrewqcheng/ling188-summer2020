{
 "cells": [
  {
   "cell_type": "markdown",
   "metadata": {},
   "source": [
    "# CORAAL\n",
    "\n",
    "The Corpus of Regional African American Language (CORAAL) features transcriptions of conversations with African American people from different regions of the United States. From its [website](https://oraal.uoregon.edu/coraal):\n",
    "\n",
    "*CORAAL is a long-term corpus-building project conceived of in terms of several components. The first two components of CORAAL focus on AAL in Washington DC, the nation’s capital, a city with a long-standing African American majority, and the site of much early research on AAL (e.g. Fasold 1972). In April 2018, the first additional component, CORAAL:PRV, was released, making available data for 16 speakers from a rural community in central North Carolina. In October 2018, we released CORAAL:ROC, a subset of sociolinguistic interviews conducted by Sharese King as a part of her dissertation project in Rochester, NY (King 2018). In May 2020, we are pleased to release the newest component, CORAAL:ATL, a friendship network from Atlanta, as well as newly transcribed recordings from CORAAL:ROC. Together, CORAAL include data from over 150 sociolinguistic interviews from speakers born between 1891 and 2005 and over a million words of accurate time-aligned transcription of conversational speech.*\n",
    "\n",
    "There are two subsets of interview transcripts from CORAAL in this notebook, one from speakers in the Atlanta area and the other from speakers in the Washington, D.C. area."
   ]
  },
  {
   "cell_type": "code",
   "execution_count": 1,
   "metadata": {},
   "outputs": [],
   "source": [
    "from datascience import *"
   ]
  },
  {
   "cell_type": "code",
   "execution_count": 2,
   "metadata": {},
   "outputs": [
    {
     "data": {
      "text/html": [
       "<table border=\"1\" class=\"dataframe\">\n",
       "    <thead>\n",
       "        <tr>\n",
       "            <th>Unnamed: 0</th> <th>Line</th> <th>Spkr</th> <th>StTime</th> <th>Content</th> <th>EnTime</th>\n",
       "        </tr>\n",
       "    </thead>\n",
       "    <tbody>\n",
       "        <tr>\n",
       "            <td>0         </td> <td>1   </td> <td>ATL_se0_ag1_f_01</td> <td>0.4436</td> <td>They talking about, don't send him to his daddy.</td> <td>2.4068</td>\n",
       "        </tr>\n",
       "        <tr>\n",
       "            <td>1         </td> <td>2   </td> <td>ATL_se0_ag1_f_01</td> <td>2.4068</td> <td>(pause 0.28)                                    </td> <td>2.6829</td>\n",
       "        </tr>\n",
       "        <tr>\n",
       "            <td>2         </td> <td>3   </td> <td>ATL_se0_ag1_f_01</td> <td>2.6829</td> <td>You just need to go file for child support.     </td> <td>4.9538</td>\n",
       "        </tr>\n",
       "        <tr>\n",
       "            <td>3         </td> <td>4   </td> <td>ATL_int_01      </td> <td>5.1142</td> <td>[/Oh man/.]                                     </td> <td>5.6125</td>\n",
       "        </tr>\n",
       "        <tr>\n",
       "            <td>4         </td> <td>5   </td> <td>ATL_se0_ag1_f_01</td> <td>5.1488</td> <td>[Bye.]                                          </td> <td>5.5995</td>\n",
       "        </tr>\n",
       "    </tbody>\n",
       "</table>\n",
       "<p>... (20782 rows omitted)</p>"
      ],
      "text/plain": [
       "<IPython.core.display.HTML object>"
      ]
     },
     "metadata": {},
     "output_type": "display_data"
    },
    {
     "data": {
      "text/html": [
       "<table border=\"1\" class=\"dataframe\">\n",
       "    <thead>\n",
       "        <tr>\n",
       "            <th>Unnamed: 0</th> <th>Line</th> <th>Spkr</th> <th>StTime</th> <th>Content</th> <th>EnTime</th>\n",
       "        </tr>\n",
       "    </thead>\n",
       "    <tbody>\n",
       "        <tr>\n",
       "            <td>0         </td> <td>1   </td> <td>DCA_int_04      </td> <td>0.5134</td> <td>Your name and count to ten.</td> <td>2.1128</td>\n",
       "        </tr>\n",
       "        <tr>\n",
       "            <td>1         </td> <td>2   </td> <td>DCA_se1_ag1_f_01</td> <td>4.9012</td> <td>My-                        </td> <td>5.2043</td>\n",
       "        </tr>\n",
       "        <tr>\n",
       "            <td>2         </td> <td>3   </td> <td>DCA_int_04      </td> <td>5.5773</td> <td>Yeah.                      </td> <td>5.9457</td>\n",
       "        </tr>\n",
       "        <tr>\n",
       "            <td>3         </td> <td>4   </td> <td>DCA_int_04      </td> <td>5.9457</td> <td>(pause 0.09)               </td> <td>6.0389</td>\n",
       "        </tr>\n",
       "        <tr>\n",
       "            <td>4         </td> <td>5   </td> <td>DCA_int_04      </td> <td>6.0389</td> <td>What's your name?          </td> <td>6.6218</td>\n",
       "        </tr>\n",
       "    </tbody>\n",
       "</table>\n",
       "<p>... (33246 rows omitted)</p>"
      ],
      "text/plain": [
       "<IPython.core.display.HTML object>"
      ]
     },
     "metadata": {},
     "output_type": "display_data"
    },
    {
     "name": "stdout",
     "output_type": "stream",
     "text": [
      "None None\n"
     ]
    }
   ],
   "source": [
    "x = Table.read_table(\"datasets/coraal-atl.csv\")\n",
    "y = Table.read_table(\"datasets/coraal-dca.csv\")\n",
    "print(x.show(5),y.show(5))"
   ]
  }
 ],
 "metadata": {
  "kernelspec": {
   "display_name": "Python 3",
   "language": "python",
   "name": "python3"
  },
  "language_info": {
   "codemirror_mode": {
    "name": "ipython",
    "version": 3
   },
   "file_extension": ".py",
   "mimetype": "text/x-python",
   "name": "python",
   "nbconvert_exporter": "python",
   "pygments_lexer": "ipython3",
   "version": "3.6.9"
  }
 },
 "nbformat": 4,
 "nbformat_minor": 4
}
