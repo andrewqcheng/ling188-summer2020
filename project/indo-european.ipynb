{
 "cells": [
  {
   "cell_type": "markdown",
   "metadata": {},
   "source": [
    "# Indo-European\n",
    "\n",
    "This is the lexicostatistics dataset from week 3.\n",
    "\n",
    "The data we are using is from Dyen, Kruskal & Black (1992). They collected a list of 200 cross-linguistically common words from over 80 Indo-European languages and dialects. The list of terms was originally compiled by Swadesh (1952) and is often called a \"Swadesh List\"."
   ]
  },
  {
   "cell_type": "code",
   "execution_count": 1,
   "metadata": {},
   "outputs": [],
   "source": [
    "from datascience import *"
   ]
  },
  {
   "cell_type": "code",
   "execution_count": 2,
   "metadata": {},
   "outputs": [],
   "source": [
    "data = Table.read_table(\"datasets/ie.csv\")"
   ]
  },
  {
   "cell_type": "code",
   "execution_count": 3,
   "metadata": {},
   "outputs": [
    {
     "data": {
      "text/html": [
       "<table border=\"1\" class=\"dataframe\">\n",
       "    <thead>\n",
       "        <tr>\n",
       "            <th>Feature</th> <th>Language</th> <th>Term</th>\n",
       "        </tr>\n",
       "    </thead>\n",
       "    <tbody>\n",
       "        <tr>\n",
       "            <td>1      </td> <td>Afghan  </td> <td>tol               </td>\n",
       "        </tr>\n",
       "        <tr>\n",
       "            <td>2      </td> <td>Afghan  </td> <td>au                </td>\n",
       "        </tr>\n",
       "        <tr>\n",
       "            <td>3      </td> <td>Afghan  </td> <td>hajvan            </td>\n",
       "        </tr>\n",
       "        <tr>\n",
       "            <td>4      </td> <td>Afghan  </td> <td>ira               </td>\n",
       "        </tr>\n",
       "        <tr>\n",
       "            <td>5      </td> <td>Afghan  </td> <td>de   sera,ta nezde</td>\n",
       "        </tr>\n",
       "        <tr>\n",
       "            <td>6      </td> <td>Afghan  </td> <td>sa                </td>\n",
       "        </tr>\n",
       "        <tr>\n",
       "            <td>7      </td> <td>Afghan  </td> <td>bad               </td>\n",
       "        </tr>\n",
       "        <tr>\n",
       "            <td>8      </td> <td>Afghan  </td> <td>post              </td>\n",
       "        </tr>\n",
       "        <tr>\n",
       "            <td>9      </td> <td>Afghan  </td> <td>dzeka ce,vali ce  </td>\n",
       "        </tr>\n",
       "        <tr>\n",
       "            <td>10     </td> <td>Afghan  </td> <td>nas,geda,xeta     </td>\n",
       "        </tr>\n",
       "    </tbody>\n",
       "</table>\n",
       "<p>... (17390 rows omitted)</p>"
      ],
      "text/plain": [
       "Feature | Language | Term\n",
       "1       | Afghan   | tol\n",
       "2       | Afghan   | au\n",
       "3       | Afghan   | hajvan\n",
       "4       | Afghan   | ira\n",
       "5       | Afghan   | de   sera,ta nezde\n",
       "6       | Afghan   | sa\n",
       "7       | Afghan   | bad\n",
       "8       | Afghan   | post\n",
       "9       | Afghan   | dzeka ce,vali ce\n",
       "10      | Afghan   | nas,geda,xeta\n",
       "... (17390 rows omitted)"
      ]
     },
     "execution_count": 3,
     "metadata": {},
     "output_type": "execute_result"
    }
   ],
   "source": [
    "data"
   ]
  }
 ],
 "metadata": {
  "kernelspec": {
   "display_name": "Python 3",
   "language": "python",
   "name": "python3"
  },
  "language_info": {
   "codemirror_mode": {
    "name": "ipython",
    "version": 3
   },
   "file_extension": ".py",
   "mimetype": "text/x-python",
   "name": "python",
   "nbconvert_exporter": "python",
   "pygments_lexer": "ipython3",
   "version": "3.7.5"
  }
 },
 "nbformat": 4,
 "nbformat_minor": 2
}
