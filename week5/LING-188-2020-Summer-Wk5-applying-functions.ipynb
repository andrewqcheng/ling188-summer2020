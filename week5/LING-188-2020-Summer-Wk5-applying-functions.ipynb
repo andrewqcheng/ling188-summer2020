{
 "cells": [
  {
   "cell_type": "markdown",
   "metadata": {},
   "source": [
    "# Applying Functions\n",
    "In this lecture, we will apply what we know about user-defined functions to the analysis of sociolinguistic data, helping us with visualizations, string manipulation, and analysis."
   ]
  },
  {
   "cell_type": "code",
   "execution_count": null,
   "metadata": {},
   "outputs": [],
   "source": [
    "from datascience import *\n",
    "import numpy as np\n",
    "import seaborn as sns\n",
    "import matplotlib.pyplot as plt\n",
    "%matplotlib inline"
   ]
  },
  {
   "cell_type": "markdown",
   "metadata": {},
   "source": [
    "## Sociolinguistic Data\n",
    "\n",
    "The data we will look at is from a *sociolinguistic* study of the pronunciation of [str].\n",
    "\n",
    "The data were collected by David Durian and popularized in Keith Johnson's textbook *Quantitative Methods in Linguistics*. The data were collected using the *Rapid Anonymous Survey technique*: individuals were asked a question to prompt a particular linguistic variable. In this study, the researcher asked store clerks in Columbus, Ohio for directions, prompting them to say either the word \"street\" or \"straight\". The researcher pretended to mishear them, (\"Excuse me, what did you say?\"), leading the stranger to say the same word more emphatically. The researcher impressionalistically wrote down (out of sight) whether or not the speaker had said [str] or [ʃtr] (\"shtr\"). The researchers also noted the perceived gender and age of the speaker, as well as where they encountered the speaker, which could be used as a proxy for the speaker's socioeconomic class."
   ]
  },
  {
   "cell_type": "code",
   "execution_count": null,
   "metadata": {},
   "outputs": [],
   "source": [
    "m = Table.read_table(\"wk5-str.csv\")\n",
    "m.show(10)"
   ]
  },
  {
   "cell_type": "markdown",
   "metadata": {},
   "source": [
    "A description of each of the column labels:\n",
    "\n",
    "- str: whether the speaker said \"str\" or \"shtr\" (that is [str] or [ʃtr])\n",
    "    - strnumbers: the same as above but coded in binary (0 or 1)\n",
    "- emphatic: whether the context was more emphatic (i.e., whether it was after \"Excuse me, what did you say?\") or less (i.e., at the first prompting).\n",
    "- gender: perceived gender of the participant\n",
    "- age: perceived age of the speaker as young (15-30), mid (35-50) or old (55-70)\n",
    "    - ageletters: the same as above, but coded as letters\n",
    "- Mall: the name of the mall the store clerk worked at\n",
    "    - region: the same as above, but coded as numbers\n",
    "- store: the name of the store the store clerk worked at\n",
    "- class: codes economic class with three levels (Working Class, Lower Middle Class and Upper Middle Class)\n",
    "    - classnumbers: the same as above but coded as numbers\n",
    "- bank: codes economic class using five levels (Middle Working Class, Upper Working Middle Class, Lower Middle Class, Mid-Middle Class, Upper Middle Class)\n",
    "    - banknumbers: the same as above but coded as numbers\n",
    "\n",
    "The variables \"style\" and \"job\" will not be used here.\n",
    "\n",
    "Now, suppose we wanted to see which variant of [str] participants used in each of the conditions (more or less emphatic), we might start with statistical summaries and a visualization."
   ]
  },
  {
   "cell_type": "code",
   "execution_count": null,
   "metadata": {},
   "outputs": [],
   "source": [
    "x = m.where('emphatic','less').column('strnumbers').sum()\n",
    "print(x,\"observations among those with the 'less emphatic' condition have a value of '1' in the column 'strnumbers'.\")"
   ]
  },
  {
   "cell_type": "code",
   "execution_count": null,
   "metadata": {},
   "outputs": [],
   "source": [
    "x = np.count_nonzero(m.where('emphatic','less').column('str')=='shtr')\n",
    "print(x,\"observations among those with the 'less emphatic' condition have a value of 'shtr' in the column 'str'.\")"
   ]
  },
  {
   "cell_type": "code",
   "execution_count": null,
   "metadata": {},
   "outputs": [],
   "source": [
    "ratio = x / m.where('emphatic','less').num_rows * 100\n",
    "print(round(ratio,2),\"% of the observations among those with the 'less emphatic' condition have a value of 'shtr' in the column 'str'.\")"
   ]
  },
  {
   "cell_type": "markdown",
   "metadata": {},
   "source": [
    "Let's create a barplot to count up instances of each variant. We'll use the `sns.countplot()` function from `seaborn` (not to be confused with their `barplot`, which does not count instances) to do this."
   ]
  },
  {
   "cell_type": "code",
   "execution_count": null,
   "metadata": {},
   "outputs": [],
   "source": [
    "sns.countplot(x=m.column('str'))\n",
    "plt.title(\"Instances of [str] variants\")\n",
    "plt.xlabel(\"[str] variant\")\n",
    "_=plt.ylabel(\"instances (count)\")"
   ]
  },
  {
   "cell_type": "markdown",
   "metadata": {},
   "source": [
    "Look like there are more occurences of \"str\" than \"shtr\". But this, of course, doesn't visualize the condition: more or less emphatic. That's crucial to our analysis. Adding the argument `hue` can sort the values in 'str' by color, while we separate the data into two columns based on 'emphatic'."
   ]
  },
  {
   "cell_type": "code",
   "execution_count": null,
   "metadata": {},
   "outputs": [],
   "source": [
    "sns.countplot(x=m.column('emphatic'),\n",
    "              hue=m.column('str'))\n",
    "plt.title(\"Instances of [str] variants by emphatic condition\")\n",
    "plt.xlabel(\"emphatic condition\")\n",
    "_=plt.ylabel(\"instances (count)\")"
   ]
  },
  {
   "cell_type": "markdown",
   "metadata": {},
   "source": [
    "But there are many variables here that might play a role in the [str] variant, including gender and class. Can we split this plot into several plots based on speaker gender? There are many ways to do this, but one straightforward way to do this which you've seen before is to use `.where()` to subset the data first, then create two side-by-side plots."
   ]
  },
  {
   "cell_type": "code",
   "execution_count": null,
   "metadata": {},
   "outputs": [],
   "source": [
    "plt.figure(figsize=(10,5))\n",
    "plt.suptitle(\"Instances of [str] variants by gender and emphatic condition\")\n",
    "plt.subplot(1,2,1) # 1 row, 2 columns, plot #1\n",
    "aplot = sns.countplot(x=m.where('gender','w').column('emphatic'),\n",
    "              hue=m.where('gender','w').column('str'))\n",
    "aplot.set(title=\"female speakers\",xlabel=\"emphatic condition\",ylabel=\"count\")\n",
    "\n",
    "plt.subplot(1,2,2) # 1 row, 2 columns, plot #2\n",
    "bplot = sns.countplot(x=m.where('gender','m').column('emphatic'),\n",
    "              hue=m.where('gender','m').column('str'))\n",
    "_=bplot.set(title=\"male speakers\",xlabel=\"emphatic condition\",ylabel=\"count\")"
   ]
  },
  {
   "cell_type": "markdown",
   "metadata": {},
   "source": [
    "We can also compare the values from the different stores at which people were surveyed."
   ]
  },
  {
   "cell_type": "code",
   "execution_count": null,
   "metadata": {},
   "outputs": [],
   "source": [
    "m.group(['participant number','store']).group('store').show(35)"
   ]
  },
  {
   "cell_type": "code",
   "execution_count": null,
   "metadata": {},
   "outputs": [],
   "source": [
    "plt.figure(figsize=(10,5))\n",
    "plt.suptitle(\"Instances of [str] variants by store and emphatic condition\")\n",
    "plt.subplot(1,2,1) # 1 row, 2 columns, plot #1\n",
    "aplot = sns.countplot(x=m.where('store','walmart').column('emphatic'),\n",
    "              hue=m.where('store','walmart').column('str'))\n",
    "aplot.set(title=\"Walmart workers\",xlabel=\"emphatic condition\",ylabel=\"count\")\n",
    "\n",
    "plt.subplot(1,2,2) # 1 row, 2 columns, plot #2\n",
    "bplot = sns.countplot(x=m.where('store','kauffmans').column('emphatic'),\n",
    "              hue=m.where('store','kauffmans').column('str'))\n",
    "_=bplot.set(title=\"Kauffmans workers\",xlabel=\"emphatic condition\",ylabel=\"count\")"
   ]
  },
  {
   "cell_type": "markdown",
   "metadata": {},
   "source": [
    "## Introducing a plotting function\n",
    "There are so many stores to compare! I don't want to retype 'Walmart' three times in a new cell every time I want to analyze and visualize it. Here's where we're going to simplify things but putting the code above into a custom function, such that \"walmart\" can just called once as an argument."
   ]
  },
  {
   "cell_type": "code",
   "execution_count": null,
   "metadata": {},
   "outputs": [],
   "source": [
    "def plot_store(x):\n",
    "    '''Plot the str/shtr counts of speakers at store x, compared to Kauffmans.'''\n",
    "    plt.figure(figsize=(10,5))\n",
    "    plt.suptitle(\"Instances of [str] variants by store and emphatic condition\")\n",
    "    plt.subplot(1,2,1) # 1 row, 2 columns, plot #1\n",
    "    aplot = sns.countplot(x=m.where('store',x).column('emphatic'),   # replaced 'walmart' with 'x'\n",
    "              hue=m.where('store',x).column('str'))                  # replaced 'walmart' with 'x'\n",
    "    aplot.set(title=\"{} workers\".format(x),                          # replaced 'walmart' with 'x' using .format()\n",
    "              xlabel=\"emphatic condition\",\n",
    "              ylabel=\"count\") \n",
    "    \n",
    "    plt.subplot(1,2,2) # 1 row, 2 columns, plot #2\n",
    "    bplot = sns.countplot(x=m.where('store','kauffmans').column('emphatic'),\n",
    "              hue=m.where('store','kauffmans').column('str'))\n",
    "    _=bplot.set(title=\"Kauffmans workers\",xlabel=\"emphatic condition\",ylabel=\"count\")\n",
    "    print(\"Comparison of\",x,\"to Kauffman's.\")"
   ]
  },
  {
   "cell_type": "code",
   "execution_count": null,
   "metadata": {},
   "outputs": [],
   "source": [
    "plot_store(\"walmart\")"
   ]
  },
  {
   "cell_type": "markdown",
   "metadata": {},
   "source": [
    "Now, we can use any string present as a variable in 'store' as the argument to `plot_store()`"
   ]
  },
  {
   "cell_type": "code",
   "execution_count": null,
   "metadata": {},
   "outputs": [],
   "source": [
    "plot_store(\"ccfoodct\")"
   ]
  },
  {
   "cell_type": "markdown",
   "metadata": {},
   "source": [
    "Be careful with your plots! The ccfoodct plot above has the reverse of the colors of the kauffmans plot. The `catplot()` function and `FacetGrid`() function are possible ways to fix this error, but they are beyond the scope of this course. Just be aware of the output of your plots, and read them carefully to make sure that they align logically with your understanding of the data.\n",
    "\n",
    "We're going to adjust `plot_store()` a little now and have it take two arguments, one for each store."
   ]
  },
  {
   "cell_type": "code",
   "execution_count": null,
   "metadata": {},
   "outputs": [],
   "source": [
    "def plot_stores(x,y):\n",
    "    '''Plot the str/shtr counts of speakers at stores x and y.'''\n",
    "    plt.figure(figsize=(10,5))\n",
    "    plt.suptitle(\"Instances of [str] variants by store and emphatic condition\")\n",
    "    plt.subplot(1,2,1) # 1 row, 2 columns, plot #1\n",
    "    aplot = sns.countplot(x=m.where('store',x).column('emphatic'),   # replaced 'walmart' with 'x'\n",
    "              hue=m.where('store',x).column('str'))                  # replaced 'walmart' with 'x'\n",
    "    aplot.set(title=\"{} workers\".format(x),                          # replaced 'walmart' with 'x' using .format()\n",
    "              xlabel=\"emphatic condition\",\n",
    "              ylabel=\"count\") \n",
    "    \n",
    "    plt.subplot(1,2,2) # 1 row, 2 columns, plot #2\n",
    "    bplot = sns.countplot(x=m.where('store',y).column('emphatic'),\n",
    "              hue=m.where('store',y).column('str'))\n",
    "    _=bplot.set(title=\"{} workers\".format(y),xlabel=\"emphatic condition\",ylabel=\"count\")\n",
    "    print(\"Comparison of\",x,\"to\",y)"
   ]
  },
  {
   "cell_type": "code",
   "execution_count": null,
   "metadata": {},
   "outputs": [],
   "source": [
    "plot_stores('lazarus','sears')"
   ]
  },
  {
   "cell_type": "markdown",
   "metadata": {},
   "source": [
    "## Functions that summarize data\n",
    "We can do other things besides plot figures with our functions, of course."
   ]
  },
  {
   "cell_type": "code",
   "execution_count": null,
   "metadata": {},
   "outputs": [],
   "source": [
    "subset=m.where('Mall','Easton')\n",
    "subset.group('participant number').num_rows"
   ]
  },
  {
   "cell_type": "code",
   "execution_count": null,
   "metadata": {},
   "outputs": [],
   "source": [
    "def summarize_mall(mall):\n",
    "    '''Calculate the number of speakers surveyed at a mall.'''\n",
    "    subset = m.where('Mall',mall)\n",
    "    num = subset.group('participant number').num_rows\n",
    "    print(\"There were\",num,\"participants at the\",mall,\"mall.\")\n",
    "    return num"
   ]
  },
  {
   "cell_type": "code",
   "execution_count": null,
   "metadata": {},
   "outputs": [],
   "source": [
    "summarize_mall('Easton')"
   ]
  },
  {
   "cell_type": "markdown",
   "metadata": {},
   "source": [
    "Note! After a bit of sleuthing, I've discovered a small error in our data! Participant 96 appears to have teleported from CityCenter to Polaris in the middle of data collection. This is why it is important to spot check your data for inconsistences before you run any analyses. However, errors are also just a part of science. Normally, we would just remove the data from participant 96 at the very beginning. (Or, if we knew the study design a bit better, we could assume that the extra 'Polaris' was supposed to be 'CityCenter'. Not our study, though, so we can't know for sure.) In the rest of the lecture and in this week's homework, however, I will not require a \"fixing\" of this particular error."
   ]
  },
  {
   "cell_type": "code",
   "execution_count": null,
   "metadata": {},
   "outputs": [],
   "source": [
    "m.where('participant number',96)"
   ]
  },
  {
   "cell_type": "code",
   "execution_count": null,
   "metadata": {},
   "outputs": [],
   "source": [
    "def summarize_mall(mall):\n",
    "    '''Calculate the number of speakers surveyed at a mall and their str/shtr ratios by gender.'''\n",
    "    subset = m.where('Mall',mall)\n",
    "    num = subset.group('participant number').num_rows\n",
    "    male = subset.where('gender','m')\n",
    "    female = subset.where('gender','w')\n",
    "    nm = male.group('participant number').num_rows\n",
    "    nf = female.group('participant number').num_rows\n",
    "    xm = np.count_nonzero(male.where('emphatic','less').column('str')=='shtr') / male.where('emphatic','less').num_rows * 100\n",
    "    xf = np.count_nonzero(female.where('emphatic','less').column('str')=='shtr') / female.where('emphatic','less').num_rows * 100\n",
    "    summary = \"At {} Mall, {}% of male speakers (n={}) and {}% of female speakers (n={}) used 'shtr' instead of 'str' when surveyed in the 'less emphatic' condition.\"\n",
    "    return summary.format(mall,round(xm,2),nm,round(xf,2),nf)"
   ]
  },
  {
   "cell_type": "code",
   "execution_count": null,
   "metadata": {},
   "outputs": [],
   "source": [
    "summarize_mall(\"Easton\")"
   ]
  },
  {
   "cell_type": "code",
   "execution_count": null,
   "metadata": {},
   "outputs": [],
   "source": [
    "summarize_mall(\"Polaris\")"
   ]
  },
  {
   "cell_type": "markdown",
   "metadata": {},
   "source": [
    "## Applying functions to Table columns"
   ]
  },
  {
   "cell_type": "markdown",
   "metadata": {},
   "source": [
    "We already know how to use functions inside of `for` loops, but often, a faster way to do the same thing is to use the `.apply()` method, when you want to apply a function to all values in a column of a Table. We've used the `.apply()` method before, specifically for string manipulation. Here's another example!"
   ]
  },
  {
   "cell_type": "code",
   "execution_count": null,
   "metadata": {},
   "outputs": [],
   "source": [
    "def caps(name):\n",
    "    return name.capitalize()"
   ]
  },
  {
   "cell_type": "code",
   "execution_count": null,
   "metadata": {},
   "outputs": [],
   "source": [
    "m.apply(caps,'store')"
   ]
  },
  {
   "cell_type": "markdown",
   "metadata": {},
   "source": [
    "And again, but this time treating 'udf' (United Dairy Farmers) specially using a conditional statement:"
   ]
  },
  {
   "cell_type": "code",
   "execution_count": null,
   "metadata": {},
   "outputs": [],
   "source": [
    "def caps(name):\n",
    "    if name == 'udf':\n",
    "        return name.upper()\n",
    "    else:\n",
    "        return name.capitalize()"
   ]
  },
  {
   "cell_type": "code",
   "execution_count": null,
   "metadata": {},
   "outputs": [],
   "source": [
    "m.apply(caps,'store')"
   ]
  },
  {
   "cell_type": "code",
   "execution_count": null,
   "metadata": {},
   "outputs": [],
   "source": [
    "m = m.with_column('store_caps',m.apply(caps,'store'))\n",
    "m"
   ]
  },
  {
   "cell_type": "markdown",
   "metadata": {},
   "source": [
    "## Booleans for comparing observations\n",
    "This last section may come in handy if you want to compare two observations (rows) to one another."
   ]
  },
  {
   "cell_type": "code",
   "execution_count": null,
   "metadata": {},
   "outputs": [],
   "source": [
    "p = m.where('participant number',5)\n",
    "p"
   ]
  },
  {
   "cell_type": "markdown",
   "metadata": {},
   "source": [
    "Here is our boolean, which compares the value in 'str' in one subset to the value in 'str' to another subset. Note that the output is an array, since we've compared arrays (with one item each)."
   ]
  },
  {
   "cell_type": "code",
   "execution_count": null,
   "metadata": {},
   "outputs": [],
   "source": [
    "p.where('emphatic','less').column('str') == p.where('emphatic','more').column('str')"
   ]
  },
  {
   "cell_type": "markdown",
   "metadata": {},
   "source": [
    "A simpler way to do the same thing using bracket indexing, since we know that every subset `p` will always have two rows. This version returns a bare `bool`, not an array."
   ]
  },
  {
   "cell_type": "code",
   "execution_count": null,
   "metadata": {},
   "outputs": [],
   "source": [
    "p.column('str')[0] == p.column('str')[1]"
   ]
  },
  {
   "cell_type": "code",
   "execution_count": null,
   "metadata": {},
   "outputs": [],
   "source": [
    "np.unique(m.column('participant number'))"
   ]
  },
  {
   "cell_type": "code",
   "execution_count": null,
   "metadata": {
    "scrolled": true
   },
   "outputs": [],
   "source": [
    "count = make_array()\n",
    "for person in np.unique(m.column('participant number')):\n",
    "    p = m.where('participant number',person)\n",
    "    if p.column('str')[0] == p.column('str')[1]:\n",
    "        t = \"same\"\n",
    "        count = np.append(count, t)\n",
    "    else:\n",
    "        t = \"diff\"\n",
    "        count = np.append(count, t)\n",
    "print(\"The array of Booleans (True/False or 1/0) representing whether str (less) == str (more):\")\n",
    "print(count)\n",
    "print(\"Total number of False:\",np.count_nonzero(count==\"diff\"))"
   ]
  },
  {
   "cell_type": "markdown",
   "metadata": {},
   "source": [
    "Further simplifying..."
   ]
  },
  {
   "cell_type": "code",
   "execution_count": null,
   "metadata": {},
   "outputs": [],
   "source": [
    "count = make_array()\n",
    "for person in np.unique(m.column('participant number')):\n",
    "    p = m.where('participant number',person)\n",
    "    b = p.column('str')[0] == p.column('str')[1]\n",
    "    count = np.append(count,b)\n",
    "print(\"The array of Booleans (True/False or 1/0) representing whether str (less) == str (more):\")\n",
    "print(count)\n",
    "print(\"Total number of False:\",np.count_nonzero(count==0))"
   ]
  },
  {
   "cell_type": "markdown",
   "metadata": {},
   "source": [
    "## Grouping and summing\n",
    "This is just a reminder that the `.group()` method can also take additional arguments, such as `sum`, which change what `.group()` does after it groups. Rather than just counting up the number of observations, `sum` will sum up the values in the ungrouped columns. In the example below, 'strnumbers' consists of integers, so they can be added together (summed up)."
   ]
  },
  {
   "cell_type": "code",
   "execution_count": null,
   "metadata": {},
   "outputs": [],
   "source": [
    "type(m.column('strnumbers')[0])"
   ]
  },
  {
   "cell_type": "markdown",
   "metadata": {},
   "source": [
    "Thus, after dropping unnecessary columns and grouping by the columns in the list, `sum` will sum up the values in 'strnumbers'. (It also sums up the values in 'emphatic', but since those are strings, the output is blank.)"
   ]
  },
  {
   "cell_type": "code",
   "execution_count": null,
   "metadata": {},
   "outputs": [],
   "source": [
    "n = m.drop(\"str\",\"style\",\"ageletters\",\"Mall\",\"banknumbers\",\"bank\",\"job\",\"classnumbers\",\"class\",\"store_caps\").\\\n",
    "    group(['gender','region','age','store','participant number'],sum).sort(\"participant number\")\n",
    "n"
   ]
  },
  {
   "cell_type": "markdown",
   "metadata": {},
   "source": [
    "This could be useful in comparing participants rates of 'str' versus 'shtr', but only because the data type of 'strnumbers' is an integer with binary values."
   ]
  },
  {
   "cell_type": "code",
   "execution_count": null,
   "metadata": {},
   "outputs": [],
   "source": [
    "plt.figure(figsize=(10,5))\n",
    "plt.subplot(1,2,1)\n",
    "aplot = sns.barplot(x=n.where('gender','w').column('age'),\n",
    "                    y=n.where('gender','w').column('strnumbers sum'))\n",
    "aplot.set(title=\"female speakers\",xlabel=\"age group\",ylabel=\"str/shtr value\")\n",
    "\n",
    "plt.subplot(1,2,2, sharey=aplot) # sharey to make the y-axis the same as 'aplot'\n",
    "bplot = sns.barplot(x=n.where('gender','m').column('age'),\n",
    "                    y=n.where('gender','m').column('strnumbers sum'))\n",
    "_=bplot.set(title=\"male speakers\",xlabel=\"age group\",ylabel=\"str/shtr value\")\n",
    "\n",
    "print(\"str/shtr value indicates here how many times the speaker used 'shtr' (between 0 and 2 total possible.)\\n\\\n",
    "Thus, on average, young female speakers were most likely to use 'shtr' (average 1 time), while old female \\n\\\n",
    "speakers were the least likely.\")"
   ]
  }
 ],
 "metadata": {
  "kernelspec": {
   "display_name": "Python 3",
   "language": "python",
   "name": "python3"
  },
  "language_info": {
   "codemirror_mode": {
    "name": "ipython",
    "version": 3
   },
   "file_extension": ".py",
   "mimetype": "text/x-python",
   "name": "python",
   "nbconvert_exporter": "python",
   "pygments_lexer": "ipython3",
   "version": "3.6.9"
  }
 },
 "nbformat": 4,
 "nbformat_minor": 4
}
