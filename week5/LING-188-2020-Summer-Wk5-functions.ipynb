{
 "cells": [
  {
   "cell_type": "markdown",
   "metadata": {},
   "source": [
    "# Functions and Control Statements\n",
    "We have used many functions to do quick calculations. This week, we are going to learn how to define, or create, our own functions."
   ]
  },
  {
   "cell_type": "code",
   "execution_count": null,
   "metadata": {},
   "outputs": [],
   "source": [
    "from datascience import *\n",
    "import numpy as np\n",
    "import seaborn as sns\n",
    "import matplotlib.pyplot as plt\n",
    "%matplotlib inline"
   ]
  },
  {
   "cell_type": "markdown",
   "metadata": {},
   "source": [
    "As you know, a function is a block of code that runs with one or more arguments. The function will read the argument(s), do various things to it, and `return` an object that can be used later."
   ]
  },
  {
   "cell_type": "code",
   "execution_count": null,
   "metadata": {},
   "outputs": [],
   "source": [
    "np.add(4,6)"
   ]
  },
  {
   "cell_type": "markdown",
   "metadata": {},
   "source": [
    "You've seen so far in this course some instances of custom functions, or user-defined functions, such as `plot_vowel_space()` and `edit_distance()`. Any user-defined function requires a few parts:\n",
    "\n",
    "- `def` (\"define\" the function)\n",
    "- a name (this will turn blue in your cell)\n",
    "- argument(s), which go inside of the parentheses\n",
    "- a colon (just like in a for loop!); everything inside the body of the function goes after the colon and is indented\n",
    "- text quotation marks (usually `'''`) that describes your function\n",
    "- `return` (what your function returns that can be used outside the body of the function)\n",
    "\n",
    "Here's an example:"
   ]
  },
  {
   "cell_type": "code",
   "execution_count": null,
   "metadata": {},
   "outputs": [],
   "source": [
    "def multiply_by_two(x):\n",
    "    '''Multiplies x by 2'''\n",
    "    return x * 2"
   ]
  },
  {
   "cell_type": "code",
   "execution_count": null,
   "metadata": {},
   "outputs": [],
   "source": [
    "multiply_by_two(5)"
   ]
  },
  {
   "cell_type": "markdown",
   "metadata": {},
   "source": [
    "The code that defines custom functions will run even if your function doesn't do what you want it to:"
   ]
  },
  {
   "cell_type": "code",
   "execution_count": null,
   "metadata": {},
   "outputs": [],
   "source": [
    "def multiply_by_oops(x):\n",
    "    '''Multiplies x by 2, but won't work correctly'''\n",
    "    x * 2"
   ]
  },
  {
   "cell_type": "code",
   "execution_count": null,
   "metadata": {},
   "outputs": [],
   "source": [
    "multiply_by_oops(5)"
   ]
  },
  {
   "cell_type": "markdown",
   "metadata": {},
   "source": [
    "The function never returned anything, so there is no output!\n",
    "\n",
    "But the function cannot be defined if there is an actual error in your code:"
   ]
  },
  {
   "cell_type": "code",
   "execution_count": null,
   "metadata": {},
   "outputs": [],
   "source": [
    "def multiply_by_nope(x):\n",
    "    '''Multiplies x by 2, but also won't work correctly'''\n",
    "    return 2x"
   ]
  },
  {
   "cell_type": "markdown",
   "metadata": {},
   "source": [
    "Your functions can also create new variables, which you might want to do for various reasons, such as keeping track of many different values."
   ]
  },
  {
   "cell_type": "code",
   "execution_count": null,
   "metadata": {},
   "outputs": [],
   "source": [
    "def longer_multiply(x):\n",
    "    '''Multiples x by 2, returns y'''\n",
    "    y = x * 2\n",
    "    return y"
   ]
  },
  {
   "cell_type": "code",
   "execution_count": null,
   "metadata": {},
   "outputs": [],
   "source": [
    "longer_multiply(5)"
   ]
  },
  {
   "cell_type": "markdown",
   "metadata": {},
   "source": [
    "Functions can, of course, have multiple arguments."
   ]
  },
  {
   "cell_type": "code",
   "execution_count": null,
   "metadata": {},
   "outputs": [],
   "source": [
    "def add(x, y):\n",
    "    '''Adds two numbers (exactly as np.add() does!)'''\n",
    "    return x + y"
   ]
  },
  {
   "cell_type": "code",
   "execution_count": null,
   "metadata": {},
   "outputs": [],
   "source": [
    "add(10,20)"
   ]
  },
  {
   "cell_type": "code",
   "execution_count": null,
   "metadata": {},
   "outputs": [],
   "source": [
    "def formula(x, y, z):\n",
    "    '''Multiplies the first two arguments and adds the third'''\n",
    "    return (x * y) + z"
   ]
  },
  {
   "cell_type": "code",
   "execution_count": null,
   "metadata": {},
   "outputs": [],
   "source": [
    "print(formula(1, 2, 3))\n",
    "print(formula(3, 2, 1))"
   ]
  },
  {
   "cell_type": "code",
   "execution_count": null,
   "metadata": {},
   "outputs": [],
   "source": [
    "def story(part1, part2, part3):\n",
    "    '''Prints the arguments'''\n",
    "    x = \"{}, {}. {}.\"\n",
    "    return x.format(part1, part2, part3)"
   ]
  },
  {
   "cell_type": "code",
   "execution_count": null,
   "metadata": {},
   "outputs": [],
   "source": [
    "story(\"Once upon a time\", \"they lived happily ever after\",\"The end\")"
   ]
  },
  {
   "cell_type": "markdown",
   "metadata": {},
   "source": [
    "## Comparisons in functions\n",
    "Comparisons evaluate as `bool` (Boolean) values: true or false. You can compare any two items using:\n",
    "\n",
    "- `>`: greater than\n",
    "- `<`: less than\n",
    "- `==`: equal to (note the two equal signs!)\n",
    "- `!=`: not equal to\n",
    "- `>=`: greater than or equal to\n",
    "- `<=`: less than or equal to\n",
    "\n",
    "Comparisons often occur inside the body of a function."
   ]
  },
  {
   "cell_type": "code",
   "execution_count": null,
   "metadata": {},
   "outputs": [],
   "source": [
    "2 > 5"
   ]
  },
  {
   "cell_type": "code",
   "execution_count": null,
   "metadata": {},
   "outputs": [],
   "source": [
    "2 < 5"
   ]
  },
  {
   "cell_type": "code",
   "execution_count": null,
   "metadata": {},
   "outputs": [],
   "source": [
    "type(2 > 5)"
   ]
  },
  {
   "cell_type": "code",
   "execution_count": null,
   "metadata": {},
   "outputs": [],
   "source": [
    "3 == 3"
   ]
  },
  {
   "cell_type": "code",
   "execution_count": null,
   "metadata": {},
   "outputs": [],
   "source": [
    "3 != 3"
   ]
  },
  {
   "cell_type": "code",
   "execution_count": null,
   "metadata": {},
   "outputs": [],
   "source": [
    "name = 'Klaus'\n",
    "name == 'Diego'"
   ]
  },
  {
   "cell_type": "markdown",
   "metadata": {},
   "source": [
    "Comparisons can be expanded and combined using an `or` statement, or an `and` statement."
   ]
  },
  {
   "cell_type": "code",
   "execution_count": null,
   "metadata": {},
   "outputs": [],
   "source": [
    "name == 'Vanya' or name == 'Klaus'"
   ]
  },
  {
   "cell_type": "code",
   "execution_count": null,
   "metadata": {},
   "outputs": [],
   "source": [
    "name == 'Klaus' or name == 'Vanya'"
   ]
  },
  {
   "cell_type": "code",
   "execution_count": null,
   "metadata": {},
   "outputs": [],
   "source": [
    "(name == 'Klaus') or (name == 'Vanya')"
   ]
  },
  {
   "cell_type": "code",
   "execution_count": null,
   "metadata": {},
   "outputs": [],
   "source": [
    "y = 7\n",
    "y > 5"
   ]
  },
  {
   "cell_type": "code",
   "execution_count": null,
   "metadata": {},
   "outputs": [],
   "source": [
    "y > 5 and y < 9"
   ]
  },
  {
   "cell_type": "code",
   "execution_count": null,
   "metadata": {},
   "outputs": [],
   "source": [
    "z = 4"
   ]
  },
  {
   "cell_type": "code",
   "execution_count": null,
   "metadata": {},
   "outputs": [],
   "source": [
    "z > 5 and z < 9"
   ]
  },
  {
   "cell_type": "markdown",
   "metadata": {},
   "source": [
    "## Comparisons within arrays\n",
    "You can use these comparison statements within arrays. They will return arrays of Booleans (True/False)."
   ]
  },
  {
   "cell_type": "code",
   "execution_count": null,
   "metadata": {},
   "outputs": [],
   "source": [
    "tua = make_array('Luther', 'Diego', 'Allison', 'Klaus', 'Number Five', 'Ben', 'Vanya')\n",
    "tua"
   ]
  },
  {
   "cell_type": "code",
   "execution_count": null,
   "metadata": {},
   "outputs": [],
   "source": [
    "tua == 'Luther'"
   ]
  },
  {
   "cell_type": "markdown",
   "metadata": {},
   "source": [
    "There are two ways of finding the number of items in an array that match a certain value. The first is the function `sum()`. The second is the function `np.count_nonzero()`, which you saw in last week's homework. Both of these functions take a Boolean as an argument (e.g., `x == y`) and return an integer: a count of the number of `True`s."
   ]
  },
  {
   "cell_type": "code",
   "execution_count": null,
   "metadata": {},
   "outputs": [],
   "source": [
    "sum(tua == 'Luther')"
   ]
  },
  {
   "cell_type": "code",
   "execution_count": null,
   "metadata": {},
   "outputs": [],
   "source": [
    "np.count_nonzero(tua == 'Luther')"
   ]
  },
  {
   "cell_type": "markdown",
   "metadata": {},
   "source": [
    "You can also assign the Boolean array to another variable. Remember the crucial difference between `=` and `==` here!"
   ]
  },
  {
   "cell_type": "code",
   "execution_count": null,
   "metadata": {},
   "outputs": [],
   "source": [
    "n = tua == 'Luther'\n",
    "n"
   ]
  },
  {
   "cell_type": "markdown",
   "metadata": {},
   "source": [
    "The `sum()` function can also be a method, `.sum()`."
   ]
  },
  {
   "cell_type": "code",
   "execution_count": null,
   "metadata": {},
   "outputs": [],
   "source": [
    "n.sum()"
   ]
  },
  {
   "cell_type": "code",
   "execution_count": null,
   "metadata": {},
   "outputs": [],
   "source": [
    "(tua == 'Luther').sum()"
   ]
  },
  {
   "cell_type": "markdown",
   "metadata": {},
   "source": [
    "But you cannot find the sum of a single Boolean object."
   ]
  },
  {
   "cell_type": "code",
   "execution_count": null,
   "metadata": {},
   "outputs": [],
   "source": [
    "name"
   ]
  },
  {
   "cell_type": "code",
   "execution_count": null,
   "metadata": {},
   "outputs": [],
   "source": [
    "(name == 'Klaus').sum()"
   ]
  },
  {
   "cell_type": "markdown",
   "metadata": {},
   "source": [
    "## Conditional statements\n",
    "Conditional statements are used to control the flow of a computation. For example, suppose we want to run some kind of string splitting on the names in `tua`, but only if the names are of a certain length. You'll want to create a conditional statement: if the statement is met, perform the string splitting. If not, don't perform the string splitting.\n",
    "\n",
    "A conditional statement will look like a `for` loop. It requires the `if` statement, the condition itself, a colon (`:`), and then code, indented on the next line, that runs if the condition is met."
   ]
  },
  {
   "cell_type": "code",
   "execution_count": null,
   "metadata": {},
   "outputs": [],
   "source": [
    "if True:\n",
    "    print('Pogo')"
   ]
  },
  {
   "cell_type": "code",
   "execution_count": null,
   "metadata": {},
   "outputs": [],
   "source": [
    "x = 5\n",
    "if x == 5:\n",
    "    print('Pogo')"
   ]
  },
  {
   "cell_type": "code",
   "execution_count": null,
   "metadata": {},
   "outputs": [],
   "source": [
    "if x != 5:\n",
    "    print('Pogo')"
   ]
  },
  {
   "cell_type": "markdown",
   "metadata": {},
   "source": [
    "Conditional statements often pair an `if` statement with an `else` statement. Think of it as saying, \"Otherwise...\" Note that the `if` and `else` statements are on the same \"level\" (of indentation)."
   ]
  },
  {
   "cell_type": "code",
   "execution_count": null,
   "metadata": {},
   "outputs": [],
   "source": [
    "if x > 5:\n",
    "    print('Hazel')\n",
    "else:\n",
    "    print('Cha-cha')"
   ]
  },
  {
   "cell_type": "markdown",
   "metadata": {},
   "source": [
    "Now, let's put this inside of a function."
   ]
  },
  {
   "cell_type": "code",
   "execution_count": null,
   "metadata": {},
   "outputs": [],
   "source": [
    "def h_or_c(x):\n",
    "    '''Tells me who to root for.'''\n",
    "    if x > 5:\n",
    "        print('Hazel')\n",
    "    else: print('Cha-cha')"
   ]
  },
  {
   "cell_type": "code",
   "execution_count": null,
   "metadata": {},
   "outputs": [],
   "source": [
    "#h_or_c(5)\n",
    "h_or_c(10)"
   ]
  },
  {
   "cell_type": "markdown",
   "metadata": {},
   "source": [
    "You can have multiple conditions using `if`, `elif`, and `else`. `elif` stands for \"else if\". Again, think of \"else\" as \"Otherwise...\""
   ]
  },
  {
   "cell_type": "code",
   "execution_count": null,
   "metadata": {},
   "outputs": [],
   "source": [
    "def hcp(x):\n",
    "    '''Tells me who to root for.'''\n",
    "    if x < 5:\n",
    "        print('Hazel')\n",
    "    elif (x >= 5) and (x <= 10):\n",
    "        print('Cha-cha')\n",
    "    else:\n",
    "        print('Pogo')"
   ]
  },
  {
   "cell_type": "code",
   "execution_count": null,
   "metadata": {},
   "outputs": [],
   "source": [
    "hcp(4)\n",
    "hcp(5)\n",
    "hcp(11)"
   ]
  },
  {
   "cell_type": "markdown",
   "metadata": {},
   "source": [
    "Remember that you can't exactly assign print statements to variables."
   ]
  },
  {
   "cell_type": "code",
   "execution_count": null,
   "metadata": {},
   "outputs": [],
   "source": [
    "character = hcp(4)"
   ]
  },
  {
   "cell_type": "code",
   "execution_count": null,
   "metadata": {},
   "outputs": [],
   "source": [
    "character"
   ]
  },
  {
   "cell_type": "markdown",
   "metadata": {},
   "source": [
    "Better to assign new variables within your function, which you can then call on outside of the function. Remember to have your function `return` something if you want to see its output."
   ]
  },
  {
   "cell_type": "code",
   "execution_count": null,
   "metadata": {},
   "outputs": [],
   "source": [
    "def hcp(x):\n",
    "    '''Tells me who to root for.'''\n",
    "    if x < 5:\n",
    "        char = 'Hazel'\n",
    "    elif (x >= 5) and (x <= 10):\n",
    "        char = 'Cha-cha'\n",
    "    else:\n",
    "        char = 'Pogo'\n",
    "    return char"
   ]
  },
  {
   "cell_type": "code",
   "execution_count": null,
   "metadata": {},
   "outputs": [],
   "source": [
    "z = hcp(4)"
   ]
  },
  {
   "cell_type": "code",
   "execution_count": null,
   "metadata": {},
   "outputs": [],
   "source": [
    "z"
   ]
  },
  {
   "cell_type": "markdown",
   "metadata": {},
   "source": [
    "Finally, back to our original intention of creating a function that splits the names in `tua`, but only if they are a certain length (which is a truly random thing to want to do, but... you never know!)."
   ]
  },
  {
   "cell_type": "code",
   "execution_count": null,
   "metadata": {},
   "outputs": [],
   "source": [
    "def split(s):\n",
    "    '''Splits name s by the first letter.'''\n",
    "    return s[:1], s[1:]"
   ]
  },
  {
   "cell_type": "markdown",
   "metadata": {},
   "source": [
    "Let's test to see if the function works, first:"
   ]
  },
  {
   "cell_type": "code",
   "execution_count": null,
   "metadata": {},
   "outputs": [],
   "source": [
    "split('Hargreeves')"
   ]
  },
  {
   "cell_type": "markdown",
   "metadata": {},
   "source": [
    "Now, only split **if** the name is longer than, say, 5 characters:"
   ]
  },
  {
   "cell_type": "code",
   "execution_count": null,
   "metadata": {},
   "outputs": [],
   "source": [
    "def split(s):\n",
    "    '''Splits name s by the first letter if name is longer than 5 characters.\n",
    "    If not, returns s.'''\n",
    "    if len(s) > 5:\n",
    "        return s[:1], s[1:]\n",
    "    else: return s"
   ]
  },
  {
   "cell_type": "code",
   "execution_count": null,
   "metadata": {},
   "outputs": [],
   "source": [
    "print(split('Hargreeves'))\n",
    "print(split('Pogo'))"
   ]
  },
  {
   "cell_type": "markdown",
   "metadata": {},
   "source": [
    "Finally, run a `for` loop on our array `tua` and run `split()` on each item in the array. We append the output to our empty array `splitnames` at each iteration."
   ]
  },
  {
   "cell_type": "code",
   "execution_count": null,
   "metadata": {},
   "outputs": [],
   "source": [
    "splitnames = make_array()\n",
    "for name in tua:\n",
    "    sn = split(name)\n",
    "    splitnames = np.append(splitnames, sn)\n",
    "splitnames"
   ]
  },
  {
   "cell_type": "markdown",
   "metadata": {},
   "source": [
    "That's it! In the next lecture, we will go over some ways in which user-defined functions can be helpful in speeding up our data visualization and analysis. We will do so in the context of a simple study in **sociolinguistics** (my favorite!)."
   ]
  }
 ],
 "metadata": {
  "kernelspec": {
   "display_name": "Python 3",
   "language": "python",
   "name": "python3"
  },
  "language_info": {
   "codemirror_mode": {
    "name": "ipython",
    "version": 3
   },
   "file_extension": ".py",
   "mimetype": "text/x-python",
   "name": "python",
   "nbconvert_exporter": "python",
   "pygments_lexer": "ipython3",
   "version": "3.6.9"
  }
 },
 "nbformat": 4,
 "nbformat_minor": 4
}
