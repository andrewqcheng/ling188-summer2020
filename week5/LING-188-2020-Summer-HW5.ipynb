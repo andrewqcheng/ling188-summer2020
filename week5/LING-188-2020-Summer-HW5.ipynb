{
 "cells": [
  {
   "cell_type": "markdown",
   "metadata": {},
   "source": [
    "**Replace the blanks with your full name and collaborators (if any)**\n",
    "\n",
    "Student Name `________________`\n",
    "Collaborator(s) `________________` "
   ]
  },
  {
   "cell_type": "markdown",
   "metadata": {},
   "source": [
    "# Homework 5: Sociolinguistic Field Methods\n",
    "This assignment is due **Sunday, August 9th, by 5PM**. Remember to acknowledge above if you collaborated on this assignment with other students.\n",
    "\n",
    "This assignment has 20 points and is worth 7% of your final grade (i.e., it is one of five equally-weighted homework assignments totalling 35% of your grade)."
   ]
  },
  {
   "cell_type": "markdown",
   "metadata": {},
   "source": [
    "## Introduction\n",
    "The data in this study was collected by David Durian and popularized by Keith Johnson's textbook *Quantitative Methods in Linguistics*. The data were collected using the *Rapid Anonymous Survey technique*: individuals were asked a question to prompt a particular linguistic variable. In this study, the researcher asked store clerks in Columbus, Ohio for directions, prompting them to say either the word \"street\" or \"straight\". The researcher pretended to mishear them, (\"Excuse me, what did you say?\"), leading the stranger to say the same word more emphatically. The researcher impressionalistically wrote down (out of sight) whether or not the speaker had said [str] or [ʃtr]."
   ]
  },
  {
   "cell_type": "markdown",
   "metadata": {},
   "source": [
    "## 0. Set up the notebook (1 pt)\n",
    "Run the 2 cells below. (1 pt)"
   ]
  },
  {
   "cell_type": "code",
   "execution_count": null,
   "metadata": {},
   "outputs": [],
   "source": [
    "# run this cell\n",
    "from datascience import *\n",
    "import numpy as np\n",
    "import matplotlib.pyplot as plt\n",
    "%matplotlib inline\n",
    "import seaborn as sns\n",
    "import string\n",
    "import re\n",
    "from scipy.stats import pearsonr"
   ]
  },
  {
   "cell_type": "markdown",
   "metadata": {},
   "source": [
    "## 1. Read in the data  (1 pt)\n",
    "Load Durian's dataset (from the file \"wk5-str.csv\") as a `Table` and name this variable `m`. How many columns and rows are in this dataset?"
   ]
  },
  {
   "cell_type": "code",
   "execution_count": null,
   "metadata": {},
   "outputs": [],
   "source": [
    "# write your code here"
   ]
  },
  {
   "cell_type": "markdown",
   "metadata": {},
   "source": [
    "There are `___` columns and `___` rows in `m`. (1 pt)"
   ]
  },
  {
   "cell_type": "code",
   "execution_count": null,
   "metadata": {},
   "outputs": [],
   "source": [
    "# write your code here"
   ]
  },
  {
   "cell_type": "markdown",
   "metadata": {},
   "source": [
    "A brief refresher on the column labels:\n",
    "\n",
    "- str: whether the speaker said \"str\" or \"shtr\" (that is [str] or [ʃtr])\n",
    "    - strnumbers: the same as above but coded in binary (0 or 1)\n",
    "- emphatic: whether the context was more emphatic (i.e., whether it was after \"Excuse me, what did you say?\") or less (i.e., at the first prompting).\n",
    "- gender: perceived gender of the participant\n",
    "- age: perceived age of the speaker as young (15-30), mid (35-50) or old (55-70)\n",
    "    - ageletters: the same as above, but coded as letters\n",
    "- Mall: the name of the mall the store clerk worked at\n",
    "    - region: the same as above, but coded as numbers\n",
    "- store: the name of the store the store clerk worked at\n",
    "- class: codes economic class with three levels (Working Class, Lower Middle Class and Upper Middle Class)\n",
    "    - classnumbers: the same as above but coded as numbers\n",
    "- bank: codes economic class using five levels (Middle Working Class, Upper Working Middle Class, Lower Middle Class, Mid-Middle Class, Upper Middle Class)\n",
    "    - banknumbers: the same as above but coded as numbers\n",
    "\n",
    "The variables \"style\" and \"job\" will not be used here."
   ]
  },
  {
   "cell_type": "markdown",
   "metadata": {},
   "source": [
    "## 2. Analyze the relationship between \"str\" and \"emphatic\" (5 pts)\n",
    "a. How many observations (rows) in `m` are there for each value of the variable \"str\"? For each variable of \"emphatic\" (i.e., 'less' vs. 'more')?"
   ]
  },
  {
   "cell_type": "code",
   "execution_count": null,
   "metadata": {},
   "outputs": [],
   "source": [
    "# write your code here"
   ]
  },
  {
   "cell_type": "markdown",
   "metadata": {},
   "source": [
    "*Write your long answer here.* (1 pt)"
   ]
  },
  {
   "cell_type": "markdown",
   "metadata": {},
   "source": [
    "b. Which variable is the *dependent variable* (i.e., which variable would you expect to be impacted by the other variable)?"
   ]
  },
  {
   "cell_type": "markdown",
   "metadata": {},
   "source": [
    "*Write your long answer here.* (1 pt)"
   ]
  },
  {
   "cell_type": "markdown",
   "metadata": {},
   "source": [
    "c. Which variant of the variable \"str\" is more common in emphatic circumstances?"
   ]
  },
  {
   "cell_type": "code",
   "execution_count": null,
   "metadata": {},
   "outputs": [],
   "source": [
    "# write your code here"
   ]
  },
  {
   "cell_type": "markdown",
   "metadata": {},
   "source": [
    "*Write your long answer here.* (1 pt)"
   ]
  },
  {
   "cell_type": "markdown",
   "metadata": {},
   "source": [
    "d. Create a visualization that shows this relationship. Remember to label your axes and provide a title. (1 pt)"
   ]
  },
  {
   "cell_type": "code",
   "execution_count": null,
   "metadata": {},
   "outputs": [],
   "source": [
    "# write your code here"
   ]
  },
  {
   "cell_type": "markdown",
   "metadata": {},
   "source": [
    "e. Which type of visualization did you choose and why?"
   ]
  },
  {
   "cell_type": "markdown",
   "metadata": {},
   "source": [
    "*Write your long answer here.* (1 pt)"
   ]
  },
  {
   "cell_type": "markdown",
   "metadata": {},
   "source": [
    "## 3. Define a custom plotting function (5 pts)\n",
    "\n",
    "a. Define a function called `plot_region()` that takes as its argument one of the values in the column 'region' (or 'Mall', as they are equivalent). This function should do the following:\n",
    "\n",
    "- Subset the data in `m` for only the observations from the specified region, and only instances in which 'emphatic' is 'less'. (1 pt)\n",
    "- Calculate the number of participants from the specified region (1 pt)\n",
    "- Calculate the overall [str] ratio (occurences of [str] divided by number of participants) (1 pt)\n",
    "- Visualize the [str] ratio, grouped by gender and age. Include plot titles and axes that reference the specified region. (1 pt)"
   ]
  },
  {
   "cell_type": "code",
   "execution_count": null,
   "metadata": {},
   "outputs": [],
   "source": [
    "# write your code here"
   ]
  },
  {
   "cell_type": "markdown",
   "metadata": {},
   "source": [
    "b. Demonstrate that your function works by calling `plot_region()` on all three regions. (1 pt)"
   ]
  },
  {
   "cell_type": "code",
   "execution_count": null,
   "metadata": {},
   "outputs": [],
   "source": [
    "# write your code here"
   ]
  },
  {
   "cell_type": "code",
   "execution_count": null,
   "metadata": {},
   "outputs": [],
   "source": [
    "# write your code here"
   ]
  },
  {
   "cell_type": "code",
   "execution_count": null,
   "metadata": {},
   "outputs": [],
   "source": [
    "# write your code here"
   ]
  },
  {
   "cell_type": "markdown",
   "metadata": {},
   "source": [
    "## 4. Define a custom string manipulation function (4 pts)\n",
    "\n",
    "a. Define a function called `fix_string()` that takes a string as its argument. This function should do the following:\n",
    "\n",
    "- Properly capitalize a string, such as 'walmart' --> 'Walmart', 'best buy' --> 'Best Buy', 'udf' --> 'UDF', etc. (1 pt)\n",
    "- \"Spell check\" in such a way that 'kauffmans' --> 'Kaufmanns', 'lazurus' --> 'Lazarus', 'eddiebower' --> 'Eddie Bauer', 'ccfoodct' --> 'CC Food Court', etc. (There may be several different ways to do this, but almost all of them will require conditional statements.) (1 pt)"
   ]
  },
  {
   "cell_type": "code",
   "execution_count": null,
   "metadata": {},
   "outputs": [],
   "source": [
    "# write your code here"
   ]
  },
  {
   "cell_type": "markdown",
   "metadata": {},
   "source": [
    "b. Use `.apply()` to run `fix_string()` on the column 'store' in `m`. (1 pt)"
   ]
  },
  {
   "cell_type": "code",
   "execution_count": null,
   "metadata": {},
   "outputs": [],
   "source": [
    "# write your code here"
   ]
  },
  {
   "cell_type": "markdown",
   "metadata": {},
   "source": [
    "c. Add the output as a new column in `m` called 'store_new'. (1 pt)"
   ]
  },
  {
   "cell_type": "code",
   "execution_count": null,
   "metadata": {},
   "outputs": [],
   "source": [
    "# write your code here"
   ]
  },
  {
   "cell_type": "markdown",
   "metadata": {},
   "source": [
    "## 5. Define a custom summarizing function (4 pts)\n",
    "\n",
    "a. Define a function called `profile()` that takes as its argument one of the values in the column 'participant number'. This function should do the following:\n",
    "\n",
    "- Return a print statement that describes the participant's perceived gender and age, explains where they were encountered (store and mall), and whether they used [str] or [ʃtr]. For example, your print statement might look something like this: \n",
    "\n",
    "**\"Participant 34 was a person perceived to be female and between 35 and 50 years old. They were encountered at the Walmart in Easton. In the less emphatic condition, they used 'shtr', and in the more emphatic condition, they used 'shtr'.\"** (1 pt)\n",
    "\n",
    "- Include a conditional statement in your function such that if the participant used different variants in the two conditions, your print statement (or an additional print statement) describes the change. For example:\n",
    "\n",
    "**\"Participant 39 was a person perceived to be female [...] In the less emphatic condition, they used 'shtr', and in the more emphatic condition, they used 'str', which indicates a change in production between conditions.\"** (1 pt)"
   ]
  },
  {
   "cell_type": "code",
   "execution_count": null,
   "metadata": {},
   "outputs": [],
   "source": [
    "# write your code here"
   ]
  },
  {
   "cell_type": "markdown",
   "metadata": {},
   "source": [
    "b. How many of the participants used different variants in the two conditions? How many were in each gender and age group? *(Hint: you will not use the `profile()` function you defined above to do this, but you will need to use Booleans and some method of counting them, probably within a new function that takes gender and age group as arguments.)*"
   ]
  },
  {
   "cell_type": "code",
   "execution_count": null,
   "metadata": {},
   "outputs": [],
   "source": [
    "# write your code here"
   ]
  },
  {
   "cell_type": "markdown",
   "metadata": {},
   "source": [
    "In the female/young group, `___` participants used different variants in the two conditions.\n",
    "\n",
    "In the female/mid group, `___` participants used different variants in the two conditions.\n",
    "\n",
    "In the female/old group, `___` participants used different variants in the two conditions.\n",
    "\n",
    "In the male/young group, `___` participants used different variants in the two conditions.\n",
    "\n",
    "In the male/mid group, `___` participants used different variants in the two conditions.\n",
    "\n",
    "In the male/old group, `___` participants used different variants in the two conditions. (1 pt)"
   ]
  },
  {
   "cell_type": "markdown",
   "metadata": {},
   "source": [
    "c. If you were speaking on the phone to a person from Columbus, Ohio, and you heard them say, \"I heard a *shtrange* story the other day...\" what hypothesis might you make about their demographic background? (There are no right or wrong answers to this question, just think about how the data you've analyzed might give you some insight.)"
   ]
  },
  {
   "cell_type": "markdown",
   "metadata": {},
   "source": [
    "*Write your long answer here.* (1 pt)"
   ]
  },
  {
   "cell_type": "markdown",
   "metadata": {},
   "source": [
    "## 6. Conclusion"
   ]
  },
  {
   "cell_type": "markdown",
   "metadata": {},
   "source": [
    "That's it! Be sure to:\n",
    "\n",
    "- save your progress in this notebook\n",
    "- download it to your machine (`File --> Download As --> Notebook (.ipynb)`)\n",
    "- title the document as `HW5_LastName` (e.g. `HW5_Cheng`)\n",
    "- turn it in by uploading it to 'Assignments' on bCourses."
   ]
  }
 ],
 "metadata": {
  "kernelspec": {
   "display_name": "Python 3",
   "language": "python",
   "name": "python3"
  },
  "language_info": {
   "codemirror_mode": {
    "name": "ipython",
    "version": 3
   },
   "file_extension": ".py",
   "mimetype": "text/x-python",
   "name": "python",
   "nbconvert_exporter": "python",
   "pygments_lexer": "ipython3",
   "version": "3.6.9"
  }
 },
 "nbformat": 4,
 "nbformat_minor": 4
}
